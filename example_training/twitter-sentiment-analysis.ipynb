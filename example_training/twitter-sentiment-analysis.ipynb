{
 "cells": [
  {
   "cell_type": "markdown",
   "metadata": {
    "_uuid": "92b885dd147dac19bd0a33db3cd0da100bd5bc23"
   },
   "source": [
    "# Twitter Sentiment Analysis"
   ]
  },
  {
   "cell_type": "code",
   "execution_count": 1,
   "metadata": {
    "ExecuteTime": {
     "end_time": "2020-10-28T19:58:28.107719Z",
     "start_time": "2020-10-28T19:58:15.045773Z"
    },
    "_uuid": "70282bce8b42a51e4d44f2c7d85c4ca9567b0fd4"
   },
   "outputs": [
    {
     "name": "stdout",
     "output_type": "stream",
     "text": [
      "Requirement already up-to-date: gensim in /Applications/anaconda3/lib/python3.7/site-packages (3.8.3)\n",
      "Requirement already satisfied, skipping upgrade: smart-open>=1.8.1 in /Applications/anaconda3/lib/python3.7/site-packages (from gensim) (3.0.0)\n",
      "Requirement already satisfied, skipping upgrade: numpy>=1.11.3 in /Users/edisongu/.local/lib/python3.7/site-packages (from gensim) (1.18.1)\n",
      "Requirement already satisfied, skipping upgrade: scipy>=0.18.1 in /Applications/anaconda3/lib/python3.7/site-packages (from gensim) (1.3.1)\n",
      "Requirement already satisfied, skipping upgrade: six>=1.5.0 in /Applications/anaconda3/lib/python3.7/site-packages (from gensim) (1.13.0)\n",
      "Requirement already satisfied, skipping upgrade: requests in /Applications/anaconda3/lib/python3.7/site-packages (from smart-open>=1.8.1->gensim) (2.22.0)\n",
      "Requirement already satisfied, skipping upgrade: idna<2.9,>=2.5 in /Applications/anaconda3/lib/python3.7/site-packages (from requests->smart-open>=1.8.1->gensim) (2.8)\n",
      "Requirement already satisfied, skipping upgrade: urllib3!=1.25.0,!=1.25.1,<1.26,>=1.21.1 in /Applications/anaconda3/lib/python3.7/site-packages (from requests->smart-open>=1.8.1->gensim) (1.24.2)\n",
      "Requirement already satisfied, skipping upgrade: certifi>=2017.4.17 in /Applications/anaconda3/lib/python3.7/site-packages (from requests->smart-open>=1.8.1->gensim) (2020.6.20)\n",
      "Requirement already satisfied, skipping upgrade: chardet<3.1.0,>=3.0.2 in /Applications/anaconda3/lib/python3.7/site-packages (from requests->smart-open>=1.8.1->gensim) (3.0.4)\n",
      "\u001b[33mWARNING: You are using pip version 20.2.3; however, version 20.2.4 is available.\n",
      "You should consider upgrading via the '/Applications/anaconda3/bin/python -m pip install --upgrade pip' command.\u001b[0m\n",
      "Requirement already up-to-date: keras in /Applications/anaconda3/lib/python3.7/site-packages (2.4.3)\n",
      "Requirement already satisfied, skipping upgrade: numpy>=1.9.1 in /Users/edisongu/.local/lib/python3.7/site-packages (from keras) (1.18.1)\n",
      "Requirement already satisfied, skipping upgrade: scipy>=0.14 in /Applications/anaconda3/lib/python3.7/site-packages (from keras) (1.3.1)\n",
      "Requirement already satisfied, skipping upgrade: pyyaml in /Applications/anaconda3/lib/python3.7/site-packages (from keras) (5.1.2)\n",
      "Requirement already satisfied, skipping upgrade: h5py in /Applications/anaconda3/lib/python3.7/site-packages (from keras) (2.10.0)\n",
      "Requirement already satisfied, skipping upgrade: six in /Applications/anaconda3/lib/python3.7/site-packages (from h5py->keras) (1.13.0)\n",
      "\u001b[33mWARNING: You are using pip version 20.2.3; however, version 20.2.4 is available.\n",
      "You should consider upgrading via the '/Applications/anaconda3/bin/python -m pip install --upgrade pip' command.\u001b[0m\n",
      "Requirement already up-to-date: pandas in /Applications/anaconda3/lib/python3.7/site-packages (1.1.3)\n",
      "Requirement already satisfied, skipping upgrade: pytz>=2017.2 in /Applications/anaconda3/lib/python3.7/site-packages (from pandas) (2019.3)\n",
      "Requirement already satisfied, skipping upgrade: numpy>=1.15.4 in /Users/edisongu/.local/lib/python3.7/site-packages (from pandas) (1.18.1)\n",
      "Requirement already satisfied, skipping upgrade: python-dateutil>=2.7.3 in /Applications/anaconda3/lib/python3.7/site-packages (from pandas) (2.8.1)\n",
      "Requirement already satisfied, skipping upgrade: six>=1.5 in /Applications/anaconda3/lib/python3.7/site-packages (from python-dateutil>=2.7.3->pandas) (1.13.0)\n",
      "\u001b[33mWARNING: You are using pip version 20.2.3; however, version 20.2.4 is available.\n",
      "You should consider upgrading via the '/Applications/anaconda3/bin/python -m pip install --upgrade pip' command.\u001b[0m\n"
     ]
    }
   ],
   "source": [
    "!pip install gensim --upgrade\n",
    "!pip install keras --upgrade\n",
    "!pip install pandas --upgrade"
   ]
  },
  {
   "cell_type": "code",
   "execution_count": 2,
   "metadata": {
    "ExecuteTime": {
     "end_time": "2020-10-28T19:58:40.298100Z",
     "start_time": "2020-10-28T19:58:28.110951Z"
    },
    "_uuid": "303e72966af732ddef0bd8108a321095314e44af"
   },
   "outputs": [],
   "source": [
    "# DataFrame\n",
    "import pandas as pd\n",
    "\n",
    "# Matplot\n",
    "import matplotlib.pyplot as plt\n",
    "%matplotlib inline\n",
    "\n",
    "# Scikit-learn\n",
    "from sklearn.model_selection import train_test_split\n",
    "from sklearn.preprocessing import LabelEncoder\n",
    "from sklearn.metrics import confusion_matrix, classification_report, accuracy_score\n",
    "from sklearn.manifold import TSNE\n",
    "from sklearn.feature_extraction.text import TfidfVectorizer\n",
    "\n",
    "# Keras\n",
    "from keras.preprocessing.text import Tokenizer\n",
    "from keras.preprocessing.sequence import pad_sequences\n",
    "from keras.models import Sequential\n",
    "from keras.layers import Activation, Dense, Dropout, Embedding, Flatten, Conv1D, MaxPooling1D, LSTM\n",
    "from keras import utils\n",
    "from keras.callbacks import ReduceLROnPlateau, EarlyStopping\n",
    "\n",
    "# nltk\n",
    "import nltk\n",
    "from nltk.corpus import stopwords\n",
    "from  nltk.stem import SnowballStemmer\n",
    "\n",
    "# Word2vec\n",
    "import gensim\n",
    "\n",
    "# Utility\n",
    "import re\n",
    "import numpy as np\n",
    "import os\n",
    "from collections import Counter\n",
    "import logging\n",
    "import time\n",
    "import pickle\n",
    "import itertools\n",
    "\n",
    "# Set log\n",
    "logging.basicConfig(format='%(asctime)s : %(levelname)s : %(message)s', level=logging.INFO)"
   ]
  },
  {
   "cell_type": "code",
   "execution_count": 3,
   "metadata": {
    "ExecuteTime": {
     "end_time": "2020-10-28T19:58:40.778533Z",
     "start_time": "2020-10-28T19:58:40.310847Z"
    },
    "_uuid": "35e1a89dead5fd160e4c9a024a21d2e569fc89ff"
   },
   "outputs": [
    {
     "name": "stderr",
     "output_type": "stream",
     "text": [
      "[nltk_data] Downloading package stopwords to\n",
      "[nltk_data]     /Users/edisongu/nltk_data...\n",
      "[nltk_data]   Package stopwords is already up-to-date!\n"
     ]
    },
    {
     "data": {
      "text/plain": [
       "True"
      ]
     },
     "execution_count": 3,
     "metadata": {},
     "output_type": "execute_result"
    }
   ],
   "source": [
    "nltk.download('stopwords')"
   ]
  },
  {
   "cell_type": "markdown",
   "metadata": {
    "_uuid": "e8b01a07df001e4abcc745900336c4db06e455f3"
   },
   "source": [
    "### Settings"
   ]
  },
  {
   "cell_type": "code",
   "execution_count": 4,
   "metadata": {
    "ExecuteTime": {
     "end_time": "2020-10-28T19:58:40.804947Z",
     "start_time": "2020-10-28T19:58:40.782338Z"
    },
    "_uuid": "180f0dd2a95419e4602b5c0229822b0111c826f6"
   },
   "outputs": [],
   "source": [
    "# DATASET\n",
    "DATASET_COLUMNS = [\"target\", \"ids\", \"date\", \"flag\", \"user\", \"text\"]\n",
    "DATASET_ENCODING = \"ISO-8859-1\"\n",
    "TRAIN_SIZE = 0.8\n",
    "\n",
    "# TEXT CLENAING\n",
    "TEXT_CLEANING_RE = \"@\\S+|https?:\\S+|http?:\\S|[^A-Za-z0-9]+\"\n",
    "\n",
    "# WORD2VEC \n",
    "W2V_SIZE = 300\n",
    "W2V_WINDOW = 7\n",
    "W2V_EPOCH = 32\n",
    "W2V_MIN_COUNT = 10\n",
    "\n",
    "# KERAS\n",
    "SEQUENCE_LENGTH = 300\n",
    "EPOCHS = 8\n",
    "BATCH_SIZE = 1024\n",
    "\n",
    "# SENTIMENT\n",
    "POSITIVE = \"POSITIVE\"\n",
    "NEGATIVE = \"NEGATIVE\"\n",
    "NEUTRAL = \"NEUTRAL\"\n",
    "SENTIMENT_THRESHOLDS = (0.4, 0.7)\n",
    "\n",
    "# EXPORT\n",
    "KERAS_MODEL = \"model.h5\"\n",
    "WORD2VEC_MODEL = \"model.w2v\"\n",
    "TOKENIZER_MODEL = \"tokenizer.pkl\"\n",
    "ENCODER_MODEL = \"encoder.pkl\""
   ]
  },
  {
   "cell_type": "markdown",
   "metadata": {
    "_uuid": "1c3beecc618be68480b3d4f0de08d9d863da1dc1"
   },
   "source": [
    "### Read Dataset"
   ]
  },
  {
   "cell_type": "markdown",
   "metadata": {
    "_uuid": "563b3c44f1092dba0b853747b098e00509098cca"
   },
   "source": [
    "### Dataset details\n",
    "* **target**: the polarity of the tweet (0 = negative, 2 = neutral, 4 = positive)\n",
    "* **ids**: The id of the tweet ( 2087)\n",
    "* **date**: the date of the tweet (Sat May 16 23:58:44 UTC 2009)\n",
    "* **flag**: The query (lyx). If there is no query, then this value is NO_QUERY.\n",
    "* **user**: the user that tweeted (robotickilldozr)\n",
    "* **text**: the text of the tweet (Lyx is cool)"
   ]
  },
  {
   "cell_type": "code",
   "execution_count": 5,
   "metadata": {
    "ExecuteTime": {
     "end_time": "2020-10-28T19:58:46.741353Z",
     "start_time": "2020-10-28T19:58:40.820429Z"
    },
    "_uuid": "bba8f91cd70de4f5ea0fb0870ae2029b6e3dcc24"
   },
   "outputs": [
    {
     "name": "stdout",
     "output_type": "stream",
     "text": [
      "Open file: ./input/training.1600000.processed.noemoticon.csv\n"
     ]
    }
   ],
   "source": [
    "dataset_filename = os.listdir(\"./input\")[0]\n",
    "dataset_path = os.path.join(\".\",\"input\",dataset_filename)\n",
    "print(\"Open file:\", dataset_path)\n",
    "df = pd.read_csv(dataset_path, encoding =DATASET_ENCODING , names=DATASET_COLUMNS)"
   ]
  },
  {
   "cell_type": "code",
   "execution_count": 6,
   "metadata": {
    "ExecuteTime": {
     "end_time": "2020-10-28T19:58:46.760994Z",
     "start_time": "2020-10-28T19:58:46.744221Z"
    },
    "_uuid": "936d499c00c4f1648bc16ca9d283c3b39be7fb10"
   },
   "outputs": [
    {
     "name": "stdout",
     "output_type": "stream",
     "text": [
      "Dataset size: 1600000\n"
     ]
    }
   ],
   "source": [
    "print(\"Dataset size:\", len(df))"
   ]
  },
  {
   "cell_type": "code",
   "execution_count": 7,
   "metadata": {
    "ExecuteTime": {
     "end_time": "2020-10-28T19:58:46.944072Z",
     "start_time": "2020-10-28T19:58:46.780379Z"
    },
    "_uuid": "7486ed895b813c5246f97b31b6162b0f65ff763b"
   },
   "outputs": [
    {
     "data": {
      "text/html": [
       "<div>\n",
       "<style scoped>\n",
       "    .dataframe tbody tr th:only-of-type {\n",
       "        vertical-align: middle;\n",
       "    }\n",
       "\n",
       "    .dataframe tbody tr th {\n",
       "        vertical-align: top;\n",
       "    }\n",
       "\n",
       "    .dataframe thead th {\n",
       "        text-align: right;\n",
       "    }\n",
       "</style>\n",
       "<table border=\"1\" class=\"dataframe\">\n",
       "  <thead>\n",
       "    <tr style=\"text-align: right;\">\n",
       "      <th></th>\n",
       "      <th>target</th>\n",
       "      <th>ids</th>\n",
       "      <th>date</th>\n",
       "      <th>flag</th>\n",
       "      <th>user</th>\n",
       "      <th>text</th>\n",
       "    </tr>\n",
       "  </thead>\n",
       "  <tbody>\n",
       "    <tr>\n",
       "      <th>0</th>\n",
       "      <td>0</td>\n",
       "      <td>1467810369</td>\n",
       "      <td>Mon Apr 06 22:19:45 PDT 2009</td>\n",
       "      <td>NO_QUERY</td>\n",
       "      <td>_TheSpecialOne_</td>\n",
       "      <td>@switchfoot http://twitpic.com/2y1zl - Awww, t...</td>\n",
       "    </tr>\n",
       "    <tr>\n",
       "      <th>1</th>\n",
       "      <td>0</td>\n",
       "      <td>1467810672</td>\n",
       "      <td>Mon Apr 06 22:19:49 PDT 2009</td>\n",
       "      <td>NO_QUERY</td>\n",
       "      <td>scotthamilton</td>\n",
       "      <td>is upset that he can't update his Facebook by ...</td>\n",
       "    </tr>\n",
       "    <tr>\n",
       "      <th>2</th>\n",
       "      <td>0</td>\n",
       "      <td>1467810917</td>\n",
       "      <td>Mon Apr 06 22:19:53 PDT 2009</td>\n",
       "      <td>NO_QUERY</td>\n",
       "      <td>mattycus</td>\n",
       "      <td>@Kenichan I dived many times for the ball. Man...</td>\n",
       "    </tr>\n",
       "    <tr>\n",
       "      <th>3</th>\n",
       "      <td>0</td>\n",
       "      <td>1467811184</td>\n",
       "      <td>Mon Apr 06 22:19:57 PDT 2009</td>\n",
       "      <td>NO_QUERY</td>\n",
       "      <td>ElleCTF</td>\n",
       "      <td>my whole body feels itchy and like its on fire</td>\n",
       "    </tr>\n",
       "    <tr>\n",
       "      <th>4</th>\n",
       "      <td>0</td>\n",
       "      <td>1467811193</td>\n",
       "      <td>Mon Apr 06 22:19:57 PDT 2009</td>\n",
       "      <td>NO_QUERY</td>\n",
       "      <td>Karoli</td>\n",
       "      <td>@nationwideclass no, it's not behaving at all....</td>\n",
       "    </tr>\n",
       "  </tbody>\n",
       "</table>\n",
       "</div>"
      ],
      "text/plain": [
       "   target         ids                          date      flag  \\\n",
       "0       0  1467810369  Mon Apr 06 22:19:45 PDT 2009  NO_QUERY   \n",
       "1       0  1467810672  Mon Apr 06 22:19:49 PDT 2009  NO_QUERY   \n",
       "2       0  1467810917  Mon Apr 06 22:19:53 PDT 2009  NO_QUERY   \n",
       "3       0  1467811184  Mon Apr 06 22:19:57 PDT 2009  NO_QUERY   \n",
       "4       0  1467811193  Mon Apr 06 22:19:57 PDT 2009  NO_QUERY   \n",
       "\n",
       "              user                                               text  \n",
       "0  _TheSpecialOne_  @switchfoot http://twitpic.com/2y1zl - Awww, t...  \n",
       "1    scotthamilton  is upset that he can't update his Facebook by ...  \n",
       "2         mattycus  @Kenichan I dived many times for the ball. Man...  \n",
       "3          ElleCTF    my whole body feels itchy and like its on fire   \n",
       "4           Karoli  @nationwideclass no, it's not behaving at all....  "
      ]
     },
     "execution_count": 7,
     "metadata": {},
     "output_type": "execute_result"
    }
   ],
   "source": [
    "df.head(5)"
   ]
  },
  {
   "cell_type": "markdown",
   "metadata": {
    "_uuid": "3f9a7bb129e184967b13261fb5d253af451c75c5"
   },
   "source": [
    "### Map target label to String\n",
    "* **0** -> **NEGATIVE**\n",
    "* **2** -> **NEUTRAL**\n",
    "* **4** -> **POSITIVE**"
   ]
  },
  {
   "cell_type": "code",
   "execution_count": 8,
   "metadata": {
    "ExecuteTime": {
     "end_time": "2020-10-28T19:58:46.980139Z",
     "start_time": "2020-10-28T19:58:46.974540Z"
    },
    "_uuid": "14074b59106cb9550440839e48b832223fc9502f"
   },
   "outputs": [],
   "source": [
    "decode_map = {0: \"NEGATIVE\", 2: \"NEUTRAL\", 4: \"POSITIVE\"}\n",
    "def decode_sentiment(label):\n",
    "    return decode_map[int(label)]"
   ]
  },
  {
   "cell_type": "code",
   "execution_count": 9,
   "metadata": {
    "ExecuteTime": {
     "end_time": "2020-10-28T19:58:48.660724Z",
     "start_time": "2020-10-28T19:58:47.041083Z"
    },
    "_uuid": "4449d473187f647a195a6ac6986b009da32a7f4b"
   },
   "outputs": [
    {
     "name": "stdout",
     "output_type": "stream",
     "text": [
      "CPU times: user 578 ms, sys: 17.6 ms, total: 596 ms\n",
      "Wall time: 1.57 s\n"
     ]
    }
   ],
   "source": [
    "%%time\n",
    "df.target = df.target.apply(lambda x: decode_sentiment(x))"
   ]
  },
  {
   "cell_type": "code",
   "execution_count": 10,
   "metadata": {
    "ExecuteTime": {
     "end_time": "2020-10-28T19:58:49.539735Z",
     "start_time": "2020-10-28T19:58:48.693066Z"
    },
    "_uuid": "19eb327803192f31cce3512aacb232f4d6b38715"
   },
   "outputs": [
    {
     "data": {
      "text/plain": [
       "Text(0.5, 1.0, 'Dataset labels distribuition')"
      ]
     },
     "execution_count": 10,
     "metadata": {},
     "output_type": "execute_result"
    },
    {
     "data": {
      "image/png": "[encoded data removed]",
      "text/plain": [
       "<Figure size 1152x576 with 1 Axes>"
      ]
     },
     "metadata": {
      "needs_background": "light"
     },
     "output_type": "display_data"
    }
   ],
   "source": [
    "target_cnt = Counter(df.target)\n",
    "\n",
    "plt.figure(figsize=(16,8))\n",
    "plt.bar(target_cnt.keys(), target_cnt.values())\n",
    "plt.title(\"Dataset labels distribuition\")"
   ]
  },
  {
   "cell_type": "markdown",
   "metadata": {
    "_uuid": "4329b1573518b03e497213efa7676220734ebb4b"
   },
   "source": [
    "### Pre-Process dataset"
   ]
  },
  {
   "cell_type": "code",
   "execution_count": 11,
   "metadata": {
    "ExecuteTime": {
     "end_time": "2020-10-28T19:58:49.596391Z",
     "start_time": "2020-10-28T19:58:49.543069Z"
    },
    "_uuid": "8aeee8b7b9ea11b749c7f91cd4787a7b50ed1a91"
   },
   "outputs": [],
   "source": [
    "stop_words = stopwords.words(\"english\")\n",
    "stemmer = SnowballStemmer(\"english\")"
   ]
  },
  {
   "cell_type": "code",
   "execution_count": 12,
   "metadata": {
    "ExecuteTime": {
     "end_time": "2020-10-28T19:58:49.645091Z",
     "start_time": "2020-10-28T19:58:49.599942Z"
    },
    "_uuid": "649ebcb97969b9ac4301138783704bb3d7846a49"
   },
   "outputs": [],
   "source": [
    "def preprocess(text, stem=False):\n",
    "    # Remove link,user and special characters\n",
    "    text = re.sub(TEXT_CLEANING_RE, ' ', str(text).lower()).strip()\n",
    "    tokens = []\n",
    "    for token in text.split():\n",
    "        if token not in stop_words:\n",
    "            if stem:\n",
    "                tokens.append(stemmer.stem(token))\n",
    "            else:\n",
    "                tokens.append(token)\n",
    "    return \" \".join(tokens)"
   ]
  },
  {
   "cell_type": "code",
   "execution_count": 13,
   "metadata": {
    "ExecuteTime": {
     "end_time": "2020-10-28T20:00:06.134808Z",
     "start_time": "2020-10-28T19:58:49.660351Z"
    },
    "_uuid": "f7f3e77ab9291d14687c49e71ba9b2b1e3323432"
   },
   "outputs": [
    {
     "name": "stdout",
     "output_type": "stream",
     "text": [
      "CPU times: user 55.2 s, sys: 951 ms, total: 56.1 s\n",
      "Wall time: 1min 16s\n"
     ]
    }
   ],
   "source": [
    "%%time\n",
    "df.text = df.text.apply(lambda x: preprocess(x))"
   ]
  },
  {
   "cell_type": "markdown",
   "metadata": {
    "_uuid": "f5f9714a8507409bbe780eebf2855a33e8e6ba37"
   },
   "source": [
    "### Split train and test"
   ]
  },
  {
   "cell_type": "code",
   "execution_count": 14,
   "metadata": {
    "ExecuteTime": {
     "end_time": "2020-10-28T20:00:08.353808Z",
     "start_time": "2020-10-28T20:00:06.154459Z"
    },
    "_uuid": "d2b1179c968e3f3910c790ecf0c5b2cbb34b0e68"
   },
   "outputs": [
    {
     "name": "stdout",
     "output_type": "stream",
     "text": [
      "TRAIN size: 1280000\n",
      "TEST size: 320000\n"
     ]
    }
   ],
   "source": [
    "df_train, df_test = train_test_split(df, test_size=1-TRAIN_SIZE, random_state=42)\n",
    "print(\"TRAIN size:\", len(df_train))\n",
    "print(\"TEST size:\", len(df_test))"
   ]
  },
  {
   "cell_type": "markdown",
   "metadata": {
    "_uuid": "f08a28aab2c3d16d8b9681a7d5d07587153a1cd6"
   },
   "source": [
    "### Word2Vec "
   ]
  },
  {
   "cell_type": "code",
   "execution_count": 15,
   "metadata": {
    "ExecuteTime": {
     "end_time": "2020-10-28T20:00:13.447014Z",
     "start_time": "2020-10-28T20:00:08.356788Z"
    },
    "_uuid": "2461bf564de1b4414841933d0c1d1bee5f5cc5a6"
   },
   "outputs": [
    {
     "name": "stdout",
     "output_type": "stream",
     "text": [
      "CPU times: user 2.77 s, sys: 365 ms, total: 3.14 s\n",
      "Wall time: 5.07 s\n"
     ]
    }
   ],
   "source": [
    "%%time\n",
    "documents = [_text.split() for _text in df_train.text] "
   ]
  },
  {
   "cell_type": "code",
   "execution_count": 16,
   "metadata": {
    "ExecuteTime": {
     "end_time": "2020-10-28T20:00:13.467414Z",
     "start_time": "2020-10-28T20:00:13.451105Z"
    },
    "_uuid": "8e19b9f25801ba86420decc266d2b3e6fb44f1ea"
   },
   "outputs": [],
   "source": [
    "w2v_model = gensim.models.word2vec.Word2Vec(size=W2V_SIZE, \n",
    "                                            window=W2V_WINDOW, \n",
    "                                            min_count=W2V_MIN_COUNT, \n",
    "                                            workers=8)"
   ]
  },
  {
   "cell_type": "code",
   "execution_count": 17,
   "metadata": {
    "ExecuteTime": {
     "end_time": "2020-10-28T20:00:29.440158Z",
     "start_time": "2020-10-28T20:00:13.469753Z"
    },
    "_uuid": "58d655af07653c594bec6bebcfb302a973b0ad9c"
   },
   "outputs": [
    {
     "name": "stderr",
     "output_type": "stream",
     "text": [
      "2020-10-28 16:00:13,482 : INFO : collecting all words and their counts\n",
      "2020-10-28 16:00:13,662 : INFO : PROGRESS: at sentence #0, processed 0 words, keeping 0 word types\n",
      "2020-10-28 16:00:14,186 : INFO : PROGRESS: at sentence #10000, processed 72565 words, keeping 14005 word types\n",
      "2020-10-28 16:00:14,217 : INFO : PROGRESS: at sentence #20000, processed 144393 words, keeping 21587 word types\n",
      "2020-10-28 16:00:14,318 : INFO : PROGRESS: at sentence #30000, processed 215826 words, keeping 27541 word types\n",
      "2020-10-28 16:00:14,341 : INFO : PROGRESS: at sentence #40000, processed 288271 words, keeping 32764 word types\n",
      "2020-10-28 16:00:14,428 : INFO : PROGRESS: at sentence #50000, processed 359772 words, keeping 37587 word types\n",
      "2020-10-28 16:00:14,451 : INFO : PROGRESS: at sentence #60000, processed 431431 words, keeping 42198 word types\n",
      "2020-10-28 16:00:14,489 : INFO : PROGRESS: at sentence #70000, processed 503103 words, keeping 46458 word types\n",
      "2020-10-28 16:00:14,558 : INFO : PROGRESS: at sentence #80000, processed 575709 words, keeping 50476 word types\n",
      "2020-10-28 16:00:14,602 : INFO : PROGRESS: at sentence #90000, processed 647100 words, keeping 54140 word types\n",
      "2020-10-28 16:00:14,680 : INFO : PROGRESS: at sentence #100000, processed 718681 words, keeping 57777 word types\n",
      "2020-10-28 16:00:14,726 : INFO : PROGRESS: at sentence #110000, processed 790696 words, keeping 61207 word types\n",
      "2020-10-28 16:00:14,813 : INFO : PROGRESS: at sentence #120000, processed 863134 words, keeping 64583 word types\n",
      "2020-10-28 16:00:14,895 : INFO : PROGRESS: at sentence #130000, processed 935111 words, keeping 67865 word types\n",
      "2020-10-28 16:00:14,918 : INFO : PROGRESS: at sentence #140000, processed 1006668 words, keeping 70966 word types\n",
      "2020-10-28 16:00:14,968 : INFO : PROGRESS: at sentence #150000, processed 1078512 words, keeping 74119 word types\n",
      "2020-10-28 16:00:15,033 : INFO : PROGRESS: at sentence #160000, processed 1149914 words, keeping 77187 word types\n",
      "2020-10-28 16:00:15,101 : INFO : PROGRESS: at sentence #170000, processed 1222145 words, keeping 80267 word types\n",
      "2020-10-28 16:00:15,128 : INFO : PROGRESS: at sentence #180000, processed 1294708 words, keeping 83393 word types\n",
      "2020-10-28 16:00:15,165 : INFO : PROGRESS: at sentence #190000, processed 1367608 words, keeping 86329 word types\n",
      "2020-10-28 16:00:15,275 : INFO : PROGRESS: at sentence #200000, processed 1439469 words, keeping 89103 word types\n",
      "2020-10-28 16:00:15,302 : INFO : PROGRESS: at sentence #210000, processed 1512099 words, keeping 91840 word types\n",
      "2020-10-28 16:00:15,361 : INFO : PROGRESS: at sentence #220000, processed 1584149 words, keeping 94636 word types\n",
      "2020-10-28 16:00:15,419 : INFO : PROGRESS: at sentence #230000, processed 1656354 words, keeping 97353 word types\n",
      "2020-10-28 16:00:15,484 : INFO : PROGRESS: at sentence #240000, processed 1728573 words, keeping 99975 word types\n",
      "2020-10-28 16:00:15,509 : INFO : PROGRESS: at sentence #250000, processed 1801102 words, keeping 102594 word types\n",
      "2020-10-28 16:00:15,597 : INFO : PROGRESS: at sentence #260000, processed 1873103 words, keeping 105162 word types\n",
      "2020-10-28 16:00:15,641 : INFO : PROGRESS: at sentence #270000, processed 1945245 words, keeping 107626 word types\n",
      "2020-10-28 16:00:15,702 : INFO : PROGRESS: at sentence #280000, processed 2017163 words, keeping 110141 word types\n",
      "2020-10-28 16:00:15,726 : INFO : PROGRESS: at sentence #290000, processed 2089574 words, keeping 112539 word types\n",
      "2020-10-28 16:00:15,801 : INFO : PROGRESS: at sentence #300000, processed 2160996 words, keeping 114893 word types\n",
      "2020-10-28 16:00:15,859 : INFO : PROGRESS: at sentence #310000, processed 2232913 words, keeping 117298 word types\n",
      "2020-10-28 16:00:15,891 : INFO : PROGRESS: at sentence #320000, processed 2305039 words, keeping 119693 word types\n",
      "2020-10-28 16:00:15,949 : INFO : PROGRESS: at sentence #330000, processed 2377119 words, keeping 122131 word types\n",
      "2020-10-28 16:00:15,980 : INFO : PROGRESS: at sentence #340000, processed 2449370 words, keeping 124416 word types\n",
      "2020-10-28 16:00:16,050 : INFO : PROGRESS: at sentence #350000, processed 2521564 words, keeping 126669 word types\n",
      "2020-10-28 16:00:16,081 : INFO : PROGRESS: at sentence #360000, processed 2593681 words, keeping 128912 word types\n",
      "2020-10-28 16:00:16,124 : INFO : PROGRESS: at sentence #370000, processed 2665692 words, keeping 131135 word types\n",
      "2020-10-28 16:00:16,168 : INFO : PROGRESS: at sentence #380000, processed 2737859 words, keeping 133403 word types\n",
      "2020-10-28 16:00:16,227 : INFO : PROGRESS: at sentence #390000, processed 2809848 words, keeping 135551 word types\n",
      "2020-10-28 16:00:16,262 : INFO : PROGRESS: at sentence #400000, processed 2882438 words, keeping 137742 word types\n",
      "2020-10-28 16:00:16,336 : INFO : PROGRESS: at sentence #410000, processed 2954075 words, keeping 139909 word types\n",
      "2020-10-28 16:00:16,383 : INFO : PROGRESS: at sentence #420000, processed 3026247 words, keeping 142144 word types\n",
      "2020-10-28 16:00:16,421 : INFO : PROGRESS: at sentence #430000, processed 3098659 words, keeping 144364 word types\n",
      "2020-10-28 16:00:16,486 : INFO : PROGRESS: at sentence #440000, processed 3170663 words, keeping 146439 word types\n",
      "2020-10-28 16:00:16,548 : INFO : PROGRESS: at sentence #450000, processed 3243344 words, keeping 148526 word types\n",
      "2020-10-28 16:00:16,576 : INFO : PROGRESS: at sentence #460000, processed 3315466 words, keeping 150610 word types\n",
      "2020-10-28 16:00:16,631 : INFO : PROGRESS: at sentence #470000, processed 3388295 words, keeping 152737 word types\n",
      "2020-10-28 16:00:16,659 : INFO : PROGRESS: at sentence #480000, processed 3460120 words, keeping 154757 word types\n",
      "2020-10-28 16:00:16,715 : INFO : PROGRESS: at sentence #490000, processed 3531883 words, keeping 156825 word types\n",
      "2020-10-28 16:00:16,741 : INFO : PROGRESS: at sentence #500000, processed 3604217 words, keeping 158859 word types\n",
      "2020-10-28 16:00:16,817 : INFO : PROGRESS: at sentence #510000, processed 3676427 words, keeping 160852 word types\n",
      "2020-10-28 16:00:16,889 : INFO : PROGRESS: at sentence #520000, processed 3749045 words, keeping 162863 word types\n",
      "2020-10-28 16:00:16,917 : INFO : PROGRESS: at sentence #530000, processed 3821622 words, keeping 164929 word types\n",
      "2020-10-28 16:00:16,982 : INFO : PROGRESS: at sentence #540000, processed 3893627 words, keeping 166840 word types\n",
      "2020-10-28 16:00:17,086 : INFO : PROGRESS: at sentence #550000, processed 3965477 words, keeping 168799 word types\n",
      "2020-10-28 16:00:17,132 : INFO : PROGRESS: at sentence #560000, processed 4038050 words, keeping 170802 word types\n",
      "2020-10-28 16:00:17,179 : INFO : PROGRESS: at sentence #570000, processed 4110296 words, keeping 172760 word types\n",
      "2020-10-28 16:00:17,214 : INFO : PROGRESS: at sentence #580000, processed 4182385 words, keeping 174635 word types\n",
      "2020-10-28 16:00:17,296 : INFO : PROGRESS: at sentence #590000, processed 4254632 words, keeping 176470 word types\n",
      "2020-10-28 16:00:17,329 : INFO : PROGRESS: at sentence #600000, processed 4326859 words, keeping 178350 word types\n",
      "2020-10-28 16:00:17,383 : INFO : PROGRESS: at sentence #610000, processed 4399183 words, keeping 180290 word types\n",
      "2020-10-28 16:00:17,509 : INFO : PROGRESS: at sentence #620000, processed 4471343 words, keeping 182129 word types\n",
      "2020-10-28 16:00:17,555 : INFO : PROGRESS: at sentence #630000, processed 4543286 words, keeping 184005 word types\n",
      "2020-10-28 16:00:17,598 : INFO : PROGRESS: at sentence #640000, processed 4615780 words, keeping 185835 word types\n",
      "2020-10-28 16:00:17,667 : INFO : PROGRESS: at sentence #650000, processed 4688481 words, keeping 187705 word types\n",
      "2020-10-28 16:00:17,696 : INFO : PROGRESS: at sentence #660000, processed 4760481 words, keeping 189439 word types\n",
      "2020-10-28 16:00:17,747 : INFO : PROGRESS: at sentence #670000, processed 4833024 words, keeping 191232 word types\n",
      "2020-10-28 16:00:17,773 : INFO : PROGRESS: at sentence #680000, processed 4904516 words, keeping 193177 word types\n",
      "2020-10-28 16:00:17,813 : INFO : PROGRESS: at sentence #690000, processed 4976968 words, keeping 194960 word types\n",
      "2020-10-28 16:00:17,888 : INFO : PROGRESS: at sentence #700000, processed 5049412 words, keeping 196725 word types\n",
      "2020-10-28 16:00:17,965 : INFO : PROGRESS: at sentence #710000, processed 5121976 words, keeping 198516 word types\n"
     ]
    },
    {
     "name": "stderr",
     "output_type": "stream",
     "text": [
      "2020-10-28 16:00:17,993 : INFO : PROGRESS: at sentence #720000, processed 5193881 words, keeping 200325 word types\n",
      "2020-10-28 16:00:18,054 : INFO : PROGRESS: at sentence #730000, processed 5265467 words, keeping 202133 word types\n",
      "2020-10-28 16:00:18,089 : INFO : PROGRESS: at sentence #740000, processed 5337518 words, keeping 203818 word types\n",
      "2020-10-28 16:00:18,149 : INFO : PROGRESS: at sentence #750000, processed 5409321 words, keeping 205535 word types\n",
      "2020-10-28 16:00:18,175 : INFO : PROGRESS: at sentence #760000, processed 5481512 words, keeping 207282 word types\n",
      "2020-10-28 16:00:18,219 : INFO : PROGRESS: at sentence #770000, processed 5554093 words, keeping 209076 word types\n",
      "2020-10-28 16:00:18,269 : INFO : PROGRESS: at sentence #780000, processed 5625382 words, keeping 210805 word types\n",
      "2020-10-28 16:00:18,359 : INFO : PROGRESS: at sentence #790000, processed 5698066 words, keeping 212618 word types\n",
      "2020-10-28 16:00:18,387 : INFO : PROGRESS: at sentence #800000, processed 5770880 words, keeping 214374 word types\n",
      "2020-10-28 16:00:18,462 : INFO : PROGRESS: at sentence #810000, processed 5843418 words, keeping 216009 word types\n",
      "2020-10-28 16:00:18,498 : INFO : PROGRESS: at sentence #820000, processed 5915628 words, keeping 217804 word types\n",
      "2020-10-28 16:00:18,586 : INFO : PROGRESS: at sentence #830000, processed 5987499 words, keeping 219585 word types\n",
      "2020-10-28 16:00:18,620 : INFO : PROGRESS: at sentence #840000, processed 6058973 words, keeping 221344 word types\n",
      "2020-10-28 16:00:18,730 : INFO : PROGRESS: at sentence #850000, processed 6131125 words, keeping 223002 word types\n",
      "2020-10-28 16:00:18,765 : INFO : PROGRESS: at sentence #860000, processed 6202951 words, keeping 224643 word types\n",
      "2020-10-28 16:00:18,815 : INFO : PROGRESS: at sentence #870000, processed 6275461 words, keeping 226362 word types\n",
      "2020-10-28 16:00:18,899 : INFO : PROGRESS: at sentence #880000, processed 6347661 words, keeping 227986 word types\n",
      "2020-10-28 16:00:18,964 : INFO : PROGRESS: at sentence #890000, processed 6419806 words, keeping 229634 word types\n",
      "2020-10-28 16:00:19,053 : INFO : PROGRESS: at sentence #900000, processed 6491644 words, keeping 231389 word types\n",
      "2020-10-28 16:00:19,082 : INFO : PROGRESS: at sentence #910000, processed 6564022 words, keeping 233050 word types\n",
      "2020-10-28 16:00:19,129 : INFO : PROGRESS: at sentence #920000, processed 6636228 words, keeping 234686 word types\n",
      "2020-10-28 16:00:19,188 : INFO : PROGRESS: at sentence #930000, processed 6708573 words, keeping 236393 word types\n",
      "2020-10-28 16:00:19,216 : INFO : PROGRESS: at sentence #940000, processed 6779956 words, keeping 238052 word types\n",
      "2020-10-28 16:00:19,266 : INFO : PROGRESS: at sentence #950000, processed 6852599 words, keeping 239716 word types\n",
      "2020-10-28 16:00:19,318 : INFO : PROGRESS: at sentence #960000, processed 6924717 words, keeping 241354 word types\n",
      "2020-10-28 16:00:19,398 : INFO : PROGRESS: at sentence #970000, processed 6996992 words, keeping 242980 word types\n",
      "2020-10-28 16:00:19,423 : INFO : PROGRESS: at sentence #980000, processed 7068402 words, keeping 244646 word types\n",
      "2020-10-28 16:00:19,523 : INFO : PROGRESS: at sentence #990000, processed 7140346 words, keeping 246186 word types\n",
      "2020-10-28 16:00:19,548 : INFO : PROGRESS: at sentence #1000000, processed 7211757 words, keeping 247726 word types\n",
      "2020-10-28 16:00:19,621 : INFO : PROGRESS: at sentence #1010000, processed 7283267 words, keeping 249288 word types\n",
      "2020-10-28 16:00:19,721 : INFO : PROGRESS: at sentence #1020000, processed 7355299 words, keeping 250860 word types\n",
      "2020-10-28 16:00:19,746 : INFO : PROGRESS: at sentence #1030000, processed 7426918 words, keeping 252366 word types\n",
      "2020-10-28 16:00:19,828 : INFO : PROGRESS: at sentence #1040000, processed 7498815 words, keeping 253930 word types\n",
      "2020-10-28 16:00:19,876 : INFO : PROGRESS: at sentence #1050000, processed 7570499 words, keeping 255471 word types\n",
      "2020-10-28 16:00:19,920 : INFO : PROGRESS: at sentence #1060000, processed 7643251 words, keeping 257035 word types\n",
      "2020-10-28 16:00:19,970 : INFO : PROGRESS: at sentence #1070000, processed 7714721 words, keeping 258509 word types\n",
      "2020-10-28 16:00:20,036 : INFO : PROGRESS: at sentence #1080000, processed 7787371 words, keeping 260071 word types\n",
      "2020-10-28 16:00:20,062 : INFO : PROGRESS: at sentence #1090000, processed 7859336 words, keeping 261683 word types\n",
      "2020-10-28 16:00:20,101 : INFO : PROGRESS: at sentence #1100000, processed 7932029 words, keeping 263278 word types\n",
      "2020-10-28 16:00:20,166 : INFO : PROGRESS: at sentence #1110000, processed 8004146 words, keeping 264800 word types\n",
      "2020-10-28 16:00:20,198 : INFO : PROGRESS: at sentence #1120000, processed 8075880 words, keeping 266309 word types\n",
      "2020-10-28 16:00:20,249 : INFO : PROGRESS: at sentence #1130000, processed 8148163 words, keeping 267826 word types\n",
      "2020-10-28 16:00:20,321 : INFO : PROGRESS: at sentence #1140000, processed 8220487 words, keeping 269391 word types\n",
      "2020-10-28 16:00:20,362 : INFO : PROGRESS: at sentence #1150000, processed 8292498 words, keeping 270894 word types\n",
      "2020-10-28 16:00:20,388 : INFO : PROGRESS: at sentence #1160000, processed 8363838 words, keeping 272400 word types\n",
      "2020-10-28 16:00:20,459 : INFO : PROGRESS: at sentence #1170000, processed 8435510 words, keeping 273970 word types\n",
      "2020-10-28 16:00:20,496 : INFO : PROGRESS: at sentence #1180000, processed 8507795 words, keeping 275521 word types\n",
      "2020-10-28 16:00:20,525 : INFO : PROGRESS: at sentence #1190000, processed 8579080 words, keeping 277007 word types\n",
      "2020-10-28 16:00:20,600 : INFO : PROGRESS: at sentence #1200000, processed 8650606 words, keeping 278457 word types\n",
      "2020-10-28 16:00:20,627 : INFO : PROGRESS: at sentence #1210000, processed 8721893 words, keeping 279959 word types\n",
      "2020-10-28 16:00:20,662 : INFO : PROGRESS: at sentence #1220000, processed 8793795 words, keeping 281427 word types\n",
      "2020-10-28 16:00:20,717 : INFO : PROGRESS: at sentence #1230000, processed 8865726 words, keeping 282981 word types\n",
      "2020-10-28 16:00:20,758 : INFO : PROGRESS: at sentence #1240000, processed 8938173 words, keeping 284542 word types\n",
      "2020-10-28 16:00:20,815 : INFO : PROGRESS: at sentence #1250000, processed 9010842 words, keeping 286064 word types\n",
      "2020-10-28 16:00:20,856 : INFO : PROGRESS: at sentence #1260000, processed 9083261 words, keeping 287521 word types\n",
      "2020-10-28 16:00:20,884 : INFO : PROGRESS: at sentence #1270000, processed 9155616 words, keeping 288987 word types\n",
      "2020-10-28 16:00:20,970 : INFO : collected 290418 word types from a corpus of 9227204 raw words and 1280000 sentences\n",
      "2020-10-28 16:00:20,974 : INFO : Loading a fresh vocabulary\n",
      "2020-10-28 16:00:21,275 : INFO : effective_min_count=10 retains 30369 unique words (10% of original 290418, drops 260049)\n",
      "2020-10-28 16:00:21,276 : INFO : effective_min_count=10 leaves 8780739 word corpus (95% of original 9227204, drops 446465)\n",
      "2020-10-28 16:00:21,441 : INFO : deleting the raw counts dictionary of 290418 items\n",
      "2020-10-28 16:00:21,457 : INFO : sample=0.001 downsamples 45 most-common words\n",
      "2020-10-28 16:00:21,503 : INFO : downsampling leaves estimated 8222658 word corpus (93.6% of prior 8780739)\n",
      "2020-10-28 16:00:21,645 : INFO : estimated required memory for 30369 words and 300 dimensions: 88070100 bytes\n",
      "2020-10-28 16:00:21,646 : INFO : resetting layer weights\n"
     ]
    }
   ],
   "source": [
    "w2v_model.build_vocab(documents)"
   ]
  },
  {
   "cell_type": "code",
   "execution_count": 18,
   "metadata": {
    "ExecuteTime": {
     "end_time": "2020-10-28T20:00:29.466220Z",
     "start_time": "2020-10-28T20:00:29.442505Z"
    },
    "_uuid": "72a5628ca81fd4b8983c12d93ae0bf950b86b6ae"
   },
   "outputs": [
    {
     "name": "stdout",
     "output_type": "stream",
     "text": [
      "Vocab size 30369\n"
     ]
    }
   ],
   "source": [
    "words = w2v_model.wv.vocab.keys()\n",
    "vocab_size = len(words)\n",
    "print(\"Vocab size\", vocab_size)"
   ]
  },
  {
   "cell_type": "code",
   "execution_count": 19,
   "metadata": {
    "ExecuteTime": {
     "end_time": "2020-10-28T20:09:46.708844Z",
     "start_time": "2020-10-28T20:00:29.468939Z"
    },
    "_uuid": "68c3e4a5ba07cac3dee67f78ecdd1404c7f83f14",
    "scrolled": true
   },
   "outputs": [
    {
     "name": "stderr",
     "output_type": "stream",
     "text": [
      "2020-10-28 16:00:29,482 : INFO : training model with 8 workers on 30369 vocabulary and 300 features, using sg=0 hs=0 sample=0.001 negative=5 window=7\n",
      "2020-10-28 16:00:30,699 : INFO : EPOCH 1 - PROGRESS: at 5.43% examples, 417207 words/s, in_qsize 16, out_qsize 0\n",
      "2020-10-28 16:00:31,703 : INFO : EPOCH 1 - PROGRESS: at 11.08% examples, 438781 words/s, in_qsize 12, out_qsize 3\n",
      "2020-10-28 16:00:32,719 : INFO : EPOCH 1 - PROGRESS: at 17.46% examples, 464387 words/s, in_qsize 12, out_qsize 3\n",
      "2020-10-28 16:00:33,728 : INFO : EPOCH 1 - PROGRESS: at 23.52% examples, 471919 words/s, in_qsize 15, out_qsize 0\n",
      "2020-10-28 16:00:34,748 : INFO : EPOCH 1 - PROGRESS: at 28.83% examples, 463200 words/s, in_qsize 14, out_qsize 1\n",
      "2020-10-28 16:00:35,760 : INFO : EPOCH 1 - PROGRESS: at 33.38% examples, 447705 words/s, in_qsize 13, out_qsize 2\n",
      "2020-10-28 16:00:36,884 : INFO : EPOCH 1 - PROGRESS: at 39.00% examples, 442222 words/s, in_qsize 11, out_qsize 4\n",
      "2020-10-28 16:00:37,897 : INFO : EPOCH 1 - PROGRESS: at 43.85% examples, 436506 words/s, in_qsize 13, out_qsize 2\n",
      "2020-10-28 16:00:38,914 : INFO : EPOCH 1 - PROGRESS: at 49.70% examples, 440507 words/s, in_qsize 15, out_qsize 0\n",
      "2020-10-28 16:00:39,916 : INFO : EPOCH 1 - PROGRESS: at 54.46% examples, 435719 words/s, in_qsize 15, out_qsize 0\n",
      "2020-10-28 16:00:41,009 : INFO : EPOCH 1 - PROGRESS: at 59.87% examples, 433035 words/s, in_qsize 16, out_qsize 0\n",
      "2020-10-28 16:00:42,022 : INFO : EPOCH 1 - PROGRESS: at 64.30% examples, 427107 words/s, in_qsize 15, out_qsize 0\n",
      "2020-10-28 16:00:43,105 : INFO : EPOCH 1 - PROGRESS: at 69.29% examples, 423210 words/s, in_qsize 15, out_qsize 0\n",
      "2020-10-28 16:00:44,118 : INFO : EPOCH 1 - PROGRESS: at 72.75% examples, 413265 words/s, in_qsize 15, out_qsize 0\n",
      "2020-10-28 16:00:45,264 : INFO : EPOCH 1 - PROGRESS: at 77.74% examples, 409166 words/s, in_qsize 14, out_qsize 1\n",
      "2020-10-28 16:00:46,290 : INFO : EPOCH 1 - PROGRESS: at 83.40% examples, 411783 words/s, in_qsize 16, out_qsize 1\n",
      "2020-10-28 16:00:47,390 : INFO : EPOCH 1 - PROGRESS: at 88.81% examples, 411345 words/s, in_qsize 16, out_qsize 4\n",
      "2020-10-28 16:00:48,399 : INFO : EPOCH 1 - PROGRESS: at 94.58% examples, 414349 words/s, in_qsize 16, out_qsize 0\n",
      "2020-10-28 16:00:49,322 : INFO : worker thread finished; awaiting finish of 7 more threads\n",
      "2020-10-28 16:00:49,340 : INFO : worker thread finished; awaiting finish of 6 more threads\n",
      "2020-10-28 16:00:49,347 : INFO : worker thread finished; awaiting finish of 5 more threads\n",
      "2020-10-28 16:00:49,408 : INFO : EPOCH 1 - PROGRESS: at 99.56% examples, 413980 words/s, in_qsize 4, out_qsize 1\n",
      "2020-10-28 16:00:49,410 : INFO : worker thread finished; awaiting finish of 4 more threads\n",
      "2020-10-28 16:00:49,461 : INFO : worker thread finished; awaiting finish of 3 more threads\n",
      "2020-10-28 16:00:49,493 : INFO : worker thread finished; awaiting finish of 2 more threads\n",
      "2020-10-28 16:00:49,515 : INFO : worker thread finished; awaiting finish of 1 more threads\n",
      "2020-10-28 16:00:49,564 : INFO : worker thread finished; awaiting finish of 0 more threads\n",
      "2020-10-28 16:00:49,567 : INFO : EPOCH - 1 : training on 9227204 raw words (8222568 effective words) took 19.9s, 412468 effective words/s\n",
      "2020-10-28 16:00:50,629 : INFO : EPOCH 2 - PROGRESS: at 4.56% examples, 365489 words/s, in_qsize 14, out_qsize 1\n",
      "2020-10-28 16:00:51,632 : INFO : EPOCH 2 - PROGRESS: at 9.88% examples, 400271 words/s, in_qsize 15, out_qsize 0\n",
      "2020-10-28 16:00:52,706 : INFO : EPOCH 2 - PROGRESS: at 15.62% examples, 413654 words/s, in_qsize 15, out_qsize 0\n",
      "2020-10-28 16:00:53,711 : INFO : EPOCH 2 - PROGRESS: at 20.92% examples, 418804 words/s, in_qsize 15, out_qsize 0\n",
      "2020-10-28 16:00:54,804 : INFO : EPOCH 2 - PROGRESS: at 25.59% examples, 404365 words/s, in_qsize 14, out_qsize 3\n",
      "2020-10-28 16:00:55,808 : INFO : EPOCH 2 - PROGRESS: at 30.89% examples, 409395 words/s, in_qsize 15, out_qsize 0\n",
      "2020-10-28 16:00:56,812 : INFO : EPOCH 2 - PROGRESS: at 35.43% examples, 404286 words/s, in_qsize 15, out_qsize 0\n",
      "2020-10-28 16:00:57,829 : INFO : EPOCH 2 - PROGRESS: at 40.51% examples, 405171 words/s, in_qsize 15, out_qsize 0\n",
      "2020-10-28 16:00:58,835 : INFO : EPOCH 2 - PROGRESS: at 44.94% examples, 400583 words/s, in_qsize 15, out_qsize 0\n",
      "2020-10-28 16:00:59,911 : INFO : EPOCH 2 - PROGRESS: at 50.13% examples, 400309 words/s, in_qsize 14, out_qsize 1\n",
      "2020-10-28 16:01:00,939 : INFO : EPOCH 2 - PROGRESS: at 55.53% examples, 403342 words/s, in_qsize 13, out_qsize 2\n",
      "2020-10-28 16:01:01,977 : INFO : EPOCH 2 - PROGRESS: at 61.07% examples, 406246 words/s, in_qsize 13, out_qsize 2\n",
      "2020-10-28 16:01:02,995 : INFO : EPOCH 2 - PROGRESS: at 66.47% examples, 408608 words/s, in_qsize 15, out_qsize 0\n",
      "2020-10-28 16:01:04,000 : INFO : EPOCH 2 - PROGRESS: at 71.45% examples, 408557 words/s, in_qsize 13, out_qsize 0\n",
      "2020-10-28 16:01:05,079 : INFO : EPOCH 2 - PROGRESS: at 76.88% examples, 408811 words/s, in_qsize 13, out_qsize 2\n",
      "2020-10-28 16:01:06,157 : INFO : EPOCH 2 - PROGRESS: at 82.32% examples, 409098 words/s, in_qsize 12, out_qsize 3\n",
      "2020-10-28 16:01:07,158 : INFO : EPOCH 2 - PROGRESS: at 87.94% examples, 412158 words/s, in_qsize 12, out_qsize 3\n",
      "2020-10-28 16:01:08,187 : INFO : EPOCH 2 - PROGRESS: at 92.07% examples, 407507 words/s, in_qsize 16, out_qsize 0\n",
      "2020-10-28 16:01:09,211 : INFO : EPOCH 2 - PROGRESS: at 94.90% examples, 398037 words/s, in_qsize 15, out_qsize 0\n",
      "2020-10-28 16:01:10,220 : INFO : EPOCH 2 - PROGRESS: at 99.00% examples, 394988 words/s, in_qsize 9, out_qsize 1\n",
      "2020-10-28 16:01:10,224 : INFO : worker thread finished; awaiting finish of 7 more threads\n",
      "2020-10-28 16:01:10,278 : INFO : worker thread finished; awaiting finish of 6 more threads\n",
      "2020-10-28 16:01:10,313 : INFO : worker thread finished; awaiting finish of 5 more threads\n",
      "2020-10-28 16:01:10,338 : INFO : worker thread finished; awaiting finish of 4 more threads\n",
      "2020-10-28 16:01:10,376 : INFO : worker thread finished; awaiting finish of 3 more threads\n",
      "2020-10-28 16:01:10,481 : INFO : worker thread finished; awaiting finish of 2 more threads\n",
      "2020-10-28 16:01:10,564 : INFO : worker thread finished; awaiting finish of 1 more threads\n",
      "2020-10-28 16:01:10,613 : INFO : worker thread finished; awaiting finish of 0 more threads\n",
      "2020-10-28 16:01:10,614 : INFO : EPOCH - 2 : training on 9227204 raw words (8223435 effective words) took 21.0s, 391444 effective words/s\n",
      "2020-10-28 16:01:11,642 : INFO : EPOCH 3 - PROGRESS: at 4.56% examples, 368550 words/s, in_qsize 13, out_qsize 2\n",
      "2020-10-28 16:01:12,667 : INFO : EPOCH 3 - PROGRESS: at 9.77% examples, 393216 words/s, in_qsize 16, out_qsize 0\n",
      "2020-10-28 16:01:13,732 : INFO : EPOCH 3 - PROGRESS: at 14.43% examples, 381692 words/s, in_qsize 14, out_qsize 5\n",
      "2020-10-28 16:01:14,746 : INFO : EPOCH 3 - PROGRESS: at 19.84% examples, 395749 words/s, in_qsize 15, out_qsize 1\n",
      "2020-10-28 16:01:15,780 : INFO : EPOCH 3 - PROGRESS: at 25.04% examples, 399333 words/s, in_qsize 14, out_qsize 1\n",
      "2020-10-28 16:01:16,809 : INFO : EPOCH 3 - PROGRESS: at 29.37% examples, 390550 words/s, in_qsize 13, out_qsize 2\n",
      "2020-10-28 16:01:17,917 : INFO : EPOCH 3 - PROGRESS: at 33.81% examples, 381242 words/s, in_qsize 16, out_qsize 4\n",
      "2020-10-28 16:01:18,933 : INFO : EPOCH 3 - PROGRESS: at 39.11% examples, 387159 words/s, in_qsize 16, out_qsize 0\n",
      "2020-10-28 16:01:19,937 : INFO : EPOCH 3 - PROGRESS: at 44.62% examples, 394206 words/s, in_qsize 15, out_qsize 0\n",
      "2020-10-28 16:01:20,943 : INFO : EPOCH 3 - PROGRESS: at 50.35% examples, 401525 words/s, in_qsize 16, out_qsize 0\n",
      "2020-10-28 16:01:21,957 : INFO : EPOCH 3 - PROGRESS: at 56.29% examples, 408905 words/s, in_qsize 16, out_qsize 0\n",
      "2020-10-28 16:01:23,006 : INFO : EPOCH 3 - PROGRESS: at 60.63% examples, 403031 words/s, in_qsize 12, out_qsize 3\n",
      "2020-10-28 16:01:24,016 : INFO : EPOCH 3 - PROGRESS: at 65.50% examples, 402561 words/s, in_qsize 15, out_qsize 0\n",
      "2020-10-28 16:01:25,024 : INFO : EPOCH 3 - PROGRESS: at 70.37% examples, 402234 words/s, in_qsize 14, out_qsize 1\n",
      "2020-10-28 16:01:26,097 : INFO : EPOCH 3 - PROGRESS: at 76.44% examples, 406540 words/s, in_qsize 14, out_qsize 1\n",
      "2020-10-28 16:01:27,111 : INFO : EPOCH 3 - PROGRESS: at 81.99% examples, 409122 words/s, in_qsize 12, out_qsize 3\n",
      "2020-10-28 16:01:28,145 : INFO : EPOCH 3 - PROGRESS: at 85.12% examples, 399690 words/s, in_qsize 15, out_qsize 0\n"
     ]
    },
    {
     "name": "stderr",
     "output_type": "stream",
     "text": [
      "2020-10-28 16:01:29,199 : INFO : EPOCH 3 - PROGRESS: at 90.00% examples, 398591 words/s, in_qsize 15, out_qsize 0\n",
      "2020-10-28 16:01:30,364 : INFO : EPOCH 3 - PROGRESS: at 93.92% examples, 391295 words/s, in_qsize 13, out_qsize 2\n",
      "2020-10-28 16:01:31,366 : INFO : EPOCH 3 - PROGRESS: at 97.18% examples, 385249 words/s, in_qsize 15, out_qsize 0\n",
      "2020-10-28 16:01:31,949 : INFO : worker thread finished; awaiting finish of 7 more threads\n",
      "2020-10-28 16:01:32,040 : INFO : worker thread finished; awaiting finish of 6 more threads\n",
      "2020-10-28 16:01:32,103 : INFO : worker thread finished; awaiting finish of 5 more threads\n",
      "2020-10-28 16:01:32,105 : INFO : worker thread finished; awaiting finish of 4 more threads\n",
      "2020-10-28 16:01:32,122 : INFO : worker thread finished; awaiting finish of 3 more threads\n",
      "2020-10-28 16:01:32,135 : INFO : worker thread finished; awaiting finish of 2 more threads\n",
      "2020-10-28 16:01:32,141 : INFO : worker thread finished; awaiting finish of 1 more threads\n",
      "2020-10-28 16:01:32,141 : INFO : worker thread finished; awaiting finish of 0 more threads\n",
      "2020-10-28 16:01:32,142 : INFO : EPOCH - 3 : training on 9227204 raw words (8222374 effective words) took 21.5s, 382200 effective words/s\n",
      "2020-10-28 16:01:33,206 : INFO : EPOCH 4 - PROGRESS: at 5.43% examples, 425007 words/s, in_qsize 16, out_qsize 0\n",
      "2020-10-28 16:01:34,296 : INFO : EPOCH 4 - PROGRESS: at 11.29% examples, 433587 words/s, in_qsize 15, out_qsize 0\n",
      "2020-10-28 16:01:35,435 : INFO : EPOCH 4 - PROGRESS: at 16.37% examples, 410673 words/s, in_qsize 15, out_qsize 0\n",
      "2020-10-28 16:01:36,570 : INFO : EPOCH 4 - PROGRESS: at 19.73% examples, 367422 words/s, in_qsize 14, out_qsize 1\n",
      "2020-10-28 16:01:37,613 : INFO : EPOCH 4 - PROGRESS: at 23.20% examples, 349481 words/s, in_qsize 15, out_qsize 0\n",
      "2020-10-28 16:01:38,626 : INFO : EPOCH 4 - PROGRESS: at 26.89% examples, 341538 words/s, in_qsize 15, out_qsize 0\n",
      "2020-10-28 16:01:39,699 : INFO : EPOCH 4 - PROGRESS: at 30.24% examples, 329602 words/s, in_qsize 14, out_qsize 1\n",
      "2020-10-28 16:01:40,837 : INFO : EPOCH 4 - PROGRESS: at 34.46% examples, 326401 words/s, in_qsize 15, out_qsize 0\n",
      "2020-10-28 16:01:41,860 : INFO : EPOCH 4 - PROGRESS: at 37.27% examples, 315855 words/s, in_qsize 15, out_qsize 0\n",
      "2020-10-28 16:01:42,871 : INFO : EPOCH 4 - PROGRESS: at 40.73% examples, 312668 words/s, in_qsize 15, out_qsize 0\n",
      "2020-10-28 16:01:43,877 : INFO : EPOCH 4 - PROGRESS: at 44.62% examples, 313163 words/s, in_qsize 15, out_qsize 0\n",
      "2020-10-28 16:01:44,961 : INFO : EPOCH 4 - PROGRESS: at 48.84% examples, 313804 words/s, in_qsize 15, out_qsize 0\n",
      "2020-10-28 16:01:45,986 : INFO : EPOCH 4 - PROGRESS: at 52.73% examples, 313766 words/s, in_qsize 12, out_qsize 3\n",
      "2020-10-28 16:01:47,053 : INFO : EPOCH 4 - PROGRESS: at 55.97% examples, 309221 words/s, in_qsize 16, out_qsize 5\n",
      "2020-10-28 16:01:48,059 : INFO : EPOCH 4 - PROGRESS: at 58.90% examples, 304805 words/s, in_qsize 14, out_qsize 1\n",
      "2020-10-28 16:01:49,199 : INFO : EPOCH 4 - PROGRESS: at 62.25% examples, 300630 words/s, in_qsize 16, out_qsize 1\n",
      "2020-10-28 16:01:50,436 : INFO : EPOCH 4 - PROGRESS: at 66.48% examples, 299283 words/s, in_qsize 16, out_qsize 4\n",
      "2020-10-28 16:01:51,465 : INFO : EPOCH 4 - PROGRESS: at 70.91% examples, 302262 words/s, in_qsize 15, out_qsize 2\n",
      "2020-10-28 16:01:52,471 : INFO : EPOCH 4 - PROGRESS: at 75.14% examples, 304397 words/s, in_qsize 14, out_qsize 1\n",
      "2020-10-28 16:01:53,548 : INFO : EPOCH 4 - PROGRESS: at 78.51% examples, 301972 words/s, in_qsize 15, out_qsize 0\n",
      "2020-10-28 16:01:54,656 : INFO : EPOCH 4 - PROGRESS: at 82.96% examples, 303326 words/s, in_qsize 15, out_qsize 0\n",
      "2020-10-28 16:01:55,787 : INFO : EPOCH 4 - PROGRESS: at 86.85% examples, 302379 words/s, in_qsize 16, out_qsize 1\n",
      "2020-10-28 16:01:56,821 : INFO : EPOCH 4 - PROGRESS: at 91.52% examples, 305208 words/s, in_qsize 15, out_qsize 0\n",
      "2020-10-28 16:01:57,882 : INFO : EPOCH 4 - PROGRESS: at 95.23% examples, 304391 words/s, in_qsize 15, out_qsize 0\n",
      "2020-10-28 16:01:58,924 : INFO : EPOCH 4 - PROGRESS: at 98.04% examples, 301183 words/s, in_qsize 15, out_qsize 0\n",
      "2020-10-28 16:01:59,168 : INFO : worker thread finished; awaiting finish of 7 more threads\n",
      "2020-10-28 16:01:59,169 : INFO : worker thread finished; awaiting finish of 6 more threads\n",
      "2020-10-28 16:01:59,172 : INFO : worker thread finished; awaiting finish of 5 more threads\n",
      "2020-10-28 16:01:59,191 : INFO : worker thread finished; awaiting finish of 4 more threads\n",
      "2020-10-28 16:01:59,257 : INFO : worker thread finished; awaiting finish of 3 more threads\n",
      "2020-10-28 16:01:59,308 : INFO : worker thread finished; awaiting finish of 2 more threads\n",
      "2020-10-28 16:01:59,338 : INFO : worker thread finished; awaiting finish of 1 more threads\n",
      "2020-10-28 16:01:59,341 : INFO : worker thread finished; awaiting finish of 0 more threads\n",
      "2020-10-28 16:01:59,344 : INFO : EPOCH - 4 : training on 9227204 raw words (8222993 effective words) took 27.2s, 302484 effective words/s\n",
      "2020-10-28 16:02:00,394 : INFO : EPOCH 5 - PROGRESS: at 4.45% examples, 354979 words/s, in_qsize 15, out_qsize 0\n",
      "2020-10-28 16:02:01,455 : INFO : EPOCH 5 - PROGRESS: at 10.75% examples, 422410 words/s, in_qsize 15, out_qsize 0\n",
      "2020-10-28 16:02:02,490 : INFO : EPOCH 5 - PROGRESS: at 16.16% examples, 424927 words/s, in_qsize 15, out_qsize 0\n",
      "2020-10-28 16:02:03,495 : INFO : EPOCH 5 - PROGRESS: at 21.46% examples, 427236 words/s, in_qsize 16, out_qsize 0\n",
      "2020-10-28 16:02:04,532 : INFO : EPOCH 5 - PROGRESS: at 26.23% examples, 417437 words/s, in_qsize 15, out_qsize 0\n",
      "2020-10-28 16:02:05,534 : INFO : EPOCH 5 - PROGRESS: at 30.89% examples, 411746 words/s, in_qsize 13, out_qsize 2\n",
      "2020-10-28 16:02:06,555 : INFO : EPOCH 5 - PROGRESS: at 35.86% examples, 410284 words/s, in_qsize 16, out_qsize 0\n",
      "2020-10-28 16:02:07,590 : INFO : EPOCH 5 - PROGRESS: at 40.72% examples, 407373 words/s, in_qsize 16, out_qsize 0\n",
      "2020-10-28 16:02:08,665 : INFO : EPOCH 5 - PROGRESS: at 46.24% examples, 409063 words/s, in_qsize 16, out_qsize 1\n",
      "2020-10-28 16:02:09,721 : INFO : EPOCH 5 - PROGRESS: at 52.07% examples, 413818 words/s, in_qsize 15, out_qsize 0\n",
      "2020-10-28 16:02:10,726 : INFO : EPOCH 5 - PROGRESS: at 56.73% examples, 410953 words/s, in_qsize 16, out_qsize 1\n",
      "2020-10-28 16:02:11,742 : INFO : EPOCH 5 - PROGRESS: at 62.79% examples, 417536 words/s, in_qsize 16, out_qsize 0\n",
      "2020-10-28 16:02:12,746 : INFO : EPOCH 5 - PROGRESS: at 67.13% examples, 412817 words/s, in_qsize 13, out_qsize 2\n",
      "2020-10-28 16:02:13,749 : INFO : EPOCH 5 - PROGRESS: at 72.10% examples, 412513 words/s, in_qsize 15, out_qsize 0\n",
      "2020-10-28 16:02:14,756 : INFO : EPOCH 5 - PROGRESS: at 76.00% examples, 406358 words/s, in_qsize 16, out_qsize 2\n",
      "2020-10-28 16:02:15,760 : INFO : EPOCH 5 - PROGRESS: at 80.80% examples, 405382 words/s, in_qsize 15, out_qsize 0\n",
      "2020-10-28 16:02:16,789 : INFO : EPOCH 5 - PROGRESS: at 84.69% examples, 399851 words/s, in_qsize 11, out_qsize 4\n",
      "2020-10-28 16:02:17,801 : INFO : EPOCH 5 - PROGRESS: at 90.76% examples, 404908 words/s, in_qsize 15, out_qsize 0\n",
      "2020-10-28 16:02:18,818 : INFO : EPOCH 5 - PROGRESS: at 95.23% examples, 402510 words/s, in_qsize 12, out_qsize 3\n",
      "2020-10-28 16:02:19,407 : INFO : worker thread finished; awaiting finish of 7 more threads\n",
      "2020-10-28 16:02:19,410 : INFO : worker thread finished; awaiting finish of 6 more threads\n",
      "2020-10-28 16:02:19,411 : INFO : worker thread finished; awaiting finish of 5 more threads\n",
      "2020-10-28 16:02:19,473 : INFO : worker thread finished; awaiting finish of 4 more threads\n",
      "2020-10-28 16:02:19,545 : INFO : worker thread finished; awaiting finish of 3 more threads\n",
      "2020-10-28 16:02:19,581 : INFO : worker thread finished; awaiting finish of 2 more threads\n",
      "2020-10-28 16:02:19,600 : INFO : worker thread finished; awaiting finish of 1 more threads\n",
      "2020-10-28 16:02:19,609 : INFO : worker thread finished; awaiting finish of 0 more threads\n",
      "2020-10-28 16:02:19,613 : INFO : EPOCH - 5 : training on 9227204 raw words (8222523 effective words) took 20.2s, 406122 effective words/s\n",
      "2020-10-28 16:02:20,696 : INFO : EPOCH 6 - PROGRESS: at 4.45% examples, 344460 words/s, in_qsize 15, out_qsize 0\n",
      "2020-10-28 16:02:21,704 : INFO : EPOCH 6 - PROGRESS: at 8.80% examples, 349198 words/s, in_qsize 16, out_qsize 0\n",
      "2020-10-28 16:02:22,733 : INFO : EPOCH 6 - PROGRESS: at 13.15% examples, 348232 words/s, in_qsize 13, out_qsize 2\n"
     ]
    },
    {
     "name": "stderr",
     "output_type": "stream",
     "text": [
      "2020-10-28 16:02:23,789 : INFO : EPOCH 6 - PROGRESS: at 19.51% examples, 386142 words/s, in_qsize 15, out_qsize 0\n",
      "2020-10-28 16:02:24,833 : INFO : EPOCH 6 - PROGRESS: at 25.48% examples, 402900 words/s, in_qsize 15, out_qsize 0\n",
      "2020-10-28 16:02:25,845 : INFO : EPOCH 6 - PROGRESS: at 30.46% examples, 403247 words/s, in_qsize 16, out_qsize 0\n",
      "2020-10-28 16:02:26,854 : INFO : EPOCH 6 - PROGRESS: at 35.65% examples, 406093 words/s, in_qsize 15, out_qsize 0\n",
      "2020-10-28 16:02:27,866 : INFO : EPOCH 6 - PROGRESS: at 40.08% examples, 400522 words/s, in_qsize 15, out_qsize 0\n",
      "2020-10-28 16:02:28,898 : INFO : EPOCH 6 - PROGRESS: at 45.16% examples, 401093 words/s, in_qsize 14, out_qsize 1\n",
      "2020-10-28 16:02:29,939 : INFO : EPOCH 6 - PROGRESS: at 50.45% examples, 402948 words/s, in_qsize 16, out_qsize 0\n",
      "2020-10-28 16:02:30,941 : INFO : EPOCH 6 - PROGRESS: at 55.64% examples, 405119 words/s, in_qsize 16, out_qsize 0\n",
      "2020-10-28 16:02:32,037 : INFO : EPOCH 6 - PROGRESS: at 60.74% examples, 403059 words/s, in_qsize 15, out_qsize 1\n",
      "2020-10-28 16:02:33,104 : INFO : EPOCH 6 - PROGRESS: at 65.50% examples, 400187 words/s, in_qsize 15, out_qsize 3\n",
      "2020-10-28 16:02:34,111 : INFO : EPOCH 6 - PROGRESS: at 71.02% examples, 403745 words/s, in_qsize 15, out_qsize 0\n",
      "2020-10-28 16:02:35,156 : INFO : EPOCH 6 - PROGRESS: at 76.77% examples, 406984 words/s, in_qsize 14, out_qsize 3\n",
      "2020-10-28 16:02:36,165 : INFO : EPOCH 6 - PROGRESS: at 82.42% examples, 410153 words/s, in_qsize 15, out_qsize 0\n",
      "2020-10-28 16:02:37,175 : INFO : EPOCH 6 - PROGRESS: at 87.51% examples, 410401 words/s, in_qsize 16, out_qsize 0\n",
      "2020-10-28 16:02:38,176 : INFO : EPOCH 6 - PROGRESS: at 91.84% examples, 407432 words/s, in_qsize 13, out_qsize 6\n",
      "2020-10-28 16:02:39,281 : INFO : EPOCH 6 - PROGRESS: at 97.18% examples, 406721 words/s, in_qsize 10, out_qsize 6\n",
      "2020-10-28 16:02:39,637 : INFO : worker thread finished; awaiting finish of 7 more threads\n",
      "2020-10-28 16:02:39,639 : INFO : worker thread finished; awaiting finish of 6 more threads\n",
      "2020-10-28 16:02:39,640 : INFO : worker thread finished; awaiting finish of 5 more threads\n",
      "2020-10-28 16:02:39,641 : INFO : worker thread finished; awaiting finish of 4 more threads\n",
      "2020-10-28 16:02:39,642 : INFO : worker thread finished; awaiting finish of 3 more threads\n",
      "2020-10-28 16:02:39,736 : INFO : worker thread finished; awaiting finish of 2 more threads\n",
      "2020-10-28 16:02:39,764 : INFO : worker thread finished; awaiting finish of 1 more threads\n",
      "2020-10-28 16:02:39,769 : INFO : worker thread finished; awaiting finish of 0 more threads\n",
      "2020-10-28 16:02:39,770 : INFO : EPOCH - 6 : training on 9227204 raw words (8222572 effective words) took 20.1s, 408415 effective words/s\n",
      "2020-10-28 16:02:40,840 : INFO : EPOCH 7 - PROGRESS: at 5.43% examples, 428605 words/s, in_qsize 16, out_qsize 0\n",
      "2020-10-28 16:02:41,871 : INFO : EPOCH 7 - PROGRESS: at 11.51% examples, 456396 words/s, in_qsize 15, out_qsize 0\n",
      "2020-10-28 16:02:42,916 : INFO : EPOCH 7 - PROGRESS: at 17.46% examples, 460489 words/s, in_qsize 16, out_qsize 1\n",
      "2020-10-28 16:02:43,923 : INFO : EPOCH 7 - PROGRESS: at 23.42% examples, 466912 words/s, in_qsize 10, out_qsize 5\n",
      "2020-10-28 16:02:45,038 : INFO : EPOCH 7 - PROGRESS: at 29.70% examples, 466174 words/s, in_qsize 13, out_qsize 2\n",
      "2020-10-28 16:02:46,045 : INFO : EPOCH 7 - PROGRESS: at 35.97% examples, 473727 words/s, in_qsize 15, out_qsize 0\n",
      "2020-10-28 16:02:47,053 : INFO : EPOCH 7 - PROGRESS: at 42.13% examples, 477852 words/s, in_qsize 16, out_qsize 1\n",
      "2020-10-28 16:02:48,070 : INFO : EPOCH 7 - PROGRESS: at 46.89% examples, 466479 words/s, in_qsize 16, out_qsize 0\n",
      "2020-10-28 16:02:49,089 : INFO : EPOCH 7 - PROGRESS: at 51.96% examples, 460404 words/s, in_qsize 15, out_qsize 1\n",
      "2020-10-28 16:02:50,508 : INFO : EPOCH 7 - PROGRESS: at 54.78% examples, 421017 words/s, in_qsize 13, out_qsize 2\n",
      "2020-10-28 16:02:51,517 : INFO : EPOCH 7 - PROGRESS: at 57.92% examples, 406828 words/s, in_qsize 14, out_qsize 1\n",
      "2020-10-28 16:02:52,568 : INFO : EPOCH 7 - PROGRESS: at 61.93% examples, 399190 words/s, in_qsize 15, out_qsize 1\n",
      "2020-10-28 16:02:53,612 : INFO : EPOCH 7 - PROGRESS: at 65.05% examples, 387690 words/s, in_qsize 16, out_qsize 5\n",
      "2020-10-28 16:02:54,673 : INFO : EPOCH 7 - PROGRESS: at 70.16% examples, 388193 words/s, in_qsize 16, out_qsize 0\n",
      "2020-10-28 16:02:55,711 : INFO : EPOCH 7 - PROGRESS: at 73.52% examples, 380225 words/s, in_qsize 15, out_qsize 0\n",
      "2020-10-28 16:02:56,848 : INFO : EPOCH 7 - PROGRESS: at 77.31% examples, 373133 words/s, in_qsize 15, out_qsize 0\n",
      "2020-10-28 16:02:57,853 : INFO : EPOCH 7 - PROGRESS: at 80.25% examples, 365687 words/s, in_qsize 14, out_qsize 1\n",
      "2020-10-28 16:02:58,904 : INFO : EPOCH 7 - PROGRESS: at 83.94% examples, 361437 words/s, in_qsize 15, out_qsize 0\n",
      "2020-10-28 16:02:59,971 : INFO : EPOCH 7 - PROGRESS: at 87.39% examples, 356435 words/s, in_qsize 16, out_qsize 2\n",
      "2020-10-28 16:03:00,974 : INFO : EPOCH 7 - PROGRESS: at 90.76% examples, 352590 words/s, in_qsize 15, out_qsize 1\n",
      "2020-10-28 16:03:01,981 : INFO : EPOCH 7 - PROGRESS: at 95.01% examples, 352229 words/s, in_qsize 14, out_qsize 1\n",
      "2020-10-28 16:03:03,156 : INFO : EPOCH 7 - PROGRESS: at 98.69% examples, 347476 words/s, in_qsize 13, out_qsize 0\n",
      "2020-10-28 16:03:03,232 : INFO : worker thread finished; awaiting finish of 7 more threads\n",
      "2020-10-28 16:03:03,266 : INFO : worker thread finished; awaiting finish of 6 more threads\n",
      "2020-10-28 16:03:03,279 : INFO : worker thread finished; awaiting finish of 5 more threads\n",
      "2020-10-28 16:03:03,311 : INFO : worker thread finished; awaiting finish of 4 more threads\n",
      "2020-10-28 16:03:03,312 : INFO : worker thread finished; awaiting finish of 3 more threads\n",
      "2020-10-28 16:03:03,314 : INFO : worker thread finished; awaiting finish of 2 more threads\n",
      "2020-10-28 16:03:03,349 : INFO : worker thread finished; awaiting finish of 1 more threads\n",
      "2020-10-28 16:03:03,417 : INFO : worker thread finished; awaiting finish of 0 more threads\n",
      "2020-10-28 16:03:03,418 : INFO : EPOCH - 7 : training on 9227204 raw words (8223199 effective words) took 23.6s, 348197 effective words/s\n",
      "2020-10-28 16:03:04,511 : INFO : EPOCH 8 - PROGRESS: at 3.80% examples, 297646 words/s, in_qsize 15, out_qsize 0\n",
      "2020-10-28 16:03:05,526 : INFO : EPOCH 8 - PROGRESS: at 9.88% examples, 392981 words/s, in_qsize 16, out_qsize 0\n",
      "2020-10-28 16:03:06,544 : INFO : EPOCH 8 - PROGRESS: at 12.17% examples, 323816 words/s, in_qsize 16, out_qsize 0\n",
      "2020-10-28 16:03:07,553 : INFO : EPOCH 8 - PROGRESS: at 16.16% examples, 324498 words/s, in_qsize 15, out_qsize 0\n",
      "2020-10-28 16:03:08,553 : INFO : EPOCH 8 - PROGRESS: at 20.27% examples, 327227 words/s, in_qsize 16, out_qsize 0\n",
      "2020-10-28 16:03:09,569 : INFO : EPOCH 8 - PROGRESS: at 26.99% examples, 363298 words/s, in_qsize 13, out_qsize 2\n",
      "2020-10-28 16:03:10,597 : INFO : EPOCH 8 - PROGRESS: at 34.68% examples, 399559 words/s, in_qsize 15, out_qsize 0\n",
      "2020-10-28 16:03:11,620 : INFO : EPOCH 8 - PROGRESS: at 43.21% examples, 435729 words/s, in_qsize 15, out_qsize 0\n",
      "2020-10-28 16:03:12,660 : INFO : EPOCH 8 - PROGRESS: at 51.86% examples, 463955 words/s, in_qsize 15, out_qsize 0\n",
      "2020-10-28 16:03:13,670 : INFO : EPOCH 8 - PROGRESS: at 59.97% examples, 483565 words/s, in_qsize 15, out_qsize 0\n",
      "2020-10-28 16:03:14,681 : INFO : EPOCH 8 - PROGRESS: at 69.18% examples, 507466 words/s, in_qsize 15, out_qsize 0\n",
      "2020-10-28 16:03:15,685 : INFO : EPOCH 8 - PROGRESS: at 76.77% examples, 516759 words/s, in_qsize 15, out_qsize 0\n",
      "2020-10-28 16:03:16,686 : INFO : EPOCH 8 - PROGRESS: at 83.51% examples, 519448 words/s, in_qsize 15, out_qsize 0\n",
      "2020-10-28 16:03:17,687 : INFO : EPOCH 8 - PROGRESS: at 89.56% examples, 517925 words/s, in_qsize 16, out_qsize 2\n",
      "2020-10-28 16:03:18,690 : INFO : EPOCH 8 - PROGRESS: at 97.61% examples, 527083 words/s, in_qsize 15, out_qsize 0\n",
      "2020-10-28 16:03:18,851 : INFO : worker thread finished; awaiting finish of 7 more threads\n",
      "2020-10-28 16:03:18,879 : INFO : worker thread finished; awaiting finish of 6 more threads\n",
      "2020-10-28 16:03:18,896 : INFO : worker thread finished; awaiting finish of 5 more threads\n",
      "2020-10-28 16:03:18,898 : INFO : worker thread finished; awaiting finish of 4 more threads\n",
      "2020-10-28 16:03:18,924 : INFO : worker thread finished; awaiting finish of 3 more threads\n"
     ]
    },
    {
     "name": "stderr",
     "output_type": "stream",
     "text": [
      "2020-10-28 16:03:18,935 : INFO : worker thread finished; awaiting finish of 2 more threads\n",
      "2020-10-28 16:03:18,948 : INFO : worker thread finished; awaiting finish of 1 more threads\n",
      "2020-10-28 16:03:18,963 : INFO : worker thread finished; awaiting finish of 0 more threads\n",
      "2020-10-28 16:03:18,963 : INFO : EPOCH - 8 : training on 9227204 raw words (8222727 effective words) took 15.5s, 530500 effective words/s\n",
      "2020-10-28 16:03:20,007 : INFO : EPOCH 9 - PROGRESS: at 7.93% examples, 631292 words/s, in_qsize 16, out_qsize 0\n",
      "2020-10-28 16:03:21,021 : INFO : EPOCH 9 - PROGRESS: at 17.35% examples, 697559 words/s, in_qsize 15, out_qsize 1\n",
      "2020-10-28 16:03:22,053 : INFO : EPOCH 9 - PROGRESS: at 26.45% examples, 706748 words/s, in_qsize 16, out_qsize 0\n",
      "2020-10-28 16:03:23,078 : INFO : EPOCH 9 - PROGRESS: at 35.75% examples, 716860 words/s, in_qsize 15, out_qsize 0\n",
      "2020-10-28 16:03:24,208 : INFO : EPOCH 9 - PROGRESS: at 41.92% examples, 659088 words/s, in_qsize 14, out_qsize 1\n",
      "2020-10-28 16:03:25,227 : INFO : EPOCH 9 - PROGRESS: at 50.24% examples, 661364 words/s, in_qsize 16, out_qsize 0\n",
      "2020-10-28 16:03:26,235 : INFO : EPOCH 9 - PROGRESS: at 59.44% examples, 673901 words/s, in_qsize 15, out_qsize 0\n",
      "2020-10-28 16:03:27,242 : INFO : EPOCH 9 - PROGRESS: at 68.64% examples, 683391 words/s, in_qsize 15, out_qsize 1\n",
      "2020-10-28 16:03:28,258 : INFO : EPOCH 9 - PROGRESS: at 78.07% examples, 692051 words/s, in_qsize 15, out_qsize 0\n",
      "2020-10-28 16:03:29,295 : INFO : EPOCH 9 - PROGRESS: at 87.51% examples, 697531 words/s, in_qsize 15, out_qsize 0\n",
      "2020-10-28 16:03:30,302 : INFO : EPOCH 9 - PROGRESS: at 97.07% examples, 704663 words/s, in_qsize 16, out_qsize 0\n",
      "2020-10-28 16:03:30,588 : INFO : worker thread finished; awaiting finish of 7 more threads\n",
      "2020-10-28 16:03:30,593 : INFO : worker thread finished; awaiting finish of 6 more threads\n",
      "2020-10-28 16:03:30,594 : INFO : worker thread finished; awaiting finish of 5 more threads\n",
      "2020-10-28 16:03:30,595 : INFO : worker thread finished; awaiting finish of 4 more threads\n",
      "2020-10-28 16:03:30,596 : INFO : worker thread finished; awaiting finish of 3 more threads\n",
      "2020-10-28 16:03:30,600 : INFO : worker thread finished; awaiting finish of 2 more threads\n",
      "2020-10-28 16:03:30,645 : INFO : worker thread finished; awaiting finish of 1 more threads\n",
      "2020-10-28 16:03:30,667 : INFO : worker thread finished; awaiting finish of 0 more threads\n",
      "2020-10-28 16:03:30,668 : INFO : EPOCH - 9 : training on 9227204 raw words (8221485 effective words) took 11.7s, 703290 effective words/s\n",
      "2020-10-28 16:03:31,703 : INFO : EPOCH 10 - PROGRESS: at 6.84% examples, 559981 words/s, in_qsize 15, out_qsize 0\n",
      "2020-10-28 16:03:32,725 : INFO : EPOCH 10 - PROGRESS: at 13.36% examples, 541185 words/s, in_qsize 16, out_qsize 0\n",
      "2020-10-28 16:03:33,746 : INFO : EPOCH 10 - PROGRESS: at 20.49% examples, 552734 words/s, in_qsize 14, out_qsize 1\n",
      "2020-10-28 16:03:34,759 : INFO : EPOCH 10 - PROGRESS: at 28.83% examples, 583781 words/s, in_qsize 15, out_qsize 0\n",
      "2020-10-28 16:03:35,777 : INFO : EPOCH 10 - PROGRESS: at 37.70% examples, 610595 words/s, in_qsize 16, out_qsize 0\n",
      "2020-10-28 16:03:36,783 : INFO : EPOCH 10 - PROGRESS: at 46.24% examples, 625390 words/s, in_qsize 14, out_qsize 1\n",
      "2020-10-28 16:03:37,800 : INFO : EPOCH 10 - PROGRESS: at 53.81% examples, 623707 words/s, in_qsize 16, out_qsize 3\n",
      "2020-10-28 16:03:38,801 : INFO : EPOCH 10 - PROGRESS: at 58.58% examples, 595010 words/s, in_qsize 16, out_qsize 0\n",
      "2020-10-28 16:03:39,861 : INFO : EPOCH 10 - PROGRESS: at 66.91% examples, 601029 words/s, in_qsize 14, out_qsize 1\n",
      "2020-10-28 16:03:40,898 : INFO : EPOCH 10 - PROGRESS: at 74.92% examples, 604528 words/s, in_qsize 15, out_qsize 0\n",
      "2020-10-28 16:03:41,938 : INFO : EPOCH 10 - PROGRESS: at 83.94% examples, 614380 words/s, in_qsize 15, out_qsize 0\n",
      "2020-10-28 16:03:42,939 : INFO : EPOCH 10 - PROGRESS: at 93.26% examples, 626715 words/s, in_qsize 15, out_qsize 0\n",
      "2020-10-28 16:03:43,607 : INFO : worker thread finished; awaiting finish of 7 more threads\n",
      "2020-10-28 16:03:43,610 : INFO : worker thread finished; awaiting finish of 6 more threads\n",
      "2020-10-28 16:03:43,621 : INFO : worker thread finished; awaiting finish of 5 more threads\n",
      "2020-10-28 16:03:43,641 : INFO : worker thread finished; awaiting finish of 4 more threads\n",
      "2020-10-28 16:03:43,668 : INFO : worker thread finished; awaiting finish of 3 more threads\n",
      "2020-10-28 16:03:43,669 : INFO : worker thread finished; awaiting finish of 2 more threads\n",
      "2020-10-28 16:03:43,671 : INFO : worker thread finished; awaiting finish of 1 more threads\n",
      "2020-10-28 16:03:43,677 : INFO : worker thread finished; awaiting finish of 0 more threads\n",
      "2020-10-28 16:03:43,677 : INFO : EPOCH - 10 : training on 9227204 raw words (8223046 effective words) took 13.0s, 633703 effective words/s\n",
      "2020-10-28 16:03:44,694 : INFO : EPOCH 11 - PROGRESS: at 8.47% examples, 690888 words/s, in_qsize 14, out_qsize 1\n",
      "2020-10-28 16:03:45,714 : INFO : EPOCH 11 - PROGRESS: at 17.89% examples, 725529 words/s, in_qsize 14, out_qsize 1\n",
      "2020-10-28 16:03:46,753 : INFO : EPOCH 11 - PROGRESS: at 27.42% examples, 735313 words/s, in_qsize 15, out_qsize 0\n",
      "2020-10-28 16:03:47,762 : INFO : EPOCH 11 - PROGRESS: at 36.07% examples, 728301 words/s, in_qsize 15, out_qsize 0\n",
      "2020-10-28 16:03:48,762 : INFO : EPOCH 11 - PROGRESS: at 43.86% examples, 711069 words/s, in_qsize 15, out_qsize 0\n",
      "2020-10-28 16:03:49,856 : INFO : EPOCH 11 - PROGRESS: at 52.73% examples, 703468 words/s, in_qsize 13, out_qsize 2\n",
      "2020-10-28 16:03:50,867 : INFO : EPOCH 11 - PROGRESS: at 62.14% examples, 712399 words/s, in_qsize 14, out_qsize 1\n",
      "2020-10-28 16:03:51,875 : INFO : EPOCH 11 - PROGRESS: at 71.24% examples, 716097 words/s, in_qsize 15, out_qsize 0\n",
      "2020-10-28 16:03:52,888 : INFO : EPOCH 11 - PROGRESS: at 79.49% examples, 710829 words/s, in_qsize 16, out_qsize 0\n",
      "2020-10-28 16:03:53,938 : INFO : EPOCH 11 - PROGRESS: at 86.96% examples, 697975 words/s, in_qsize 14, out_qsize 1\n",
      "2020-10-28 16:03:54,948 : INFO : EPOCH 11 - PROGRESS: at 96.64% examples, 705738 words/s, in_qsize 16, out_qsize 1\n",
      "2020-10-28 16:03:55,242 : INFO : worker thread finished; awaiting finish of 7 more threads\n",
      "2020-10-28 16:03:55,258 : INFO : worker thread finished; awaiting finish of 6 more threads\n",
      "2020-10-28 16:03:55,272 : INFO : worker thread finished; awaiting finish of 5 more threads\n",
      "2020-10-28 16:03:55,304 : INFO : worker thread finished; awaiting finish of 4 more threads\n",
      "2020-10-28 16:03:55,335 : INFO : worker thread finished; awaiting finish of 3 more threads\n",
      "2020-10-28 16:03:55,368 : INFO : worker thread finished; awaiting finish of 2 more threads\n",
      "2020-10-28 16:03:55,379 : INFO : worker thread finished; awaiting finish of 1 more threads\n",
      "2020-10-28 16:03:55,419 : INFO : worker thread finished; awaiting finish of 0 more threads\n",
      "2020-10-28 16:03:55,420 : INFO : EPOCH - 11 : training on 9227204 raw words (8223662 effective words) took 11.7s, 700980 effective words/s\n",
      "2020-10-28 16:03:56,481 : INFO : EPOCH 12 - PROGRESS: at 7.06% examples, 574632 words/s, in_qsize 15, out_qsize 0\n",
      "2020-10-28 16:03:57,482 : INFO : EPOCH 12 - PROGRESS: at 15.19% examples, 621017 words/s, in_qsize 14, out_qsize 1\n",
      "2020-10-28 16:03:58,496 : INFO : EPOCH 12 - PROGRESS: at 19.40% examples, 527624 words/s, in_qsize 16, out_qsize 0\n",
      "2020-10-28 16:03:59,620 : INFO : EPOCH 12 - PROGRESS: at 24.72% examples, 489878 words/s, in_qsize 16, out_qsize 0\n",
      "2020-10-28 16:04:00,627 : INFO : EPOCH 12 - PROGRESS: at 29.80% examples, 475387 words/s, in_qsize 16, out_qsize 0\n",
      "2020-10-28 16:04:01,638 : INFO : EPOCH 12 - PROGRESS: at 34.02% examples, 453810 words/s, in_qsize 16, out_qsize 1\n",
      "2020-10-28 16:04:02,684 : INFO : EPOCH 12 - PROGRESS: at 39.32% examples, 448509 words/s, in_qsize 14, out_qsize 1\n",
      "2020-10-28 16:04:03,724 : INFO : EPOCH 12 - PROGRESS: at 45.37% examples, 452446 words/s, in_qsize 13, out_qsize 2\n",
      "2020-10-28 16:04:04,733 : INFO : EPOCH 12 - PROGRESS: at 50.88% examples, 452208 words/s, in_qsize 15, out_qsize 0\n",
      "2020-10-28 16:04:05,794 : INFO : EPOCH 12 - PROGRESS: at 57.38% examples, 457533 words/s, in_qsize 14, out_qsize 1\n",
      "2020-10-28 16:04:06,812 : INFO : EPOCH 12 - PROGRESS: at 64.30% examples, 466781 words/s, in_qsize 16, out_qsize 0\n",
      "2020-10-28 16:04:07,871 : INFO : EPOCH 12 - PROGRESS: at 71.24% examples, 472913 words/s, in_qsize 12, out_qsize 5\n"
     ]
    },
    {
     "name": "stderr",
     "output_type": "stream",
     "text": [
      "2020-10-28 16:04:08,871 : INFO : EPOCH 12 - PROGRESS: at 77.85% examples, 478130 words/s, in_qsize 14, out_qsize 1\n",
      "2020-10-28 16:04:09,876 : INFO : EPOCH 12 - PROGRESS: at 84.26% examples, 481266 words/s, in_qsize 15, out_qsize 0\n",
      "2020-10-28 16:04:10,897 : INFO : EPOCH 12 - PROGRESS: at 90.33% examples, 481755 words/s, in_qsize 15, out_qsize 0\n",
      "2020-10-28 16:04:11,927 : INFO : EPOCH 12 - PROGRESS: at 98.14% examples, 490541 words/s, in_qsize 16, out_qsize 2\n",
      "2020-10-28 16:04:12,044 : INFO : worker thread finished; awaiting finish of 7 more threads\n",
      "2020-10-28 16:04:12,080 : INFO : worker thread finished; awaiting finish of 6 more threads\n",
      "2020-10-28 16:04:12,111 : INFO : worker thread finished; awaiting finish of 5 more threads\n",
      "2020-10-28 16:04:12,132 : INFO : worker thread finished; awaiting finish of 4 more threads\n",
      "2020-10-28 16:04:12,142 : INFO : worker thread finished; awaiting finish of 3 more threads\n",
      "2020-10-28 16:04:12,171 : INFO : worker thread finished; awaiting finish of 2 more threads\n",
      "2020-10-28 16:04:12,205 : INFO : worker thread finished; awaiting finish of 1 more threads\n",
      "2020-10-28 16:04:12,213 : INFO : worker thread finished; awaiting finish of 0 more threads\n",
      "2020-10-28 16:04:12,215 : INFO : EPOCH - 12 : training on 9227204 raw words (8223257 effective words) took 16.7s, 491233 effective words/s\n",
      "2020-10-28 16:04:13,278 : INFO : EPOCH 13 - PROGRESS: at 6.40% examples, 515580 words/s, in_qsize 15, out_qsize 0\n",
      "2020-10-28 16:04:14,289 : INFO : EPOCH 13 - PROGRESS: at 12.28% examples, 495797 words/s, in_qsize 16, out_qsize 0\n",
      "2020-10-28 16:04:15,311 : INFO : EPOCH 13 - PROGRESS: at 14.97% examples, 402665 words/s, in_qsize 16, out_qsize 0\n",
      "2020-10-28 16:04:16,323 : INFO : EPOCH 13 - PROGRESS: at 19.40% examples, 392210 words/s, in_qsize 16, out_qsize 0\n",
      "2020-10-28 16:04:17,325 : INFO : EPOCH 13 - PROGRESS: at 22.01% examples, 356892 words/s, in_qsize 15, out_qsize 0\n",
      "2020-10-28 16:04:18,345 : INFO : EPOCH 13 - PROGRESS: at 25.05% examples, 338097 words/s, in_qsize 16, out_qsize 0\n",
      "2020-10-28 16:04:19,359 : INFO : EPOCH 13 - PROGRESS: at 29.16% examples, 337482 words/s, in_qsize 15, out_qsize 0\n",
      "2020-10-28 16:04:20,472 : INFO : EPOCH 13 - PROGRESS: at 33.15% examples, 331867 words/s, in_qsize 15, out_qsize 0\n",
      "2020-10-28 16:04:21,477 : INFO : EPOCH 13 - PROGRESS: at 40.08% examples, 357533 words/s, in_qsize 15, out_qsize 0\n",
      "2020-10-28 16:04:22,507 : INFO : EPOCH 13 - PROGRESS: at 46.24% examples, 371145 words/s, in_qsize 15, out_qsize 3\n",
      "2020-10-28 16:04:23,527 : INFO : EPOCH 13 - PROGRESS: at 50.45% examples, 368390 words/s, in_qsize 15, out_qsize 0\n",
      "2020-10-28 16:04:24,536 : INFO : EPOCH 13 - PROGRESS: at 56.84% examples, 380953 words/s, in_qsize 14, out_qsize 1\n",
      "2020-10-28 16:04:25,574 : INFO : EPOCH 13 - PROGRESS: at 62.68% examples, 387382 words/s, in_qsize 15, out_qsize 1\n",
      "2020-10-28 16:04:26,577 : INFO : EPOCH 13 - PROGRESS: at 69.94% examples, 401933 words/s, in_qsize 15, out_qsize 0\n",
      "2020-10-28 16:04:27,605 : INFO : EPOCH 13 - PROGRESS: at 77.53% examples, 415613 words/s, in_qsize 15, out_qsize 0\n",
      "2020-10-28 16:04:28,629 : INFO : EPOCH 13 - PROGRESS: at 84.58% examples, 424990 words/s, in_qsize 16, out_qsize 0\n",
      "2020-10-28 16:04:29,653 : INFO : EPOCH 13 - PROGRESS: at 90.76% examples, 429141 words/s, in_qsize 16, out_qsize 1\n",
      "2020-10-28 16:04:30,682 : INFO : EPOCH 13 - PROGRESS: at 97.82% examples, 436583 words/s, in_qsize 12, out_qsize 3\n",
      "2020-10-28 16:04:30,827 : INFO : worker thread finished; awaiting finish of 7 more threads\n",
      "2020-10-28 16:04:30,830 : INFO : worker thread finished; awaiting finish of 6 more threads\n",
      "2020-10-28 16:04:30,874 : INFO : worker thread finished; awaiting finish of 5 more threads\n",
      "2020-10-28 16:04:30,895 : INFO : worker thread finished; awaiting finish of 4 more threads\n",
      "2020-10-28 16:04:30,926 : INFO : worker thread finished; awaiting finish of 3 more threads\n",
      "2020-10-28 16:04:30,954 : INFO : worker thread finished; awaiting finish of 2 more threads\n",
      "2020-10-28 16:04:30,955 : INFO : worker thread finished; awaiting finish of 1 more threads\n",
      "2020-10-28 16:04:30,987 : INFO : worker thread finished; awaiting finish of 0 more threads\n",
      "2020-10-28 16:04:30,988 : INFO : EPOCH - 13 : training on 9227204 raw words (8222578 effective words) took 18.7s, 439030 effective words/s\n",
      "2020-10-28 16:04:32,044 : INFO : EPOCH 14 - PROGRESS: at 6.62% examples, 532064 words/s, in_qsize 13, out_qsize 2\n",
      "2020-10-28 16:04:33,081 : INFO : EPOCH 14 - PROGRESS: at 12.49% examples, 497979 words/s, in_qsize 15, out_qsize 0\n",
      "2020-10-28 16:04:34,089 : INFO : EPOCH 14 - PROGRESS: at 18.97% examples, 508430 words/s, in_qsize 14, out_qsize 0\n",
      "2020-10-28 16:04:35,123 : INFO : EPOCH 14 - PROGRESS: at 24.39% examples, 488914 words/s, in_qsize 14, out_qsize 1\n",
      "2020-10-28 16:04:36,132 : INFO : EPOCH 14 - PROGRESS: at 30.13% examples, 484779 words/s, in_qsize 15, out_qsize 0\n",
      "2020-10-28 16:04:37,137 : INFO : EPOCH 14 - PROGRESS: at 35.53% examples, 477897 words/s, in_qsize 15, out_qsize 0\n",
      "2020-10-28 16:04:38,143 : INFO : EPOCH 14 - PROGRESS: at 40.73% examples, 470405 words/s, in_qsize 16, out_qsize 0\n",
      "2020-10-28 16:04:39,145 : INFO : EPOCH 14 - PROGRESS: at 47.54% examples, 481502 words/s, in_qsize 16, out_qsize 0\n",
      "2020-10-28 16:04:40,161 : INFO : EPOCH 14 - PROGRESS: at 54.78% examples, 493329 words/s, in_qsize 16, out_qsize 0\n",
      "2020-10-28 16:04:41,179 : INFO : EPOCH 14 - PROGRESS: at 60.85% examples, 493038 words/s, in_qsize 15, out_qsize 0\n",
      "2020-10-28 16:04:42,191 : INFO : EPOCH 14 - PROGRESS: at 68.21% examples, 502577 words/s, in_qsize 16, out_qsize 0\n",
      "2020-10-28 16:04:43,260 : INFO : EPOCH 14 - PROGRESS: at 72.75% examples, 489237 words/s, in_qsize 15, out_qsize 0\n",
      "2020-10-28 16:04:44,384 : INFO : EPOCH 14 - PROGRESS: at 77.20% examples, 475399 words/s, in_qsize 15, out_qsize 2\n",
      "2020-10-28 16:04:45,392 : INFO : EPOCH 14 - PROGRESS: at 84.48% examples, 483588 words/s, in_qsize 16, out_qsize 0\n",
      "2020-10-28 16:04:46,394 : INFO : EPOCH 14 - PROGRESS: at 90.65% examples, 485083 words/s, in_qsize 16, out_qsize 0\n",
      "2020-10-28 16:04:47,447 : INFO : EPOCH 14 - PROGRESS: at 96.53% examples, 483242 words/s, in_qsize 15, out_qsize 0\n",
      "2020-10-28 16:04:47,970 : INFO : worker thread finished; awaiting finish of 7 more threads\n",
      "2020-10-28 16:04:47,971 : INFO : worker thread finished; awaiting finish of 6 more threads\n",
      "2020-10-28 16:04:47,983 : INFO : worker thread finished; awaiting finish of 5 more threads\n",
      "2020-10-28 16:04:48,018 : INFO : worker thread finished; awaiting finish of 4 more threads\n",
      "2020-10-28 16:04:48,073 : INFO : worker thread finished; awaiting finish of 3 more threads\n",
      "2020-10-28 16:04:48,103 : INFO : worker thread finished; awaiting finish of 2 more threads\n",
      "2020-10-28 16:04:48,104 : INFO : worker thread finished; awaiting finish of 1 more threads\n",
      "2020-10-28 16:04:48,105 : INFO : worker thread finished; awaiting finish of 0 more threads\n",
      "2020-10-28 16:04:48,106 : INFO : EPOCH - 14 : training on 9227204 raw words (8222784 effective words) took 17.1s, 481344 effective words/s\n",
      "2020-10-28 16:04:49,213 : INFO : EPOCH 15 - PROGRESS: at 3.47% examples, 267683 words/s, in_qsize 14, out_qsize 1\n",
      "2020-10-28 16:04:50,232 : INFO : EPOCH 15 - PROGRESS: at 9.66% examples, 380705 words/s, in_qsize 14, out_qsize 1\n",
      "2020-10-28 16:04:51,241 : INFO : EPOCH 15 - PROGRESS: at 17.35% examples, 460916 words/s, in_qsize 16, out_qsize 0\n",
      "2020-10-28 16:04:52,245 : INFO : EPOCH 15 - PROGRESS: at 22.98% examples, 461065 words/s, in_qsize 16, out_qsize 0\n",
      "2020-10-28 16:04:53,257 : INFO : EPOCH 15 - PROGRESS: at 28.94% examples, 465657 words/s, in_qsize 15, out_qsize 0\n",
      "2020-10-28 16:04:54,403 : INFO : EPOCH 15 - PROGRESS: at 35.75% examples, 470021 words/s, in_qsize 14, out_qsize 1\n",
      "2020-10-28 16:04:55,417 : INFO : EPOCH 15 - PROGRESS: at 40.94% examples, 463280 words/s, in_qsize 15, out_qsize 0\n",
      "2020-10-28 16:04:56,431 : INFO : EPOCH 15 - PROGRESS: at 46.78% examples, 464630 words/s, in_qsize 16, out_qsize 1\n",
      "2020-10-28 16:04:57,516 : INFO : EPOCH 15 - PROGRESS: at 52.73% examples, 463205 words/s, in_qsize 11, out_qsize 4\n",
      "2020-10-28 16:04:58,517 : INFO : EPOCH 15 - PROGRESS: at 59.12% examples, 469178 words/s, in_qsize 16, out_qsize 0\n",
      "2020-10-28 16:04:59,520 : INFO : EPOCH 15 - PROGRESS: at 65.72% examples, 475569 words/s, in_qsize 16, out_qsize 0\n"
     ]
    },
    {
     "name": "stderr",
     "output_type": "stream",
     "text": [
      "2020-10-28 16:05:00,538 : INFO : EPOCH 15 - PROGRESS: at 72.10% examples, 478907 words/s, in_qsize 14, out_qsize 2\n",
      "2020-10-28 16:05:01,544 : INFO : EPOCH 15 - PROGRESS: at 79.16% examples, 486125 words/s, in_qsize 16, out_qsize 0\n",
      "2020-10-28 16:05:02,553 : INFO : EPOCH 15 - PROGRESS: at 86.31% examples, 492862 words/s, in_qsize 15, out_qsize 1\n",
      "2020-10-28 16:05:03,581 : INFO : EPOCH 15 - PROGRESS: at 93.70% examples, 499268 words/s, in_qsize 16, out_qsize 0\n",
      "2020-10-28 16:05:04,364 : INFO : worker thread finished; awaiting finish of 7 more threads\n",
      "2020-10-28 16:05:04,371 : INFO : worker thread finished; awaiting finish of 6 more threads\n",
      "2020-10-28 16:05:04,403 : INFO : worker thread finished; awaiting finish of 5 more threads\n",
      "2020-10-28 16:05:04,404 : INFO : worker thread finished; awaiting finish of 4 more threads\n",
      "2020-10-28 16:05:04,431 : INFO : worker thread finished; awaiting finish of 3 more threads\n",
      "2020-10-28 16:05:04,454 : INFO : worker thread finished; awaiting finish of 2 more threads\n",
      "2020-10-28 16:05:04,457 : INFO : worker thread finished; awaiting finish of 1 more threads\n",
      "2020-10-28 16:05:04,522 : INFO : worker thread finished; awaiting finish of 0 more threads\n",
      "2020-10-28 16:05:04,523 : INFO : EPOCH - 15 : training on 9227204 raw words (8222285 effective words) took 16.4s, 502151 effective words/s\n",
      "2020-10-28 16:05:05,552 : INFO : EPOCH 16 - PROGRESS: at 5.86% examples, 479631 words/s, in_qsize 15, out_qsize 0\n",
      "2020-10-28 16:05:06,571 : INFO : EPOCH 16 - PROGRESS: at 12.38% examples, 502356 words/s, in_qsize 16, out_qsize 0\n",
      "2020-10-28 16:05:07,587 : INFO : EPOCH 16 - PROGRESS: at 18.76% examples, 507275 words/s, in_qsize 15, out_qsize 0\n",
      "2020-10-28 16:05:08,647 : INFO : EPOCH 16 - PROGRESS: at 25.70% examples, 515223 words/s, in_qsize 14, out_qsize 2\n",
      "2020-10-28 16:05:09,685 : INFO : EPOCH 16 - PROGRESS: at 32.19% examples, 515137 words/s, in_qsize 15, out_qsize 0\n",
      "2020-10-28 16:05:10,713 : INFO : EPOCH 16 - PROGRESS: at 39.22% examples, 523232 words/s, in_qsize 15, out_qsize 0\n",
      "2020-10-28 16:05:11,731 : INFO : EPOCH 16 - PROGRESS: at 45.92% examples, 525970 words/s, in_qsize 15, out_qsize 0\n",
      "2020-10-28 16:05:12,744 : INFO : EPOCH 16 - PROGRESS: at 52.07% examples, 522980 words/s, in_qsize 15, out_qsize 1\n",
      "2020-10-28 16:05:13,770 : INFO : EPOCH 16 - PROGRESS: at 58.25% examples, 519859 words/s, in_qsize 13, out_qsize 2\n",
      "2020-10-28 16:05:14,807 : INFO : EPOCH 16 - PROGRESS: at 64.40% examples, 516798 words/s, in_qsize 14, out_qsize 1\n",
      "2020-10-28 16:05:15,821 : INFO : EPOCH 16 - PROGRESS: at 70.27% examples, 512985 words/s, in_qsize 15, out_qsize 0\n",
      "2020-10-28 16:05:16,834 : INFO : EPOCH 16 - PROGRESS: at 75.35% examples, 504743 words/s, in_qsize 15, out_qsize 0\n",
      "2020-10-28 16:05:17,838 : INFO : EPOCH 16 - PROGRESS: at 81.99% examples, 507474 words/s, in_qsize 14, out_qsize 1\n",
      "2020-10-28 16:05:18,871 : INFO : EPOCH 16 - PROGRESS: at 88.48% examples, 508165 words/s, in_qsize 13, out_qsize 2\n",
      "2020-10-28 16:05:19,877 : INFO : EPOCH 16 - PROGRESS: at 94.79% examples, 508477 words/s, in_qsize 15, out_qsize 0\n",
      "2020-10-28 16:05:20,648 : INFO : worker thread finished; awaiting finish of 7 more threads\n",
      "2020-10-28 16:05:20,654 : INFO : worker thread finished; awaiting finish of 6 more threads\n",
      "2020-10-28 16:05:20,687 : INFO : worker thread finished; awaiting finish of 5 more threads\n",
      "2020-10-28 16:05:20,733 : INFO : worker thread finished; awaiting finish of 4 more threads\n",
      "2020-10-28 16:05:20,735 : INFO : worker thread finished; awaiting finish of 3 more threads\n",
      "2020-10-28 16:05:20,753 : INFO : worker thread finished; awaiting finish of 2 more threads\n",
      "2020-10-28 16:05:20,768 : INFO : worker thread finished; awaiting finish of 1 more threads\n",
      "2020-10-28 16:05:20,813 : INFO : worker thread finished; awaiting finish of 0 more threads\n",
      "2020-10-28 16:05:20,814 : INFO : EPOCH - 16 : training on 9227204 raw words (8222314 effective words) took 16.3s, 505550 effective words/s\n",
      "2020-10-28 16:05:21,858 : INFO : EPOCH 17 - PROGRESS: at 5.54% examples, 453116 words/s, in_qsize 16, out_qsize 0\n",
      "2020-10-28 16:05:22,860 : INFO : EPOCH 17 - PROGRESS: at 11.08% examples, 453426 words/s, in_qsize 15, out_qsize 0\n",
      "2020-10-28 16:05:23,873 : INFO : EPOCH 17 - PROGRESS: at 17.02% examples, 463498 words/s, in_qsize 15, out_qsize 0\n",
      "2020-10-28 16:05:24,886 : INFO : EPOCH 17 - PROGRESS: at 22.87% examples, 466550 words/s, in_qsize 15, out_qsize 1\n",
      "2020-10-28 16:05:25,905 : INFO : EPOCH 17 - PROGRESS: at 29.27% examples, 476488 words/s, in_qsize 16, out_qsize 0\n",
      "2020-10-28 16:05:26,938 : INFO : EPOCH 17 - PROGRESS: at 36.29% examples, 490730 words/s, in_qsize 15, out_qsize 0\n",
      "2020-10-28 16:05:27,952 : INFO : EPOCH 17 - PROGRESS: at 42.78% examples, 495941 words/s, in_qsize 16, out_qsize 0\n",
      "2020-10-28 16:05:28,989 : INFO : EPOCH 17 - PROGRESS: at 49.81% examples, 503885 words/s, in_qsize 15, out_qsize 0\n",
      "2020-10-28 16:05:30,009 : INFO : EPOCH 17 - PROGRESS: at 56.73% examples, 510091 words/s, in_qsize 15, out_qsize 1\n",
      "2020-10-28 16:05:31,019 : INFO : EPOCH 17 - PROGRESS: at 62.57% examples, 506753 words/s, in_qsize 15, out_qsize 0\n",
      "2020-10-28 16:05:32,024 : INFO : EPOCH 17 - PROGRESS: at 69.39% examples, 511387 words/s, in_qsize 16, out_qsize 0\n",
      "2020-10-28 16:05:33,029 : INFO : EPOCH 17 - PROGRESS: at 74.59% examples, 504225 words/s, in_qsize 15, out_qsize 0\n",
      "2020-10-28 16:05:34,048 : INFO : EPOCH 17 - PROGRESS: at 81.77% examples, 509858 words/s, in_qsize 16, out_qsize 0\n",
      "2020-10-28 16:05:35,059 : INFO : EPOCH 17 - PROGRESS: at 88.70% examples, 513725 words/s, in_qsize 16, out_qsize 0\n",
      "2020-10-28 16:05:36,065 : INFO : EPOCH 17 - PROGRESS: at 95.12% examples, 514281 words/s, in_qsize 16, out_qsize 1\n",
      "2020-10-28 16:05:36,667 : INFO : worker thread finished; awaiting finish of 7 more threads\n",
      "2020-10-28 16:05:36,703 : INFO : worker thread finished; awaiting finish of 6 more threads\n",
      "2020-10-28 16:05:36,705 : INFO : worker thread finished; awaiting finish of 5 more threads\n",
      "2020-10-28 16:05:36,706 : INFO : worker thread finished; awaiting finish of 4 more threads\n",
      "2020-10-28 16:05:36,733 : INFO : worker thread finished; awaiting finish of 3 more threads\n",
      "2020-10-28 16:05:36,778 : INFO : worker thread finished; awaiting finish of 2 more threads\n",
      "2020-10-28 16:05:36,810 : INFO : worker thread finished; awaiting finish of 1 more threads\n",
      "2020-10-28 16:05:36,813 : INFO : worker thread finished; awaiting finish of 0 more threads\n",
      "2020-10-28 16:05:36,814 : INFO : EPOCH - 17 : training on 9227204 raw words (8223579 effective words) took 16.0s, 515331 effective words/s\n",
      "2020-10-28 16:05:37,870 : INFO : EPOCH 18 - PROGRESS: at 6.73% examples, 543611 words/s, in_qsize 13, out_qsize 2\n",
      "2020-10-28 16:05:38,910 : INFO : EPOCH 18 - PROGRESS: at 13.47% examples, 537179 words/s, in_qsize 16, out_qsize 4\n",
      "2020-10-28 16:05:39,931 : INFO : EPOCH 18 - PROGRESS: at 20.16% examples, 538342 words/s, in_qsize 13, out_qsize 2\n",
      "2020-10-28 16:05:40,951 : INFO : EPOCH 18 - PROGRESS: at 25.26% examples, 506472 words/s, in_qsize 15, out_qsize 0\n",
      "2020-10-28 16:05:41,958 : INFO : EPOCH 18 - PROGRESS: at 30.89% examples, 497308 words/s, in_qsize 16, out_qsize 1\n",
      "2020-10-28 16:05:42,965 : INFO : EPOCH 18 - PROGRESS: at 37.37% examples, 502813 words/s, in_qsize 16, out_qsize 0\n",
      "2020-10-28 16:05:43,967 : INFO : EPOCH 18 - PROGRESS: at 43.86% examples, 507169 words/s, in_qsize 14, out_qsize 1\n",
      "2020-10-28 16:05:45,071 : INFO : EPOCH 18 - PROGRESS: at 50.35% examples, 504078 words/s, in_qsize 15, out_qsize 1\n",
      "2020-10-28 16:05:46,103 : INFO : EPOCH 18 - PROGRESS: at 55.53% examples, 494137 words/s, in_qsize 12, out_qsize 3\n",
      "2020-10-28 16:05:47,187 : INFO : EPOCH 18 - PROGRESS: at 63.43% examples, 505227 words/s, in_qsize 14, out_qsize 1\n",
      "2020-10-28 16:05:48,192 : INFO : EPOCH 18 - PROGRESS: at 71.13% examples, 516209 words/s, in_qsize 15, out_qsize 0\n",
      "2020-10-28 16:05:49,199 : INFO : EPOCH 18 - PROGRESS: at 76.98% examples, 513012 words/s, in_qsize 13, out_qsize 2\n",
      "2020-10-28 16:05:50,202 : INFO : EPOCH 18 - PROGRESS: at 83.18% examples, 512540 words/s, in_qsize 12, out_qsize 3\n",
      "2020-10-28 16:05:51,204 : INFO : EPOCH 18 - PROGRESS: at 89.67% examples, 513968 words/s, in_qsize 16, out_qsize 0\n",
      "2020-10-28 16:05:52,220 : INFO : EPOCH 18 - PROGRESS: at 96.75% examples, 517632 words/s, in_qsize 14, out_qsize 1\n"
     ]
    },
    {
     "name": "stderr",
     "output_type": "stream",
     "text": [
      "2020-10-28 16:05:52,574 : INFO : worker thread finished; awaiting finish of 7 more threads\n",
      "2020-10-28 16:05:52,577 : INFO : worker thread finished; awaiting finish of 6 more threads\n",
      "2020-10-28 16:05:52,578 : INFO : worker thread finished; awaiting finish of 5 more threads\n",
      "2020-10-28 16:05:52,584 : INFO : worker thread finished; awaiting finish of 4 more threads\n",
      "2020-10-28 16:05:52,613 : INFO : worker thread finished; awaiting finish of 3 more threads\n",
      "2020-10-28 16:05:52,614 : INFO : worker thread finished; awaiting finish of 2 more threads\n",
      "2020-10-28 16:05:52,654 : INFO : worker thread finished; awaiting finish of 1 more threads\n",
      "2020-10-28 16:05:52,672 : INFO : worker thread finished; awaiting finish of 0 more threads\n",
      "2020-10-28 16:05:52,674 : INFO : EPOCH - 18 : training on 9227204 raw words (8222665 effective words) took 15.8s, 519760 effective words/s\n",
      "2020-10-28 16:05:53,702 : INFO : EPOCH 19 - PROGRESS: at 5.86% examples, 475557 words/s, in_qsize 15, out_qsize 0\n",
      "2020-10-28 16:05:54,734 : INFO : EPOCH 19 - PROGRESS: at 12.17% examples, 488349 words/s, in_qsize 15, out_qsize 0\n",
      "2020-10-28 16:05:55,752 : INFO : EPOCH 19 - PROGRESS: at 18.54% examples, 497417 words/s, in_qsize 16, out_qsize 0\n",
      "2020-10-28 16:05:56,754 : INFO : EPOCH 19 - PROGRESS: at 24.94% examples, 504209 words/s, in_qsize 16, out_qsize 0\n",
      "2020-10-28 16:05:57,782 : INFO : EPOCH 19 - PROGRESS: at 30.35% examples, 489857 words/s, in_qsize 16, out_qsize 1\n",
      "2020-10-28 16:05:58,796 : INFO : EPOCH 19 - PROGRESS: at 37.05% examples, 498937 words/s, in_qsize 15, out_qsize 1\n",
      "2020-10-28 16:05:59,798 : INFO : EPOCH 19 - PROGRESS: at 42.02% examples, 486225 words/s, in_qsize 15, out_qsize 0\n",
      "2020-10-28 16:06:00,862 : INFO : EPOCH 19 - PROGRESS: at 49.92% examples, 502530 words/s, in_qsize 15, out_qsize 0\n",
      "2020-10-28 16:06:01,863 : INFO : EPOCH 19 - PROGRESS: at 56.84% examples, 509888 words/s, in_qsize 15, out_qsize 0\n",
      "2020-10-28 16:06:02,870 : INFO : EPOCH 19 - PROGRESS: at 63.54% examples, 513696 words/s, in_qsize 16, out_qsize 0\n",
      "2020-10-28 16:06:03,898 : INFO : EPOCH 19 - PROGRESS: at 70.48% examples, 517452 words/s, in_qsize 15, out_qsize 0\n",
      "2020-10-28 16:06:04,902 : INFO : EPOCH 19 - PROGRESS: at 76.88% examples, 517886 words/s, in_qsize 16, out_qsize 0\n",
      "2020-10-28 16:06:05,925 : INFO : EPOCH 19 - PROGRESS: at 83.29% examples, 517564 words/s, in_qsize 14, out_qsize 1\n",
      "2020-10-28 16:06:07,016 : INFO : EPOCH 19 - PROGRESS: at 91.09% examples, 522895 words/s, in_qsize 15, out_qsize 1\n",
      "2020-10-28 16:06:08,039 : INFO : EPOCH 19 - PROGRESS: at 97.29% examples, 521094 words/s, in_qsize 15, out_qsize 0\n",
      "2020-10-28 16:06:08,399 : INFO : worker thread finished; awaiting finish of 7 more threads\n",
      "2020-10-28 16:06:08,400 : INFO : worker thread finished; awaiting finish of 6 more threads\n",
      "2020-10-28 16:06:08,409 : INFO : worker thread finished; awaiting finish of 5 more threads\n",
      "2020-10-28 16:06:08,449 : INFO : worker thread finished; awaiting finish of 4 more threads\n",
      "2020-10-28 16:06:08,478 : INFO : worker thread finished; awaiting finish of 3 more threads\n",
      "2020-10-28 16:06:08,500 : INFO : worker thread finished; awaiting finish of 2 more threads\n",
      "2020-10-28 16:06:08,501 : INFO : worker thread finished; awaiting finish of 1 more threads\n",
      "2020-10-28 16:06:08,551 : INFO : worker thread finished; awaiting finish of 0 more threads\n",
      "2020-10-28 16:06:08,552 : INFO : EPOCH - 19 : training on 9227204 raw words (8221285 effective words) took 15.9s, 518356 effective words/s\n",
      "2020-10-28 16:06:09,568 : INFO : EPOCH 20 - PROGRESS: at 5.54% examples, 453953 words/s, in_qsize 16, out_qsize 0\n",
      "2020-10-28 16:06:10,580 : INFO : EPOCH 20 - PROGRESS: at 9.77% examples, 398317 words/s, in_qsize 15, out_qsize 0\n",
      "2020-10-28 16:06:11,624 : INFO : EPOCH 20 - PROGRESS: at 16.59% examples, 445805 words/s, in_qsize 12, out_qsize 3\n",
      "2020-10-28 16:06:12,632 : INFO : EPOCH 20 - PROGRESS: at 23.20% examples, 468989 words/s, in_qsize 15, out_qsize 0\n",
      "2020-10-28 16:06:13,656 : INFO : EPOCH 20 - PROGRESS: at 29.70% examples, 479612 words/s, in_qsize 14, out_qsize 2\n",
      "2020-10-28 16:06:14,658 : INFO : EPOCH 20 - PROGRESS: at 35.75% examples, 482632 words/s, in_qsize 15, out_qsize 0\n",
      "2020-10-28 16:06:15,697 : INFO : EPOCH 20 - PROGRESS: at 42.57% examples, 490946 words/s, in_qsize 16, out_qsize 2\n",
      "2020-10-28 16:06:16,701 : INFO : EPOCH 20 - PROGRESS: at 49.38% examples, 499391 words/s, in_qsize 15, out_qsize 0\n",
      "2020-10-28 16:06:17,793 : INFO : EPOCH 20 - PROGRESS: at 55.64% examples, 496305 words/s, in_qsize 15, out_qsize 0\n",
      "2020-10-28 16:06:18,810 : INFO : EPOCH 20 - PROGRESS: at 62.57% examples, 502713 words/s, in_qsize 15, out_qsize 0\n",
      "2020-10-28 16:06:19,822 : INFO : EPOCH 20 - PROGRESS: at 68.75% examples, 502604 words/s, in_qsize 15, out_qsize 0\n",
      "2020-10-28 16:06:20,875 : INFO : EPOCH 20 - PROGRESS: at 74.92% examples, 500866 words/s, in_qsize 15, out_qsize 4\n",
      "2020-10-28 16:06:21,882 : INFO : EPOCH 20 - PROGRESS: at 81.88% examples, 505772 words/s, in_qsize 15, out_qsize 3\n",
      "2020-10-28 16:06:22,923 : INFO : EPOCH 20 - PROGRESS: at 88.37% examples, 506337 words/s, in_qsize 16, out_qsize 0\n",
      "2020-10-28 16:06:23,946 : INFO : EPOCH 20 - PROGRESS: at 94.36% examples, 504509 words/s, in_qsize 15, out_qsize 0\n",
      "2020-10-28 16:06:24,667 : INFO : worker thread finished; awaiting finish of 7 more threads\n",
      "2020-10-28 16:06:24,674 : INFO : worker thread finished; awaiting finish of 6 more threads\n",
      "2020-10-28 16:06:24,705 : INFO : worker thread finished; awaiting finish of 5 more threads\n",
      "2020-10-28 16:06:24,721 : INFO : worker thread finished; awaiting finish of 4 more threads\n",
      "2020-10-28 16:06:24,758 : INFO : worker thread finished; awaiting finish of 3 more threads\n",
      "2020-10-28 16:06:24,801 : INFO : worker thread finished; awaiting finish of 2 more threads\n",
      "2020-10-28 16:06:24,803 : INFO : worker thread finished; awaiting finish of 1 more threads\n",
      "2020-10-28 16:06:24,815 : INFO : worker thread finished; awaiting finish of 0 more threads\n",
      "2020-10-28 16:06:24,816 : INFO : EPOCH - 20 : training on 9227204 raw words (8222543 effective words) took 16.2s, 506054 effective words/s\n",
      "2020-10-28 16:06:25,854 : INFO : EPOCH 21 - PROGRESS: at 6.08% examples, 494590 words/s, in_qsize 16, out_qsize 0\n",
      "2020-10-28 16:06:26,903 : INFO : EPOCH 21 - PROGRESS: at 12.39% examples, 493662 words/s, in_qsize 14, out_qsize 1\n",
      "2020-10-28 16:06:27,905 : INFO : EPOCH 21 - PROGRESS: at 18.43% examples, 494918 words/s, in_qsize 15, out_qsize 0\n",
      "2020-10-28 16:06:28,907 : INFO : EPOCH 21 - PROGRESS: at 24.83% examples, 502294 words/s, in_qsize 13, out_qsize 2\n",
      "2020-10-28 16:06:29,938 : INFO : EPOCH 21 - PROGRESS: at 31.32% examples, 505670 words/s, in_qsize 13, out_qsize 4\n",
      "2020-10-28 16:06:30,941 : INFO : EPOCH 21 - PROGRESS: at 38.03% examples, 513030 words/s, in_qsize 13, out_qsize 2\n",
      "2020-10-28 16:06:31,983 : INFO : EPOCH 21 - PROGRESS: at 43.86% examples, 505505 words/s, in_qsize 14, out_qsize 1\n",
      "2020-10-28 16:06:32,994 : INFO : EPOCH 21 - PROGRESS: at 50.56% examples, 510586 words/s, in_qsize 14, out_qsize 1\n",
      "2020-10-28 16:06:34,004 : INFO : EPOCH 21 - PROGRESS: at 57.38% examples, 515572 words/s, in_qsize 15, out_qsize 0\n",
      "2020-10-28 16:06:35,015 : INFO : EPOCH 21 - PROGRESS: at 64.08% examples, 518623 words/s, in_qsize 14, out_qsize 2\n",
      "2020-10-28 16:06:36,041 : INFO : EPOCH 21 - PROGRESS: at 71.56% examples, 525967 words/s, in_qsize 15, out_qsize 0\n",
      "2020-10-28 16:06:37,042 : INFO : EPOCH 21 - PROGRESS: at 76.77% examples, 517836 words/s, in_qsize 16, out_qsize 1\n",
      "2020-10-28 16:06:38,069 : INFO : EPOCH 21 - PROGRESS: at 83.07% examples, 516700 words/s, in_qsize 16, out_qsize 2\n",
      "2020-10-28 16:06:39,134 : INFO : EPOCH 21 - PROGRESS: at 90.22% examples, 519289 words/s, in_qsize 15, out_qsize 0\n",
      "2020-10-28 16:06:40,186 : INFO : EPOCH 21 - PROGRESS: at 96.10% examples, 515019 words/s, in_qsize 15, out_qsize 0\n",
      "2020-10-28 16:06:40,788 : INFO : worker thread finished; awaiting finish of 7 more threads\n",
      "2020-10-28 16:06:40,792 : INFO : worker thread finished; awaiting finish of 6 more threads\n",
      "2020-10-28 16:06:40,826 : INFO : worker thread finished; awaiting finish of 5 more threads\n",
      "2020-10-28 16:06:40,863 : INFO : worker thread finished; awaiting finish of 4 more threads\n",
      "2020-10-28 16:06:40,896 : INFO : worker thread finished; awaiting finish of 3 more threads\n"
     ]
    },
    {
     "name": "stderr",
     "output_type": "stream",
     "text": [
      "2020-10-28 16:06:40,921 : INFO : worker thread finished; awaiting finish of 2 more threads\n",
      "2020-10-28 16:06:40,980 : INFO : worker thread finished; awaiting finish of 1 more threads\n",
      "2020-10-28 16:06:41,010 : INFO : worker thread finished; awaiting finish of 0 more threads\n",
      "2020-10-28 16:06:41,011 : INFO : EPOCH - 21 : training on 9227204 raw words (8221985 effective words) took 16.2s, 508627 effective words/s\n",
      "2020-10-28 16:06:42,047 : INFO : EPOCH 22 - PROGRESS: at 5.21% examples, 421966 words/s, in_qsize 15, out_qsize 0\n",
      "2020-10-28 16:06:43,053 : INFO : EPOCH 22 - PROGRESS: at 11.62% examples, 472075 words/s, in_qsize 15, out_qsize 0\n",
      "2020-10-28 16:06:44,062 : INFO : EPOCH 22 - PROGRESS: at 13.57% examples, 367773 words/s, in_qsize 16, out_qsize 1\n",
      "2020-10-28 16:06:45,229 : INFO : EPOCH 22 - PROGRESS: at 16.27% examples, 318479 words/s, in_qsize 15, out_qsize 0\n",
      "2020-10-28 16:06:46,366 : INFO : EPOCH 22 - PROGRESS: at 19.84% examples, 305637 words/s, in_qsize 15, out_qsize 0\n",
      "2020-10-28 16:06:47,529 : INFO : EPOCH 22 - PROGRESS: at 23.85% examples, 301706 words/s, in_qsize 15, out_qsize 1\n",
      "2020-10-28 16:06:48,572 : INFO : EPOCH 22 - PROGRESS: at 27.20% examples, 296605 words/s, in_qsize 15, out_qsize 0\n",
      "2020-10-28 16:06:49,696 : INFO : EPOCH 22 - PROGRESS: at 30.78% examples, 292060 words/s, in_qsize 15, out_qsize 0\n",
      "2020-10-28 16:06:50,730 : INFO : EPOCH 22 - PROGRESS: at 35.00% examples, 296766 words/s, in_qsize 10, out_qsize 5\n",
      "2020-10-28 16:06:51,735 : INFO : EPOCH 22 - PROGRESS: at 41.92% examples, 322187 words/s, in_qsize 15, out_qsize 1\n",
      "2020-10-28 16:06:52,786 : INFO : EPOCH 22 - PROGRESS: at 48.08% examples, 336635 words/s, in_qsize 15, out_qsize 2\n",
      "2020-10-28 16:06:53,786 : INFO : EPOCH 22 - PROGRESS: at 55.65% examples, 359132 words/s, in_qsize 15, out_qsize 0\n",
      "2020-10-28 16:06:54,801 : INFO : EPOCH 22 - PROGRESS: at 62.14% examples, 371479 words/s, in_qsize 14, out_qsize 1\n",
      "2020-10-28 16:06:55,841 : INFO : EPOCH 22 - PROGRESS: at 69.83% examples, 388123 words/s, in_qsize 16, out_qsize 1\n",
      "2020-10-28 16:06:56,842 : INFO : EPOCH 22 - PROGRESS: at 77.20% examples, 401842 words/s, in_qsize 16, out_qsize 1\n",
      "2020-10-28 16:06:57,844 : INFO : EPOCH 22 - PROGRESS: at 85.34% examples, 417634 words/s, in_qsize 14, out_qsize 1\n",
      "2020-10-28 16:06:58,873 : INFO : EPOCH 22 - PROGRESS: at 93.81% examples, 432457 words/s, in_qsize 14, out_qsize 1\n",
      "2020-10-28 16:06:59,532 : INFO : worker thread finished; awaiting finish of 7 more threads\n",
      "2020-10-28 16:06:59,570 : INFO : worker thread finished; awaiting finish of 6 more threads\n",
      "2020-10-28 16:06:59,587 : INFO : worker thread finished; awaiting finish of 5 more threads\n",
      "2020-10-28 16:06:59,618 : INFO : worker thread finished; awaiting finish of 4 more threads\n",
      "2020-10-28 16:06:59,626 : INFO : worker thread finished; awaiting finish of 3 more threads\n",
      "2020-10-28 16:06:59,651 : INFO : worker thread finished; awaiting finish of 2 more threads\n",
      "2020-10-28 16:06:59,657 : INFO : worker thread finished; awaiting finish of 1 more threads\n",
      "2020-10-28 16:06:59,675 : INFO : worker thread finished; awaiting finish of 0 more threads\n",
      "2020-10-28 16:06:59,676 : INFO : EPOCH - 22 : training on 9227204 raw words (8223663 effective words) took 18.6s, 441130 effective words/s\n",
      "2020-10-28 16:07:00,702 : INFO : EPOCH 23 - PROGRESS: at 7.71% examples, 629430 words/s, in_qsize 16, out_qsize 0\n",
      "2020-10-28 16:07:01,706 : INFO : EPOCH 23 - PROGRESS: at 16.27% examples, 665028 words/s, in_qsize 15, out_qsize 0\n",
      "2020-10-28 16:07:02,711 : INFO : EPOCH 23 - PROGRESS: at 24.17% examples, 659166 words/s, in_qsize 13, out_qsize 3\n",
      "2020-10-28 16:07:03,713 : INFO : EPOCH 23 - PROGRESS: at 32.84% examples, 672126 words/s, in_qsize 15, out_qsize 0\n",
      "2020-10-28 16:07:04,747 : INFO : EPOCH 23 - PROGRESS: at 41.92% examples, 682628 words/s, in_qsize 16, out_qsize 2\n",
      "2020-10-28 16:07:05,750 : INFO : EPOCH 23 - PROGRESS: at 51.10% examples, 694737 words/s, in_qsize 15, out_qsize 1\n",
      "2020-10-28 16:07:06,752 : INFO : EPOCH 23 - PROGRESS: at 60.31% examples, 703488 words/s, in_qsize 16, out_qsize 0\n",
      "2020-10-28 16:07:07,767 : INFO : EPOCH 23 - PROGRESS: at 69.50% examples, 708783 words/s, in_qsize 16, out_qsize 1\n",
      "2020-10-28 16:07:08,787 : INFO : EPOCH 23 - PROGRESS: at 78.18% examples, 707625 words/s, in_qsize 14, out_qsize 1\n",
      "2020-10-28 16:07:09,792 : INFO : EPOCH 23 - PROGRESS: at 85.45% examples, 696292 words/s, in_qsize 15, out_qsize 0\n",
      "2020-10-28 16:07:10,835 : INFO : EPOCH 23 - PROGRESS: at 88.70% examples, 655068 words/s, in_qsize 15, out_qsize 0\n",
      "2020-10-28 16:07:11,883 : INFO : EPOCH 23 - PROGRESS: at 92.61% examples, 624992 words/s, in_qsize 14, out_qsize 1\n",
      "2020-10-28 16:07:13,059 : INFO : EPOCH 23 - PROGRESS: at 96.31% examples, 592668 words/s, in_qsize 15, out_qsize 0\n",
      "2020-10-28 16:07:13,657 : INFO : worker thread finished; awaiting finish of 7 more threads\n",
      "2020-10-28 16:07:13,681 : INFO : worker thread finished; awaiting finish of 6 more threads\n",
      "2020-10-28 16:07:13,747 : INFO : worker thread finished; awaiting finish of 5 more threads\n",
      "2020-10-28 16:07:13,817 : INFO : worker thread finished; awaiting finish of 4 more threads\n",
      "2020-10-28 16:07:13,874 : INFO : worker thread finished; awaiting finish of 3 more threads\n",
      "2020-10-28 16:07:13,941 : INFO : worker thread finished; awaiting finish of 2 more threads\n",
      "2020-10-28 16:07:13,968 : INFO : worker thread finished; awaiting finish of 1 more threads\n",
      "2020-10-28 16:07:13,993 : INFO : worker thread finished; awaiting finish of 0 more threads\n",
      "2020-10-28 16:07:13,994 : INFO : EPOCH - 23 : training on 9227204 raw words (8222788 effective words) took 14.3s, 575174 effective words/s\n",
      "2020-10-28 16:07:15,041 : INFO : EPOCH 24 - PROGRESS: at 2.06% examples, 166646 words/s, in_qsize 15, out_qsize 0\n",
      "2020-10-28 16:07:16,098 : INFO : EPOCH 24 - PROGRESS: at 7.17% examples, 283697 words/s, in_qsize 15, out_qsize 0\n",
      "2020-10-28 16:07:17,131 : INFO : EPOCH 24 - PROGRESS: at 11.62% examples, 307095 words/s, in_qsize 15, out_qsize 0\n",
      "2020-10-28 16:07:18,150 : INFO : EPOCH 24 - PROGRESS: at 15.08% examples, 300255 words/s, in_qsize 14, out_qsize 1\n",
      "2020-10-28 16:07:19,160 : INFO : EPOCH 24 - PROGRESS: at 20.38% examples, 326186 words/s, in_qsize 16, out_qsize 0\n",
      "2020-10-28 16:07:20,217 : INFO : EPOCH 24 - PROGRESS: at 26.12% examples, 346838 words/s, in_qsize 15, out_qsize 0\n",
      "2020-10-28 16:07:21,259 : INFO : EPOCH 24 - PROGRESS: at 29.59% examples, 336290 words/s, in_qsize 15, out_qsize 0\n",
      "2020-10-28 16:07:22,263 : INFO : EPOCH 24 - PROGRESS: at 36.51% examples, 364505 words/s, in_qsize 15, out_qsize 0\n",
      "2020-10-28 16:07:23,276 : INFO : EPOCH 24 - PROGRESS: at 43.75% examples, 389115 words/s, in_qsize 16, out_qsize 0\n",
      "2020-10-28 16:07:24,318 : INFO : EPOCH 24 - PROGRESS: at 49.92% examples, 399094 words/s, in_qsize 15, out_qsize 2\n",
      "2020-10-28 16:07:25,326 : INFO : EPOCH 24 - PROGRESS: at 54.46% examples, 396607 words/s, in_qsize 14, out_qsize 2\n",
      "2020-10-28 16:07:26,328 : INFO : EPOCH 24 - PROGRESS: at 63.01% examples, 421559 words/s, in_qsize 15, out_qsize 0\n",
      "2020-10-28 16:07:27,393 : INFO : EPOCH 24 - PROGRESS: at 71.13% examples, 437928 words/s, in_qsize 16, out_qsize 0\n",
      "2020-10-28 16:07:28,405 : INFO : EPOCH 24 - PROGRESS: at 77.96% examples, 446065 words/s, in_qsize 12, out_qsize 1\n",
      "2020-10-28 16:07:29,406 : INFO : EPOCH 24 - PROGRESS: at 81.99% examples, 438484 words/s, in_qsize 15, out_qsize 0\n",
      "2020-10-28 16:07:30,425 : INFO : EPOCH 24 - PROGRESS: at 88.48% examples, 443834 words/s, in_qsize 14, out_qsize 1\n",
      "2020-10-28 16:07:31,518 : INFO : EPOCH 24 - PROGRESS: at 93.26% examples, 438490 words/s, in_qsize 14, out_qsize 1\n",
      "2020-10-28 16:07:32,553 : INFO : EPOCH 24 - PROGRESS: at 97.82% examples, 434172 words/s, in_qsize 15, out_qsize 0\n",
      "2020-10-28 16:07:32,898 : INFO : worker thread finished; awaiting finish of 7 more threads\n",
      "2020-10-28 16:07:32,915 : INFO : worker thread finished; awaiting finish of 6 more threads\n",
      "2020-10-28 16:07:32,952 : INFO : worker thread finished; awaiting finish of 5 more threads\n",
      "2020-10-28 16:07:32,966 : INFO : worker thread finished; awaiting finish of 4 more threads\n",
      "2020-10-28 16:07:32,975 : INFO : worker thread finished; awaiting finish of 3 more threads\n",
      "2020-10-28 16:07:32,986 : INFO : worker thread finished; awaiting finish of 2 more threads\n"
     ]
    },
    {
     "name": "stderr",
     "output_type": "stream",
     "text": [
      "2020-10-28 16:07:32,992 : INFO : worker thread finished; awaiting finish of 1 more threads\n",
      "2020-10-28 16:07:32,995 : INFO : worker thread finished; awaiting finish of 0 more threads\n",
      "2020-10-28 16:07:32,998 : INFO : EPOCH - 24 : training on 9227204 raw words (8222797 effective words) took 19.0s, 433436 effective words/s\n",
      "2020-10-28 16:07:34,042 : INFO : EPOCH 25 - PROGRESS: at 6.95% examples, 564668 words/s, in_qsize 14, out_qsize 2\n",
      "2020-10-28 16:07:35,071 : INFO : EPOCH 25 - PROGRESS: at 14.11% examples, 568019 words/s, in_qsize 13, out_qsize 2\n",
      "2020-10-28 16:07:36,090 : INFO : EPOCH 25 - PROGRESS: at 21.57% examples, 579650 words/s, in_qsize 14, out_qsize 1\n",
      "2020-10-28 16:07:37,097 : INFO : EPOCH 25 - PROGRESS: at 28.29% examples, 571911 words/s, in_qsize 16, out_qsize 0\n",
      "2020-10-28 16:07:38,108 : INFO : EPOCH 25 - PROGRESS: at 32.08% examples, 519495 words/s, in_qsize 15, out_qsize 0\n",
      "2020-10-28 16:07:39,241 : INFO : EPOCH 25 - PROGRESS: at 40.08% examples, 530890 words/s, in_qsize 14, out_qsize 1\n",
      "2020-10-28 16:07:40,247 : INFO : EPOCH 25 - PROGRESS: at 47.32% examples, 539577 words/s, in_qsize 15, out_qsize 0\n",
      "2020-10-28 16:07:41,254 : INFO : EPOCH 25 - PROGRESS: at 56.84% examples, 568895 words/s, in_qsize 15, out_qsize 1\n",
      "2020-10-28 16:07:42,258 : INFO : EPOCH 25 - PROGRESS: at 62.47% examples, 557208 words/s, in_qsize 15, out_qsize 0\n",
      "2020-10-28 16:07:43,287 : INFO : EPOCH 25 - PROGRESS: at 67.44% examples, 541223 words/s, in_qsize 11, out_qsize 4\n",
      "2020-10-28 16:07:44,325 : INFO : EPOCH 25 - PROGRESS: at 72.32% examples, 527001 words/s, in_qsize 13, out_qsize 2\n",
      "2020-10-28 16:07:45,382 : INFO : EPOCH 25 - PROGRESS: at 78.29% examples, 521541 words/s, in_qsize 15, out_qsize 0\n",
      "2020-10-28 16:07:46,414 : INFO : EPOCH 25 - PROGRESS: at 83.51% examples, 513300 words/s, in_qsize 15, out_qsize 0\n",
      "2020-10-28 16:07:47,418 : INFO : EPOCH 25 - PROGRESS: at 88.80% examples, 507775 words/s, in_qsize 16, out_qsize 0\n",
      "2020-10-28 16:07:48,425 : INFO : EPOCH 25 - PROGRESS: at 94.47% examples, 504603 words/s, in_qsize 13, out_qsize 2\n",
      "2020-10-28 16:07:48,955 : INFO : worker thread finished; awaiting finish of 7 more threads\n",
      "2020-10-28 16:07:48,958 : INFO : worker thread finished; awaiting finish of 6 more threads\n",
      "2020-10-28 16:07:48,976 : INFO : worker thread finished; awaiting finish of 5 more threads\n",
      "2020-10-28 16:07:49,013 : INFO : worker thread finished; awaiting finish of 4 more threads\n",
      "2020-10-28 16:07:49,014 : INFO : worker thread finished; awaiting finish of 3 more threads\n",
      "2020-10-28 16:07:49,034 : INFO : worker thread finished; awaiting finish of 2 more threads\n",
      "2020-10-28 16:07:49,071 : INFO : worker thread finished; awaiting finish of 1 more threads\n",
      "2020-10-28 16:07:49,072 : INFO : worker thread finished; awaiting finish of 0 more threads\n",
      "2020-10-28 16:07:49,075 : INFO : EPOCH - 25 : training on 9227204 raw words (8222480 effective words) took 16.0s, 512552 effective words/s\n",
      "2020-10-28 16:07:50,125 : INFO : EPOCH 26 - PROGRESS: at 5.75% examples, 468304 words/s, in_qsize 15, out_qsize 0\n",
      "2020-10-28 16:07:51,213 : INFO : EPOCH 26 - PROGRESS: at 13.14% examples, 514294 words/s, in_qsize 12, out_qsize 3\n",
      "2020-10-28 16:07:52,224 : INFO : EPOCH 26 - PROGRESS: at 21.79% examples, 576268 words/s, in_qsize 16, out_qsize 0\n",
      "2020-10-28 16:07:53,240 : INFO : EPOCH 26 - PROGRESS: at 28.72% examples, 572482 words/s, in_qsize 16, out_qsize 0\n",
      "2020-10-28 16:07:54,264 : INFO : EPOCH 26 - PROGRESS: at 37.81% examples, 603973 words/s, in_qsize 15, out_qsize 1\n",
      "2020-10-28 16:07:55,265 : INFO : EPOCH 26 - PROGRESS: at 47.10% examples, 630235 words/s, in_qsize 16, out_qsize 0\n",
      "2020-10-28 16:07:56,266 : INFO : EPOCH 26 - PROGRESS: at 56.40% examples, 649310 words/s, in_qsize 15, out_qsize 0\n",
      "2020-10-28 16:07:57,276 : INFO : EPOCH 26 - PROGRESS: at 65.61% examples, 661723 words/s, in_qsize 16, out_qsize 0\n",
      "2020-10-28 16:07:58,279 : INFO : EPOCH 26 - PROGRESS: at 74.59% examples, 669938 words/s, in_qsize 15, out_qsize 0\n",
      "2020-10-28 16:07:59,317 : INFO : EPOCH 26 - PROGRESS: at 84.04% examples, 677774 words/s, in_qsize 15, out_qsize 0\n",
      "2020-10-28 16:08:00,348 : INFO : EPOCH 26 - PROGRESS: at 93.16% examples, 682086 words/s, in_qsize 15, out_qsize 3\n",
      "2020-10-28 16:08:01,031 : INFO : worker thread finished; awaiting finish of 7 more threads\n",
      "2020-10-28 16:08:01,071 : INFO : worker thread finished; awaiting finish of 6 more threads\n",
      "2020-10-28 16:08:01,090 : INFO : worker thread finished; awaiting finish of 5 more threads\n",
      "2020-10-28 16:08:01,104 : INFO : worker thread finished; awaiting finish of 4 more threads\n",
      "2020-10-28 16:08:01,117 : INFO : worker thread finished; awaiting finish of 3 more threads\n",
      "2020-10-28 16:08:01,140 : INFO : worker thread finished; awaiting finish of 2 more threads\n",
      "2020-10-28 16:08:01,147 : INFO : worker thread finished; awaiting finish of 1 more threads\n",
      "2020-10-28 16:08:01,153 : INFO : worker thread finished; awaiting finish of 0 more threads\n",
      "2020-10-28 16:08:01,153 : INFO : EPOCH - 26 : training on 9227204 raw words (8222407 effective words) took 12.0s, 683182 effective words/s\n",
      "2020-10-28 16:08:02,192 : INFO : EPOCH 27 - PROGRESS: at 8.47% examples, 678509 words/s, in_qsize 15, out_qsize 0\n",
      "2020-10-28 16:08:03,219 : INFO : EPOCH 27 - PROGRESS: at 17.78% examples, 712217 words/s, in_qsize 13, out_qsize 2\n",
      "2020-10-28 16:08:04,224 : INFO : EPOCH 27 - PROGRESS: at 27.20% examples, 731537 words/s, in_qsize 13, out_qsize 2\n",
      "2020-10-28 16:08:05,234 : INFO : EPOCH 27 - PROGRESS: at 33.48% examples, 677024 words/s, in_qsize 15, out_qsize 0\n",
      "2020-10-28 16:08:06,235 : INFO : EPOCH 27 - PROGRESS: at 37.27% examples, 604731 words/s, in_qsize 15, out_qsize 2\n",
      "2020-10-28 16:08:07,256 : INFO : EPOCH 27 - PROGRESS: at 44.72% examples, 604361 words/s, in_qsize 16, out_qsize 1\n",
      "2020-10-28 16:08:08,287 : INFO : EPOCH 27 - PROGRESS: at 50.02% examples, 578161 words/s, in_qsize 9, out_qsize 5\n",
      "2020-10-28 16:08:09,307 : INFO : EPOCH 27 - PROGRESS: at 55.75% examples, 563791 words/s, in_qsize 13, out_qsize 2\n",
      "2020-10-28 16:08:10,509 : INFO : EPOCH 27 - PROGRESS: at 61.07% examples, 537936 words/s, in_qsize 15, out_qsize 0\n",
      "2020-10-28 16:08:11,525 : INFO : EPOCH 27 - PROGRESS: at 64.51% examples, 512708 words/s, in_qsize 15, out_qsize 1\n",
      "2020-10-28 16:08:12,646 : INFO : EPOCH 27 - PROGRESS: at 68.75% examples, 492922 words/s, in_qsize 16, out_qsize 2\n",
      "2020-10-28 16:08:13,735 : INFO : EPOCH 27 - PROGRESS: at 72.21% examples, 472895 words/s, in_qsize 15, out_qsize 0\n",
      "2020-10-28 16:08:14,869 : INFO : EPOCH 27 - PROGRESS: at 74.15% examples, 445423 words/s, in_qsize 10, out_qsize 3\n",
      "2020-10-28 16:08:15,885 : INFO : EPOCH 27 - PROGRESS: at 81.45% examples, 455208 words/s, in_qsize 16, out_qsize 0\n",
      "2020-10-28 16:08:16,885 : INFO : EPOCH 27 - PROGRESS: at 86.42% examples, 452312 words/s, in_qsize 15, out_qsize 1\n",
      "2020-10-28 16:08:17,907 : INFO : EPOCH 27 - PROGRESS: at 89.78% examples, 441203 words/s, in_qsize 15, out_qsize 2\n",
      "2020-10-28 16:08:18,953 : INFO : EPOCH 27 - PROGRESS: at 93.26% examples, 431262 words/s, in_qsize 14, out_qsize 1\n",
      "2020-10-28 16:08:19,955 : INFO : EPOCH 27 - PROGRESS: at 98.69% examples, 431968 words/s, in_qsize 12, out_qsize 1\n",
      "2020-10-28 16:08:20,078 : INFO : worker thread finished; awaiting finish of 7 more threads\n",
      "2020-10-28 16:08:20,079 : INFO : worker thread finished; awaiting finish of 6 more threads\n",
      "2020-10-28 16:08:20,117 : INFO : worker thread finished; awaiting finish of 5 more threads\n",
      "2020-10-28 16:08:20,137 : INFO : worker thread finished; awaiting finish of 4 more threads\n",
      "2020-10-28 16:08:20,158 : INFO : worker thread finished; awaiting finish of 3 more threads\n",
      "2020-10-28 16:08:20,195 : INFO : worker thread finished; awaiting finish of 2 more threads\n",
      "2020-10-28 16:08:20,206 : INFO : worker thread finished; awaiting finish of 1 more threads\n",
      "2020-10-28 16:08:20,212 : INFO : worker thread finished; awaiting finish of 0 more threads\n",
      "2020-10-28 16:08:20,213 : INFO : EPOCH - 27 : training on 9227204 raw words (8223446 effective words) took 19.0s, 431804 effective words/s\n",
      "2020-10-28 16:08:21,233 : INFO : EPOCH 28 - PROGRESS: at 6.29% examples, 515981 words/s, in_qsize 16, out_qsize 0\n",
      "2020-10-28 16:08:22,252 : INFO : EPOCH 28 - PROGRESS: at 12.06% examples, 489650 words/s, in_qsize 12, out_qsize 3\n"
     ]
    },
    {
     "name": "stderr",
     "output_type": "stream",
     "text": [
      "2020-10-28 16:08:23,277 : INFO : EPOCH 28 - PROGRESS: at 17.13% examples, 462252 words/s, in_qsize 9, out_qsize 5\n",
      "2020-10-28 16:08:24,340 : INFO : EPOCH 28 - PROGRESS: at 21.46% examples, 429275 words/s, in_qsize 15, out_qsize 0\n",
      "2020-10-28 16:08:25,409 : INFO : EPOCH 28 - PROGRESS: at 24.28% examples, 385435 words/s, in_qsize 15, out_qsize 2\n",
      "2020-10-28 16:08:26,477 : INFO : EPOCH 28 - PROGRESS: at 29.59% examples, 389427 words/s, in_qsize 15, out_qsize 0\n",
      "2020-10-28 16:08:27,502 : INFO : EPOCH 28 - PROGRESS: at 34.35% examples, 388412 words/s, in_qsize 16, out_qsize 0\n",
      "2020-10-28 16:08:28,503 : INFO : EPOCH 28 - PROGRESS: at 40.83% examples, 405986 words/s, in_qsize 16, out_qsize 0\n",
      "2020-10-28 16:08:29,517 : INFO : EPOCH 28 - PROGRESS: at 47.75% examples, 423048 words/s, in_qsize 16, out_qsize 0\n",
      "2020-10-28 16:08:30,537 : INFO : EPOCH 28 - PROGRESS: at 54.24% examples, 433053 words/s, in_qsize 15, out_qsize 1\n",
      "2020-10-28 16:08:31,547 : INFO : EPOCH 28 - PROGRESS: at 61.93% examples, 450338 words/s, in_qsize 15, out_qsize 0\n",
      "2020-10-28 16:08:32,604 : INFO : EPOCH 28 - PROGRESS: at 70.05% examples, 465842 words/s, in_qsize 15, out_qsize 0\n",
      "2020-10-28 16:08:33,618 : INFO : EPOCH 28 - PROGRESS: at 77.09% examples, 473777 words/s, in_qsize 10, out_qsize 5\n",
      "2020-10-28 16:08:34,623 : INFO : EPOCH 28 - PROGRESS: at 83.94% examples, 479681 words/s, in_qsize 15, out_qsize 0\n",
      "2020-10-28 16:08:35,635 : INFO : EPOCH 28 - PROGRESS: at 91.63% examples, 489151 words/s, in_qsize 14, out_qsize 1\n",
      "2020-10-28 16:08:36,577 : INFO : worker thread finished; awaiting finish of 7 more threads\n",
      "2020-10-28 16:08:36,603 : INFO : worker thread finished; awaiting finish of 6 more threads\n",
      "2020-10-28 16:08:36,626 : INFO : worker thread finished; awaiting finish of 5 more threads\n",
      "2020-10-28 16:08:36,650 : INFO : EPOCH 28 - PROGRESS: at 99.57% examples, 498591 words/s, in_qsize 4, out_qsize 1\n",
      "2020-10-28 16:08:36,651 : INFO : worker thread finished; awaiting finish of 4 more threads\n",
      "2020-10-28 16:08:36,665 : INFO : worker thread finished; awaiting finish of 3 more threads\n",
      "2020-10-28 16:08:36,690 : INFO : worker thread finished; awaiting finish of 2 more threads\n",
      "2020-10-28 16:08:36,691 : INFO : worker thread finished; awaiting finish of 1 more threads\n",
      "2020-10-28 16:08:36,698 : INFO : worker thread finished; awaiting finish of 0 more threads\n",
      "2020-10-28 16:08:36,699 : INFO : EPOCH - 28 : training on 9227204 raw words (8221482 effective words) took 16.5s, 499279 effective words/s\n",
      "2020-10-28 16:08:37,758 : INFO : EPOCH 29 - PROGRESS: at 6.08% examples, 495022 words/s, in_qsize 16, out_qsize 0\n",
      "2020-10-28 16:08:38,864 : INFO : EPOCH 29 - PROGRESS: at 11.40% examples, 442691 words/s, in_qsize 15, out_qsize 1\n",
      "2020-10-28 16:08:39,892 : INFO : EPOCH 29 - PROGRESS: at 18.11% examples, 473298 words/s, in_qsize 16, out_qsize 0\n",
      "2020-10-28 16:08:40,894 : INFO : EPOCH 29 - PROGRESS: at 20.16% examples, 399828 words/s, in_qsize 15, out_qsize 0\n",
      "2020-10-28 16:08:41,902 : INFO : EPOCH 29 - PROGRESS: at 27.53% examples, 439190 words/s, in_qsize 16, out_qsize 0\n",
      "2020-10-28 16:08:42,930 : INFO : EPOCH 29 - PROGRESS: at 32.30% examples, 429561 words/s, in_qsize 16, out_qsize 1\n",
      "2020-10-28 16:08:44,066 : INFO : EPOCH 29 - PROGRESS: at 37.05% examples, 416433 words/s, in_qsize 15, out_qsize 0\n",
      "2020-10-28 16:08:45,078 : INFO : EPOCH 29 - PROGRESS: at 43.00% examples, 424720 words/s, in_qsize 14, out_qsize 1\n",
      "2020-10-28 16:08:46,094 : INFO : EPOCH 29 - PROGRESS: at 47.43% examples, 417596 words/s, in_qsize 15, out_qsize 3\n",
      "2020-10-28 16:08:47,205 : INFO : EPOCH 29 - PROGRESS: at 52.62% examples, 414157 words/s, in_qsize 16, out_qsize 2\n",
      "2020-10-28 16:08:48,216 : INFO : EPOCH 29 - PROGRESS: at 58.90% examples, 422749 words/s, in_qsize 14, out_qsize 1\n",
      "2020-10-28 16:08:49,254 : INFO : EPOCH 29 - PROGRESS: at 66.47% examples, 437504 words/s, in_qsize 15, out_qsize 0\n",
      "2020-10-28 16:08:50,255 : INFO : EPOCH 29 - PROGRESS: at 73.52% examples, 447930 words/s, in_qsize 15, out_qsize 0\n",
      "2020-10-28 16:08:51,342 : INFO : EPOCH 29 - PROGRESS: at 79.38% examples, 447508 words/s, in_qsize 13, out_qsize 2\n",
      "2020-10-28 16:08:52,376 : INFO : EPOCH 29 - PROGRESS: at 85.55% examples, 450387 words/s, in_qsize 16, out_qsize 0\n",
      "2020-10-28 16:08:53,407 : INFO : EPOCH 29 - PROGRESS: at 90.87% examples, 448683 words/s, in_qsize 14, out_qsize 1\n",
      "2020-10-28 16:08:54,448 : INFO : EPOCH 29 - PROGRESS: at 95.99% examples, 445929 words/s, in_qsize 16, out_qsize 0\n",
      "2020-10-28 16:08:55,050 : INFO : worker thread finished; awaiting finish of 7 more threads\n",
      "2020-10-28 16:08:55,081 : INFO : worker thread finished; awaiting finish of 6 more threads\n",
      "2020-10-28 16:08:55,105 : INFO : worker thread finished; awaiting finish of 5 more threads\n",
      "2020-10-28 16:08:55,120 : INFO : worker thread finished; awaiting finish of 4 more threads\n",
      "2020-10-28 16:08:55,124 : INFO : worker thread finished; awaiting finish of 3 more threads\n",
      "2020-10-28 16:08:55,176 : INFO : worker thread finished; awaiting finish of 2 more threads\n",
      "2020-10-28 16:08:55,177 : INFO : worker thread finished; awaiting finish of 1 more threads\n",
      "2020-10-28 16:08:55,196 : INFO : worker thread finished; awaiting finish of 0 more threads\n",
      "2020-10-28 16:08:55,197 : INFO : EPOCH - 29 : training on 9227204 raw words (8222845 effective words) took 18.4s, 445759 effective words/s\n",
      "2020-10-28 16:08:56,251 : INFO : EPOCH 30 - PROGRESS: at 4.78% examples, 379953 words/s, in_qsize 16, out_qsize 0\n",
      "2020-10-28 16:08:57,255 : INFO : EPOCH 30 - PROGRESS: at 10.86% examples, 437706 words/s, in_qsize 16, out_qsize 0\n",
      "2020-10-28 16:08:58,283 : INFO : EPOCH 30 - PROGRESS: at 17.46% examples, 467998 words/s, in_qsize 15, out_qsize 3\n",
      "2020-10-28 16:08:59,300 : INFO : EPOCH 30 - PROGRESS: at 24.39% examples, 491142 words/s, in_qsize 15, out_qsize 0\n",
      "2020-10-28 16:09:00,316 : INFO : EPOCH 30 - PROGRESS: at 30.78% examples, 496455 words/s, in_qsize 15, out_qsize 2\n",
      "2020-10-28 16:09:01,325 : INFO : EPOCH 30 - PROGRESS: at 37.05% examples, 498985 words/s, in_qsize 15, out_qsize 0\n",
      "2020-10-28 16:09:02,395 : INFO : EPOCH 30 - PROGRESS: at 42.78% examples, 490328 words/s, in_qsize 14, out_qsize 1\n",
      "2020-10-28 16:09:03,399 : INFO : EPOCH 30 - PROGRESS: at 49.92% examples, 502076 words/s, in_qsize 16, out_qsize 0\n",
      "2020-10-28 16:09:04,436 : INFO : EPOCH 30 - PROGRESS: at 56.95% examples, 508461 words/s, in_qsize 15, out_qsize 0\n",
      "2020-10-28 16:09:05,458 : INFO : EPOCH 30 - PROGRESS: at 64.41% examples, 517726 words/s, in_qsize 15, out_qsize 0\n",
      "2020-10-28 16:09:06,472 : INFO : EPOCH 30 - PROGRESS: at 71.67% examples, 524075 words/s, in_qsize 15, out_qsize 0\n",
      "2020-10-28 16:09:07,493 : INFO : EPOCH 30 - PROGRESS: at 79.05% examples, 529815 words/s, in_qsize 12, out_qsize 3\n",
      "2020-10-28 16:09:08,494 : INFO : EPOCH 30 - PROGRESS: at 86.96% examples, 538849 words/s, in_qsize 15, out_qsize 0\n",
      "2020-10-28 16:09:09,511 : INFO : EPOCH 30 - PROGRESS: at 93.05% examples, 535378 words/s, in_qsize 16, out_qsize 0\n",
      "2020-10-28 16:09:10,503 : INFO : worker thread finished; awaiting finish of 7 more threads\n",
      "2020-10-28 16:09:10,506 : INFO : worker thread finished; awaiting finish of 6 more threads\n",
      "2020-10-28 16:09:10,514 : INFO : EPOCH 30 - PROGRESS: at 99.55% examples, 535217 words/s, in_qsize 5, out_qsize 1\n",
      "2020-10-28 16:09:10,515 : INFO : worker thread finished; awaiting finish of 5 more threads\n",
      "2020-10-28 16:09:10,526 : INFO : worker thread finished; awaiting finish of 4 more threads\n",
      "2020-10-28 16:09:10,529 : INFO : worker thread finished; awaiting finish of 3 more threads\n",
      "2020-10-28 16:09:10,557 : INFO : worker thread finished; awaiting finish of 2 more threads\n",
      "2020-10-28 16:09:10,558 : INFO : worker thread finished; awaiting finish of 1 more threads\n",
      "2020-10-28 16:09:10,559 : INFO : worker thread finished; awaiting finish of 0 more threads\n",
      "2020-10-28 16:09:10,560 : INFO : EPOCH - 30 : training on 9227204 raw words (8222533 effective words) took 15.3s, 535972 effective words/s\n",
      "2020-10-28 16:09:11,605 : INFO : EPOCH 31 - PROGRESS: at 5.43% examples, 437940 words/s, in_qsize 14, out_qsize 5\n",
      "2020-10-28 16:09:12,624 : INFO : EPOCH 31 - PROGRESS: at 13.36% examples, 538337 words/s, in_qsize 16, out_qsize 1\n",
      "2020-10-28 16:09:13,633 : INFO : EPOCH 31 - PROGRESS: at 20.70% examples, 558835 words/s, in_qsize 16, out_qsize 1\n"
     ]
    },
    {
     "name": "stderr",
     "output_type": "stream",
     "text": [
      "2020-10-28 16:09:14,642 : INFO : EPOCH 31 - PROGRESS: at 25.37% examples, 514296 words/s, in_qsize 15, out_qsize 0\n",
      "2020-10-28 16:09:15,771 : INFO : EPOCH 31 - PROGRESS: at 29.91% examples, 474553 words/s, in_qsize 14, out_qsize 2\n",
      "2020-10-28 16:09:16,797 : INFO : EPOCH 31 - PROGRESS: at 34.02% examples, 450628 words/s, in_qsize 16, out_qsize 1\n",
      "2020-10-28 16:09:17,797 : INFO : EPOCH 31 - PROGRESS: at 37.05% examples, 422715 words/s, in_qsize 15, out_qsize 3\n",
      "2020-10-28 16:09:18,854 : INFO : EPOCH 31 - PROGRESS: at 41.16% examples, 409630 words/s, in_qsize 15, out_qsize 0\n",
      "2020-10-28 16:09:20,073 : INFO : EPOCH 31 - PROGRESS: at 45.59% examples, 395448 words/s, in_qsize 12, out_qsize 3\n",
      "2020-10-28 16:09:21,172 : INFO : EPOCH 31 - PROGRESS: at 53.16% examples, 413331 words/s, in_qsize 15, out_qsize 0\n",
      "2020-10-28 16:09:22,183 : INFO : EPOCH 31 - PROGRESS: at 59.77% examples, 424189 words/s, in_qsize 16, out_qsize 0\n",
      "2020-10-28 16:09:23,195 : INFO : EPOCH 31 - PROGRESS: at 66.80% examples, 436079 words/s, in_qsize 15, out_qsize 0\n",
      "2020-10-28 16:09:24,229 : INFO : EPOCH 31 - PROGRESS: at 74.05% examples, 446750 words/s, in_qsize 15, out_qsize 0\n",
      "2020-10-28 16:09:25,229 : INFO : EPOCH 31 - PROGRESS: at 80.24% examples, 450895 words/s, in_qsize 16, out_qsize 0\n",
      "2020-10-28 16:09:26,322 : INFO : EPOCH 31 - PROGRESS: at 85.56% examples, 447320 words/s, in_qsize 15, out_qsize 0\n",
      "2020-10-28 16:09:27,376 : INFO : EPOCH 31 - PROGRESS: at 91.74% examples, 449459 words/s, in_qsize 12, out_qsize 3\n",
      "2020-10-28 16:09:28,374 : INFO : worker thread finished; awaiting finish of 7 more threads\n",
      "2020-10-28 16:09:28,375 : INFO : worker thread finished; awaiting finish of 6 more threads\n",
      "2020-10-28 16:09:28,376 : INFO : EPOCH 31 - PROGRESS: at 99.55% examples, 460221 words/s, in_qsize 5, out_qsize 1\n",
      "2020-10-28 16:09:28,377 : INFO : worker thread finished; awaiting finish of 5 more threads\n",
      "2020-10-28 16:09:28,423 : INFO : worker thread finished; awaiting finish of 4 more threads\n",
      "2020-10-28 16:09:28,427 : INFO : worker thread finished; awaiting finish of 3 more threads\n",
      "2020-10-28 16:09:28,429 : INFO : worker thread finished; awaiting finish of 2 more threads\n",
      "2020-10-28 16:09:28,434 : INFO : worker thread finished; awaiting finish of 1 more threads\n",
      "2020-10-28 16:09:28,452 : INFO : worker thread finished; awaiting finish of 0 more threads\n",
      "2020-10-28 16:09:28,454 : INFO : EPOCH - 31 : training on 9227204 raw words (8223060 effective words) took 17.9s, 460281 effective words/s\n",
      "2020-10-28 16:09:29,529 : INFO : EPOCH 32 - PROGRESS: at 5.32% examples, 431876 words/s, in_qsize 15, out_qsize 0\n",
      "2020-10-28 16:09:30,545 : INFO : EPOCH 32 - PROGRESS: at 11.08% examples, 448493 words/s, in_qsize 16, out_qsize 0\n",
      "2020-10-28 16:09:31,623 : INFO : EPOCH 32 - PROGRESS: at 15.30% examples, 404536 words/s, in_qsize 15, out_qsize 0\n",
      "2020-10-28 16:09:32,624 : INFO : EPOCH 32 - PROGRESS: at 19.84% examples, 397088 words/s, in_qsize 14, out_qsize 1\n",
      "2020-10-28 16:09:33,635 : INFO : EPOCH 32 - PROGRESS: at 24.18% examples, 388259 words/s, in_qsize 15, out_qsize 0\n",
      "2020-10-28 16:09:34,665 : INFO : EPOCH 32 - PROGRESS: at 30.35% examples, 405831 words/s, in_qsize 16, out_qsize 0\n",
      "2020-10-28 16:09:35,668 : INFO : EPOCH 32 - PROGRESS: at 35.54% examples, 408648 words/s, in_qsize 16, out_qsize 0\n",
      "2020-10-28 16:09:36,676 : INFO : EPOCH 32 - PROGRESS: at 42.78% examples, 431361 words/s, in_qsize 15, out_qsize 0\n",
      "2020-10-28 16:09:37,681 : INFO : EPOCH 32 - PROGRESS: at 49.06% examples, 440431 words/s, in_qsize 14, out_qsize 1\n",
      "2020-10-28 16:09:38,701 : INFO : EPOCH 32 - PROGRESS: at 56.18% examples, 454117 words/s, in_qsize 13, out_qsize 2\n",
      "2020-10-28 16:09:39,733 : INFO : EPOCH 32 - PROGRESS: at 63.65% examples, 467129 words/s, in_qsize 16, out_qsize 0\n",
      "2020-10-28 16:09:40,755 : INFO : EPOCH 32 - PROGRESS: at 70.80% examples, 476169 words/s, in_qsize 16, out_qsize 0\n",
      "2020-10-28 16:09:41,757 : INFO : EPOCH 32 - PROGRESS: at 75.13% examples, 467018 words/s, in_qsize 15, out_qsize 0\n",
      "2020-10-28 16:09:42,767 : INFO : EPOCH 32 - PROGRESS: at 78.84% examples, 455168 words/s, in_qsize 15, out_qsize 0\n",
      "2020-10-28 16:09:43,791 : INFO : EPOCH 32 - PROGRESS: at 84.37% examples, 454405 words/s, in_qsize 15, out_qsize 0\n",
      "2020-10-28 16:09:44,791 : INFO : EPOCH 32 - PROGRESS: at 91.20% examples, 460909 words/s, in_qsize 15, out_qsize 0\n",
      "2020-10-28 16:09:45,834 : INFO : EPOCH 32 - PROGRESS: at 96.10% examples, 456275 words/s, in_qsize 14, out_qsize 1\n",
      "2020-10-28 16:09:46,398 : INFO : worker thread finished; awaiting finish of 7 more threads\n",
      "2020-10-28 16:09:46,436 : INFO : worker thread finished; awaiting finish of 6 more threads\n",
      "2020-10-28 16:09:46,495 : INFO : worker thread finished; awaiting finish of 5 more threads\n",
      "2020-10-28 16:09:46,496 : INFO : worker thread finished; awaiting finish of 4 more threads\n",
      "2020-10-28 16:09:46,534 : INFO : worker thread finished; awaiting finish of 3 more threads\n",
      "2020-10-28 16:09:46,538 : INFO : worker thread finished; awaiting finish of 2 more threads\n",
      "2020-10-28 16:09:46,539 : INFO : worker thread finished; awaiting finish of 1 more threads\n",
      "2020-10-28 16:09:46,560 : INFO : worker thread finished; awaiting finish of 0 more threads\n",
      "2020-10-28 16:09:46,562 : INFO : EPOCH - 32 : training on 9227204 raw words (8222172 effective words) took 18.0s, 455697 effective words/s\n",
      "2020-10-28 16:09:46,566 : INFO : training on a 295270528 raw words (263125532 effective words) took 557.1s, 472331 effective words/s\n"
     ]
    },
    {
     "name": "stdout",
     "output_type": "stream",
     "text": [
      "CPU times: user 17min 56s, sys: 13.3 s, total: 18min 10s\n",
      "Wall time: 9min 17s\n"
     ]
    },
    {
     "data": {
      "text/plain": [
       "(263125532, 295270528)"
      ]
     },
     "execution_count": 19,
     "metadata": {},
     "output_type": "execute_result"
    }
   ],
   "source": [
    "%%time\n",
    "w2v_model.train(documents, total_examples=len(documents), epochs=W2V_EPOCH)"
   ]
  },
  {
   "cell_type": "code",
   "execution_count": 20,
   "metadata": {
    "ExecuteTime": {
     "end_time": "2020-10-28T20:09:47.147526Z",
     "start_time": "2020-10-28T20:09:46.737065Z"
    },
    "_uuid": "27cc2651c74227115d8bfd8c40e5618048e05edd"
   },
   "outputs": [
    {
     "name": "stderr",
     "output_type": "stream",
     "text": [
      "/Applications/anaconda3/lib/python3.7/site-packages/ipykernel_launcher.py:1: DeprecationWarning: Call to deprecated `most_similar` (Method will be removed in 4.0.0, use self.wv.most_similar() instead).\n",
      "  \"\"\"Entry point for launching an IPython kernel.\n",
      "2020-10-28 16:09:46,793 : INFO : precomputing L2-norms of word weight vectors\n"
     ]
    },
    {
     "data": {
      "text/plain": [
       "[('luv', 0.5667080283164978),\n",
       " ('loves', 0.5631904006004333),\n",
       " ('loved', 0.5506631135940552),\n",
       " ('adore', 0.5421862602233887),\n",
       " ('amazing', 0.49735286831855774),\n",
       " ('looove', 0.48082008957862854),\n",
       " ('loveee', 0.4690660238265991),\n",
       " ('lovee', 0.4650156497955322),\n",
       " ('awesome', 0.44797778129577637),\n",
       " ('loooove', 0.43323177099227905)]"
      ]
     },
     "execution_count": 20,
     "metadata": {},
     "output_type": "execute_result"
    }
   ],
   "source": [
    "w2v_model.most_similar(\"love\")"
   ]
  },
  {
   "cell_type": "markdown",
   "metadata": {
    "_uuid": "e13563644468037258598637b49373ca96b9b879"
   },
   "source": [
    "### Tokenize Text"
   ]
  },
  {
   "cell_type": "code",
   "execution_count": 21,
   "metadata": {
    "ExecuteTime": {
     "end_time": "2020-10-28T20:10:15.279282Z",
     "start_time": "2020-10-28T20:09:47.179382Z"
    },
    "_uuid": "6852bc709a7cd20173cbeeb218505078f8f37c57"
   },
   "outputs": [
    {
     "name": "stdout",
     "output_type": "stream",
     "text": [
      "Total words 290419\n",
      "CPU times: user 20.7 s, sys: 744 ms, total: 21.4 s\n",
      "Wall time: 28.1 s\n"
     ]
    }
   ],
   "source": [
    "%%time\n",
    "tokenizer = Tokenizer()\n",
    "tokenizer.fit_on_texts(df_train.text)\n",
    "\n",
    "vocab_size = len(tokenizer.word_index) + 1\n",
    "print(\"Total words\", vocab_size)"
   ]
  },
  {
   "cell_type": "code",
   "execution_count": 22,
   "metadata": {
    "ExecuteTime": {
     "end_time": "2020-10-28T20:10:54.821199Z",
     "start_time": "2020-10-28T20:10:15.287297Z"
    },
    "_uuid": "45de439df3015030c71f84c2d170346936a1d68f"
   },
   "outputs": [
    {
     "name": "stdout",
     "output_type": "stream",
     "text": [
      "CPU times: user 26.8 s, sys: 2.94 s, total: 29.7 s\n",
      "Wall time: 39.5 s\n"
     ]
    }
   ],
   "source": [
    "%%time\n",
    "x_train = pad_sequences(tokenizer.texts_to_sequences(df_train.text), maxlen=SEQUENCE_LENGTH)\n",
    "x_test = pad_sequences(tokenizer.texts_to_sequences(df_test.text), maxlen=SEQUENCE_LENGTH)"
   ]
  },
  {
   "cell_type": "markdown",
   "metadata": {
    "_uuid": "03b35903fc6260e190d6928d240ef7432de117fc"
   },
   "source": [
    "### Label Encoder "
   ]
  },
  {
   "cell_type": "code",
   "execution_count": 23,
   "metadata": {
    "ExecuteTime": {
     "end_time": "2020-10-28T20:10:55.076463Z",
     "start_time": "2020-10-28T20:10:54.828445Z"
    },
    "_uuid": "33676e0efa39e97d89bd650b8b4eae933a22fbf0"
   },
   "outputs": [
    {
     "data": {
      "text/plain": [
       "['POSITIVE', 'NEGATIVE', 'NEUTRAL']"
      ]
     },
     "execution_count": 23,
     "metadata": {},
     "output_type": "execute_result"
    }
   ],
   "source": [
    "labels = df_train.target.unique().tolist()\n",
    "labels.append(NEUTRAL)\n",
    "labels"
   ]
  },
  {
   "cell_type": "code",
   "execution_count": 24,
   "metadata": {
    "ExecuteTime": {
     "end_time": "2020-10-28T20:10:56.666911Z",
     "start_time": "2020-10-28T20:10:55.079472Z"
    },
    "_uuid": "04239a9bef76e7922fd86098a5601dfde8ee4665"
   },
   "outputs": [
    {
     "name": "stdout",
     "output_type": "stream",
     "text": [
      "y_train (1280000, 1)\n",
      "y_test (320000, 1)\n"
     ]
    }
   ],
   "source": [
    "encoder = LabelEncoder()\n",
    "encoder.fit(df_train.target.tolist())\n",
    "\n",
    "y_train = encoder.transform(df_train.target.tolist())\n",
    "y_test = encoder.transform(df_test.target.tolist())\n",
    "\n",
    "y_train = y_train.reshape(-1,1)\n",
    "y_test = y_test.reshape(-1,1)\n",
    "\n",
    "print(\"y_train\",y_train.shape)\n",
    "print(\"y_test\",y_test.shape)"
   ]
  },
  {
   "cell_type": "code",
   "execution_count": 25,
   "metadata": {
    "ExecuteTime": {
     "end_time": "2020-10-28T20:10:56.701055Z",
     "start_time": "2020-10-28T20:10:56.669444Z"
    },
    "_uuid": "04299c886911ca135583ab64878f213939a2990c"
   },
   "outputs": [
    {
     "name": "stdout",
     "output_type": "stream",
     "text": [
      "x_train (1280000, 300)\n",
      "y_train (1280000, 1)\n",
      "\n",
      "x_test (320000, 300)\n",
      "y_test (320000, 1)\n"
     ]
    }
   ],
   "source": [
    "print(\"x_train\", x_train.shape)\n",
    "print(\"y_train\", y_train.shape)\n",
    "print()\n",
    "print(\"x_test\", x_test.shape)\n",
    "print(\"y_test\", y_test.shape)"
   ]
  },
  {
   "cell_type": "code",
   "execution_count": 26,
   "metadata": {
    "ExecuteTime": {
     "end_time": "2020-10-28T20:10:56.756022Z",
     "start_time": "2020-10-28T20:10:56.709712Z"
    },
    "_uuid": "232533fb27b7be99d9b8c2f8fb22c9c6bf121a6f"
   },
   "outputs": [
    {
     "data": {
      "text/plain": [
       "array([[1],\n",
       "       [1],\n",
       "       [1],\n",
       "       [0],\n",
       "       [1],\n",
       "       [1],\n",
       "       [1],\n",
       "       [1],\n",
       "       [1],\n",
       "       [1]])"
      ]
     },
     "execution_count": 26,
     "metadata": {},
     "output_type": "execute_result"
    }
   ],
   "source": [
    "y_train[:10]"
   ]
  },
  {
   "cell_type": "markdown",
   "metadata": {
    "_uuid": "233c0ea94055a03e2e7df3e2a13d036ec963484f"
   },
   "source": [
    "### Embedding layer"
   ]
  },
  {
   "cell_type": "code",
   "execution_count": 27,
   "metadata": {
    "ExecuteTime": {
     "end_time": "2020-10-28T20:10:57.595183Z",
     "start_time": "2020-10-28T20:10:56.785314Z"
    },
    "_uuid": "9ab488374b59e3f30f8b1ea92767d853c4846bac"
   },
   "outputs": [
    {
     "name": "stdout",
     "output_type": "stream",
     "text": [
      "(290419, 300)\n"
     ]
    }
   ],
   "source": [
    "embedding_matrix = np.zeros((vocab_size, W2V_SIZE))\n",
    "for word, i in tokenizer.word_index.items():\n",
    "  if word in w2v_model.wv:\n",
    "    embedding_matrix[i] = w2v_model.wv[word]\n",
    "print(embedding_matrix.shape)"
   ]
  },
  {
   "cell_type": "code",
   "execution_count": 28,
   "metadata": {
    "ExecuteTime": {
     "end_time": "2020-10-28T20:10:57.748452Z",
     "start_time": "2020-10-28T20:10:57.601168Z"
    },
    "_uuid": "833279d91e4286065968237fb5f2a0c2dd4d246c"
   },
   "outputs": [],
   "source": [
    "embedding_layer = Embedding(vocab_size, W2V_SIZE, weights=[embedding_matrix], input_length=SEQUENCE_LENGTH, trainable=False)"
   ]
  },
  {
   "cell_type": "markdown",
   "metadata": {
    "_uuid": "b299ef78f94c2085942c993a2d58753a7476305a"
   },
   "source": [
    "### Build Model"
   ]
  },
  {
   "cell_type": "code",
   "execution_count": 29,
   "metadata": {
    "ExecuteTime": {
     "end_time": "2020-10-28T20:11:01.109503Z",
     "start_time": "2020-10-28T20:10:57.751431Z"
    },
    "_uuid": "e775ef4f1b74e6412457181383c39f2df554ef3f"
   },
   "outputs": [
    {
     "name": "stdout",
     "output_type": "stream",
     "text": [
      "Model: \"sequential\"\n",
      "_________________________________________________________________\n",
      "Layer (type)                 Output Shape              Param #   \n",
      "=================================================================\n",
      "embedding (Embedding)        (None, 300, 300)          87125700  \n",
      "_________________________________________________________________\n",
      "dropout (Dropout)            (None, 300, 300)          0         \n",
      "_________________________________________________________________\n",
      "lstm (LSTM)                  (None, 100)               160400    \n",
      "_________________________________________________________________\n",
      "dense (Dense)                (None, 1)                 101       \n",
      "=================================================================\n",
      "Total params: 87,286,201\n",
      "Trainable params: 160,501\n",
      "Non-trainable params: 87,125,700\n",
      "_________________________________________________________________\n"
     ]
    }
   ],
   "source": [
    "model = Sequential()\n",
    "model.add(embedding_layer)\n",
    "model.add(Dropout(0.5))\n",
    "model.add(LSTM(100, dropout=0.2, recurrent_dropout=0.2))\n",
    "model.add(Dense(1, activation='sigmoid'))\n",
    "\n",
    "model.summary()"
   ]
  },
  {
   "cell_type": "markdown",
   "metadata": {
    "_uuid": "28d22eafd0c7d798dcf3d742bc92fb8577939e6c"
   },
   "source": [
    "### Compile model"
   ]
  },
  {
   "cell_type": "code",
   "execution_count": 30,
   "metadata": {
    "ExecuteTime": {
     "end_time": "2020-10-28T20:11:01.137907Z",
     "start_time": "2020-10-28T20:11:01.112456Z"
    },
    "_uuid": "1331e08d590bb2aa2033706c8faca217afc0f1c3"
   },
   "outputs": [],
   "source": [
    "model.compile(loss='binary_crossentropy',\n",
    "              optimizer=\"adam\",\n",
    "              metrics=['accuracy'])"
   ]
  },
  {
   "cell_type": "markdown",
   "metadata": {
    "_uuid": "c7733127cb8b380e0c807268903bf4d03ef92542"
   },
   "source": [
    "### Callbacks"
   ]
  },
  {
   "cell_type": "code",
   "execution_count": 31,
   "metadata": {
    "ExecuteTime": {
     "end_time": "2020-10-28T20:11:01.259247Z",
     "start_time": "2020-10-28T20:11:01.156557Z"
    },
    "_uuid": "a688df590386f5748da6fe00b01904fe6c71619e"
   },
   "outputs": [],
   "source": [
    "callbacks = [ ReduceLROnPlateau(monitor='val_loss', patience=5, cooldown=0),\n",
    "              EarlyStopping(monitor='val_acc', min_delta=1e-4, patience=5)]"
   ]
  },
  {
   "cell_type": "markdown",
   "metadata": {
    "_uuid": "8d0873633dd49179c8cae17377641b97d323ef3b"
   },
   "source": [
    "### Train"
   ]
  },
  {
   "cell_type": "code",
   "execution_count": 32,
   "metadata": {
    "ExecuteTime": {
     "end_time": "2020-10-29T18:02:56.683603Z",
     "start_time": "2020-10-28T20:11:01.265782Z"
    },
    "_uuid": "2b659d390c6577dc5cdb6b6297934279b4e801d5"
   },
   "outputs": [
    {
     "name": "stdout",
     "output_type": "stream",
     "text": [
      "Epoch 1/8\n",
      "1125/1125 [==============================] - ETA: 0s - loss: 0.5032 - accuracy: 0.7509  WARNING:tensorflow:Early stopping conditioned on metric `val_acc` which is not available. Available metrics are: loss,accuracy,val_loss,val_accuracy,lr\n"
     ]
    },
    {
     "name": "stderr",
     "output_type": "stream",
     "text": [
      "2020-10-29 12:26:54,395 : WARNING : Early stopping conditioned on metric `val_acc` which is not available. Available metrics are: loss,accuracy,val_loss,val_accuracy,lr\n"
     ]
    },
    {
     "name": "stdout",
     "output_type": "stream",
     "text": [
      "1125/1125 [==============================] - 72932s 65s/step - loss: 0.5032 - accuracy: 0.7509 - val_loss: 0.4684 - val_accuracy: 0.7782\n",
      "Epoch 2/8\n",
      " 754/1125 [===================>..........] - ETA: 47:03 - loss: 0.4788 - accuracy: 0.7675"
     ]
    },
    {
     "ename": "KeyboardInterrupt",
     "evalue": "",
     "output_type": "error",
     "traceback": [
      "\u001b[0;31m---------------------------------------------------------------------------\u001b[0m",
      "\u001b[0;31mKeyboardInterrupt\u001b[0m                         Traceback (most recent call last)",
      "\u001b[0;32m<timed exec>\u001b[0m in \u001b[0;36m<module>\u001b[0;34m\u001b[0m\n",
      "\u001b[0;32m/Applications/anaconda3/lib/python3.7/site-packages/tensorflow/python/keras/engine/training.py\u001b[0m in \u001b[0;36m_method_wrapper\u001b[0;34m(self, *args, **kwargs)\u001b[0m\n\u001b[1;32m    106\u001b[0m   \u001b[0;32mdef\u001b[0m \u001b[0m_method_wrapper\u001b[0m\u001b[0;34m(\u001b[0m\u001b[0mself\u001b[0m\u001b[0;34m,\u001b[0m \u001b[0;34m*\u001b[0m\u001b[0margs\u001b[0m\u001b[0;34m,\u001b[0m \u001b[0;34m**\u001b[0m\u001b[0mkwargs\u001b[0m\u001b[0;34m)\u001b[0m\u001b[0;34m:\u001b[0m\u001b[0;34m\u001b[0m\u001b[0;34m\u001b[0m\u001b[0m\n\u001b[1;32m    107\u001b[0m     \u001b[0;32mif\u001b[0m \u001b[0;32mnot\u001b[0m \u001b[0mself\u001b[0m\u001b[0;34m.\u001b[0m\u001b[0m_in_multi_worker_mode\u001b[0m\u001b[0;34m(\u001b[0m\u001b[0;34m)\u001b[0m\u001b[0;34m:\u001b[0m  \u001b[0;31m# pylint: disable=protected-access\u001b[0m\u001b[0;34m\u001b[0m\u001b[0;34m\u001b[0m\u001b[0m\n\u001b[0;32m--> 108\u001b[0;31m       \u001b[0;32mreturn\u001b[0m \u001b[0mmethod\u001b[0m\u001b[0;34m(\u001b[0m\u001b[0mself\u001b[0m\u001b[0;34m,\u001b[0m \u001b[0;34m*\u001b[0m\u001b[0margs\u001b[0m\u001b[0;34m,\u001b[0m \u001b[0;34m**\u001b[0m\u001b[0mkwargs\u001b[0m\u001b[0;34m)\u001b[0m\u001b[0;34m\u001b[0m\u001b[0;34m\u001b[0m\u001b[0m\n\u001b[0m\u001b[1;32m    109\u001b[0m \u001b[0;34m\u001b[0m\u001b[0m\n\u001b[1;32m    110\u001b[0m     \u001b[0;31m# Running inside `run_distribute_coordinator` already.\u001b[0m\u001b[0;34m\u001b[0m\u001b[0;34m\u001b[0m\u001b[0;34m\u001b[0m\u001b[0m\n",
      "\u001b[0;32m/Applications/anaconda3/lib/python3.7/site-packages/tensorflow/python/keras/engine/training.py\u001b[0m in \u001b[0;36mfit\u001b[0;34m(self, x, y, batch_size, epochs, verbose, callbacks, validation_split, validation_data, shuffle, class_weight, sample_weight, initial_epoch, steps_per_epoch, validation_steps, validation_batch_size, validation_freq, max_queue_size, workers, use_multiprocessing)\u001b[0m\n\u001b[1;32m   1096\u001b[0m                 batch_size=batch_size):\n\u001b[1;32m   1097\u001b[0m               \u001b[0mcallbacks\u001b[0m\u001b[0;34m.\u001b[0m\u001b[0mon_train_batch_begin\u001b[0m\u001b[0;34m(\u001b[0m\u001b[0mstep\u001b[0m\u001b[0;34m)\u001b[0m\u001b[0;34m\u001b[0m\u001b[0;34m\u001b[0m\u001b[0m\n\u001b[0;32m-> 1098\u001b[0;31m               \u001b[0mtmp_logs\u001b[0m \u001b[0;34m=\u001b[0m \u001b[0mtrain_function\u001b[0m\u001b[0;34m(\u001b[0m\u001b[0miterator\u001b[0m\u001b[0;34m)\u001b[0m\u001b[0;34m\u001b[0m\u001b[0;34m\u001b[0m\u001b[0m\n\u001b[0m\u001b[1;32m   1099\u001b[0m               \u001b[0;32mif\u001b[0m \u001b[0mdata_handler\u001b[0m\u001b[0;34m.\u001b[0m\u001b[0mshould_sync\u001b[0m\u001b[0;34m:\u001b[0m\u001b[0;34m\u001b[0m\u001b[0;34m\u001b[0m\u001b[0m\n\u001b[1;32m   1100\u001b[0m                 \u001b[0mcontext\u001b[0m\u001b[0;34m.\u001b[0m\u001b[0masync_wait\u001b[0m\u001b[0;34m(\u001b[0m\u001b[0;34m)\u001b[0m\u001b[0;34m\u001b[0m\u001b[0;34m\u001b[0m\u001b[0m\n",
      "\u001b[0;32m/Applications/anaconda3/lib/python3.7/site-packages/tensorflow/python/eager/def_function.py\u001b[0m in \u001b[0;36m__call__\u001b[0;34m(self, *args, **kwds)\u001b[0m\n\u001b[1;32m    778\u001b[0m       \u001b[0;32melse\u001b[0m\u001b[0;34m:\u001b[0m\u001b[0;34m\u001b[0m\u001b[0;34m\u001b[0m\u001b[0m\n\u001b[1;32m    779\u001b[0m         \u001b[0mcompiler\u001b[0m \u001b[0;34m=\u001b[0m \u001b[0;34m\"nonXla\"\u001b[0m\u001b[0;34m\u001b[0m\u001b[0;34m\u001b[0m\u001b[0m\n\u001b[0;32m--> 780\u001b[0;31m         \u001b[0mresult\u001b[0m \u001b[0;34m=\u001b[0m \u001b[0mself\u001b[0m\u001b[0;34m.\u001b[0m\u001b[0m_call\u001b[0m\u001b[0;34m(\u001b[0m\u001b[0;34m*\u001b[0m\u001b[0margs\u001b[0m\u001b[0;34m,\u001b[0m \u001b[0;34m**\u001b[0m\u001b[0mkwds\u001b[0m\u001b[0;34m)\u001b[0m\u001b[0;34m\u001b[0m\u001b[0;34m\u001b[0m\u001b[0m\n\u001b[0m\u001b[1;32m    781\u001b[0m \u001b[0;34m\u001b[0m\u001b[0m\n\u001b[1;32m    782\u001b[0m       \u001b[0mnew_tracing_count\u001b[0m \u001b[0;34m=\u001b[0m \u001b[0mself\u001b[0m\u001b[0;34m.\u001b[0m\u001b[0m_get_tracing_count\u001b[0m\u001b[0;34m(\u001b[0m\u001b[0;34m)\u001b[0m\u001b[0;34m\u001b[0m\u001b[0;34m\u001b[0m\u001b[0m\n",
      "\u001b[0;32m/Applications/anaconda3/lib/python3.7/site-packages/tensorflow/python/eager/def_function.py\u001b[0m in \u001b[0;36m_call\u001b[0;34m(self, *args, **kwds)\u001b[0m\n\u001b[1;32m    805\u001b[0m       \u001b[0;31m# In this case we have created variables on the first call, so we run the\u001b[0m\u001b[0;34m\u001b[0m\u001b[0;34m\u001b[0m\u001b[0;34m\u001b[0m\u001b[0m\n\u001b[1;32m    806\u001b[0m       \u001b[0;31m# defunned version which is guaranteed to never create variables.\u001b[0m\u001b[0;34m\u001b[0m\u001b[0;34m\u001b[0m\u001b[0;34m\u001b[0m\u001b[0m\n\u001b[0;32m--> 807\u001b[0;31m       \u001b[0;32mreturn\u001b[0m \u001b[0mself\u001b[0m\u001b[0;34m.\u001b[0m\u001b[0m_stateless_fn\u001b[0m\u001b[0;34m(\u001b[0m\u001b[0;34m*\u001b[0m\u001b[0margs\u001b[0m\u001b[0;34m,\u001b[0m \u001b[0;34m**\u001b[0m\u001b[0mkwds\u001b[0m\u001b[0;34m)\u001b[0m  \u001b[0;31m# pylint: disable=not-callable\u001b[0m\u001b[0;34m\u001b[0m\u001b[0;34m\u001b[0m\u001b[0m\n\u001b[0m\u001b[1;32m    808\u001b[0m     \u001b[0;32melif\u001b[0m \u001b[0mself\u001b[0m\u001b[0;34m.\u001b[0m\u001b[0m_stateful_fn\u001b[0m \u001b[0;32mis\u001b[0m \u001b[0;32mnot\u001b[0m \u001b[0;32mNone\u001b[0m\u001b[0;34m:\u001b[0m\u001b[0;34m\u001b[0m\u001b[0;34m\u001b[0m\u001b[0m\n\u001b[1;32m    809\u001b[0m       \u001b[0;31m# Release the lock early so that multiple threads can perform the call\u001b[0m\u001b[0;34m\u001b[0m\u001b[0;34m\u001b[0m\u001b[0;34m\u001b[0m\u001b[0m\n",
      "\u001b[0;32m/Applications/anaconda3/lib/python3.7/site-packages/tensorflow/python/eager/function.py\u001b[0m in \u001b[0;36m__call__\u001b[0;34m(self, *args, **kwargs)\u001b[0m\n\u001b[1;32m   2827\u001b[0m     \u001b[0;32mwith\u001b[0m \u001b[0mself\u001b[0m\u001b[0;34m.\u001b[0m\u001b[0m_lock\u001b[0m\u001b[0;34m:\u001b[0m\u001b[0;34m\u001b[0m\u001b[0;34m\u001b[0m\u001b[0m\n\u001b[1;32m   2828\u001b[0m       \u001b[0mgraph_function\u001b[0m\u001b[0;34m,\u001b[0m \u001b[0margs\u001b[0m\u001b[0;34m,\u001b[0m \u001b[0mkwargs\u001b[0m \u001b[0;34m=\u001b[0m \u001b[0mself\u001b[0m\u001b[0;34m.\u001b[0m\u001b[0m_maybe_define_function\u001b[0m\u001b[0;34m(\u001b[0m\u001b[0margs\u001b[0m\u001b[0;34m,\u001b[0m \u001b[0mkwargs\u001b[0m\u001b[0;34m)\u001b[0m\u001b[0;34m\u001b[0m\u001b[0;34m\u001b[0m\u001b[0m\n\u001b[0;32m-> 2829\u001b[0;31m     \u001b[0;32mreturn\u001b[0m \u001b[0mgraph_function\u001b[0m\u001b[0;34m.\u001b[0m\u001b[0m_filtered_call\u001b[0m\u001b[0;34m(\u001b[0m\u001b[0margs\u001b[0m\u001b[0;34m,\u001b[0m \u001b[0mkwargs\u001b[0m\u001b[0;34m)\u001b[0m  \u001b[0;31m# pylint: disable=protected-access\u001b[0m\u001b[0;34m\u001b[0m\u001b[0;34m\u001b[0m\u001b[0m\n\u001b[0m\u001b[1;32m   2830\u001b[0m \u001b[0;34m\u001b[0m\u001b[0m\n\u001b[1;32m   2831\u001b[0m   \u001b[0;34m@\u001b[0m\u001b[0mproperty\u001b[0m\u001b[0;34m\u001b[0m\u001b[0;34m\u001b[0m\u001b[0m\n",
      "\u001b[0;32m/Applications/anaconda3/lib/python3.7/site-packages/tensorflow/python/eager/function.py\u001b[0m in \u001b[0;36m_filtered_call\u001b[0;34m(self, args, kwargs, cancellation_manager)\u001b[0m\n\u001b[1;32m   1846\u001b[0m                            resource_variable_ops.BaseResourceVariable))],\n\u001b[1;32m   1847\u001b[0m         \u001b[0mcaptured_inputs\u001b[0m\u001b[0;34m=\u001b[0m\u001b[0mself\u001b[0m\u001b[0;34m.\u001b[0m\u001b[0mcaptured_inputs\u001b[0m\u001b[0;34m,\u001b[0m\u001b[0;34m\u001b[0m\u001b[0;34m\u001b[0m\u001b[0m\n\u001b[0;32m-> 1848\u001b[0;31m         cancellation_manager=cancellation_manager)\n\u001b[0m\u001b[1;32m   1849\u001b[0m \u001b[0;34m\u001b[0m\u001b[0m\n\u001b[1;32m   1850\u001b[0m   \u001b[0;32mdef\u001b[0m \u001b[0m_call_flat\u001b[0m\u001b[0;34m(\u001b[0m\u001b[0mself\u001b[0m\u001b[0;34m,\u001b[0m \u001b[0margs\u001b[0m\u001b[0;34m,\u001b[0m \u001b[0mcaptured_inputs\u001b[0m\u001b[0;34m,\u001b[0m \u001b[0mcancellation_manager\u001b[0m\u001b[0;34m=\u001b[0m\u001b[0;32mNone\u001b[0m\u001b[0;34m)\u001b[0m\u001b[0;34m:\u001b[0m\u001b[0;34m\u001b[0m\u001b[0;34m\u001b[0m\u001b[0m\n",
      "\u001b[0;32m/Applications/anaconda3/lib/python3.7/site-packages/tensorflow/python/eager/function.py\u001b[0m in \u001b[0;36m_call_flat\u001b[0;34m(self, args, captured_inputs, cancellation_manager)\u001b[0m\n\u001b[1;32m   1922\u001b[0m       \u001b[0;31m# No tape is watching; skip to running the function.\u001b[0m\u001b[0;34m\u001b[0m\u001b[0;34m\u001b[0m\u001b[0;34m\u001b[0m\u001b[0m\n\u001b[1;32m   1923\u001b[0m       return self._build_call_outputs(self._inference_function.call(\n\u001b[0;32m-> 1924\u001b[0;31m           ctx, args, cancellation_manager=cancellation_manager))\n\u001b[0m\u001b[1;32m   1925\u001b[0m     forward_backward = self._select_forward_and_backward_functions(\n\u001b[1;32m   1926\u001b[0m         \u001b[0margs\u001b[0m\u001b[0;34m,\u001b[0m\u001b[0;34m\u001b[0m\u001b[0;34m\u001b[0m\u001b[0m\n",
      "\u001b[0;32m/Applications/anaconda3/lib/python3.7/site-packages/tensorflow/python/eager/function.py\u001b[0m in \u001b[0;36mcall\u001b[0;34m(self, ctx, args, cancellation_manager)\u001b[0m\n\u001b[1;32m    548\u001b[0m               \u001b[0minputs\u001b[0m\u001b[0;34m=\u001b[0m\u001b[0margs\u001b[0m\u001b[0;34m,\u001b[0m\u001b[0;34m\u001b[0m\u001b[0;34m\u001b[0m\u001b[0m\n\u001b[1;32m    549\u001b[0m               \u001b[0mattrs\u001b[0m\u001b[0;34m=\u001b[0m\u001b[0mattrs\u001b[0m\u001b[0;34m,\u001b[0m\u001b[0;34m\u001b[0m\u001b[0;34m\u001b[0m\u001b[0m\n\u001b[0;32m--> 550\u001b[0;31m               ctx=ctx)\n\u001b[0m\u001b[1;32m    551\u001b[0m         \u001b[0;32melse\u001b[0m\u001b[0;34m:\u001b[0m\u001b[0;34m\u001b[0m\u001b[0;34m\u001b[0m\u001b[0m\n\u001b[1;32m    552\u001b[0m           outputs = execute.execute_with_cancellation(\n",
      "\u001b[0;32m/Applications/anaconda3/lib/python3.7/site-packages/tensorflow/python/eager/execute.py\u001b[0m in \u001b[0;36mquick_execute\u001b[0;34m(op_name, num_outputs, inputs, attrs, ctx, name)\u001b[0m\n\u001b[1;32m     58\u001b[0m     \u001b[0mctx\u001b[0m\u001b[0;34m.\u001b[0m\u001b[0mensure_initialized\u001b[0m\u001b[0;34m(\u001b[0m\u001b[0;34m)\u001b[0m\u001b[0;34m\u001b[0m\u001b[0;34m\u001b[0m\u001b[0m\n\u001b[1;32m     59\u001b[0m     tensors = pywrap_tfe.TFE_Py_Execute(ctx._handle, device_name, op_name,\n\u001b[0;32m---> 60\u001b[0;31m                                         inputs, attrs, num_outputs)\n\u001b[0m\u001b[1;32m     61\u001b[0m   \u001b[0;32mexcept\u001b[0m \u001b[0mcore\u001b[0m\u001b[0;34m.\u001b[0m\u001b[0m_NotOkStatusException\u001b[0m \u001b[0;32mas\u001b[0m \u001b[0me\u001b[0m\u001b[0;34m:\u001b[0m\u001b[0;34m\u001b[0m\u001b[0;34m\u001b[0m\u001b[0m\n\u001b[1;32m     62\u001b[0m     \u001b[0;32mif\u001b[0m \u001b[0mname\u001b[0m \u001b[0;32mis\u001b[0m \u001b[0;32mnot\u001b[0m \u001b[0;32mNone\u001b[0m\u001b[0;34m:\u001b[0m\u001b[0;34m\u001b[0m\u001b[0;34m\u001b[0m\u001b[0m\n",
      "\u001b[0;31mKeyboardInterrupt\u001b[0m: "
     ]
    }
   ],
   "source": [
    "%%time\n",
    "history = model.fit(x_train, y_train,\n",
    "                    batch_size=BATCH_SIZE,\n",
    "                    epochs=EPOCHS,\n",
    "                    validation_split=0.1,\n",
    "                    verbose=1,\n",
    "                    callbacks=callbacks)"
   ]
  },
  {
   "cell_type": "markdown",
   "metadata": {
    "_uuid": "267258196d96796ac69a7b8c466314bcf5d6ee42"
   },
   "source": [
    "### Evaluate"
   ]
  },
  {
   "cell_type": "code",
   "execution_count": null,
   "metadata": {
    "ExecuteTime": {
     "start_time": "2020-10-28T19:58:15.140Z"
    },
    "_uuid": "98ecd8f1b8b74594c3ea775dd68a094e92458022"
   },
   "outputs": [
    {
     "name": "stdout",
     "output_type": "stream",
     "text": [
      "\r",
      "  1/125 [..............................] - ETA: 0s - loss: 0.4698 - accuracy: 0.7705"
     ]
    }
   ],
   "source": [
    "%%time\n",
    "score = model.evaluate(x_test, y_test, batch_size=BATCH_SIZE)\n",
    "print()\n",
    "print(\"ACCURACY:\",score[1])\n",
    "print(\"LOSS:\",score[0])"
   ]
  },
  {
   "cell_type": "code",
   "execution_count": null,
   "metadata": {
    "ExecuteTime": {
     "start_time": "2020-10-28T19:58:15.142Z"
    },
    "_uuid": "40c72cd1e9d6c4fd799cbba7c813765ac4039dfc"
   },
   "outputs": [],
   "source": [
    "acc = history.history['acc']\n",
    "val_acc = history.history['val_acc']\n",
    "loss = history.history['loss']\n",
    "val_loss = history.history['val_loss']\n",
    " \n",
    "epochs = range(len(acc))\n",
    " \n",
    "plt.plot(epochs, acc, 'b', label='Training acc')\n",
    "plt.plot(epochs, val_acc, 'r', label='Validation acc')\n",
    "plt.title('Training and validation accuracy')\n",
    "plt.legend()\n",
    " \n",
    "plt.figure()\n",
    " \n",
    "plt.plot(epochs, loss, 'b', label='Training loss')\n",
    "plt.plot(epochs, val_loss, 'r', label='Validation loss')\n",
    "plt.title('Training and validation loss')\n",
    "plt.legend()\n",
    " \n",
    "plt.show()"
   ]
  },
  {
   "cell_type": "markdown",
   "metadata": {
    "_uuid": "6bdfc0f6a6af5bebc0271d83dd7432c91001409b"
   },
   "source": [
    "### Predict"
   ]
  },
  {
   "cell_type": "code",
   "execution_count": null,
   "metadata": {
    "ExecuteTime": {
     "start_time": "2020-10-28T19:58:15.144Z"
    },
    "_uuid": "f0b0fa3d4b1bb14b3f5e3d169a369f3ebef29ae1"
   },
   "outputs": [],
   "source": [
    "def decode_sentiment(score, include_neutral=True):\n",
    "    if include_neutral:        \n",
    "        label = NEUTRAL\n",
    "        if score <= SENTIMENT_THRESHOLDS[0]:\n",
    "            label = NEGATIVE\n",
    "        elif score >= SENTIMENT_THRESHOLDS[1]:\n",
    "            label = POSITIVE\n",
    "\n",
    "        return label\n",
    "    else:\n",
    "        return NEGATIVE if score < 0.5 else POSITIVE"
   ]
  },
  {
   "cell_type": "code",
   "execution_count": null,
   "metadata": {
    "ExecuteTime": {
     "start_time": "2020-10-28T19:58:15.146Z"
    },
    "_uuid": "ed4086d651f2f8cbed11d3c909a8873607d29a06"
   },
   "outputs": [],
   "source": [
    "def predict(text, include_neutral=True):\n",
    "    start_at = time.time()\n",
    "    # Tokenize text\n",
    "    x_test = pad_sequences(tokenizer.texts_to_sequences([text]), maxlen=SEQUENCE_LENGTH)\n",
    "    # Predict\n",
    "    score = model.predict([x_test])[0]\n",
    "    # Decode sentiment\n",
    "    label = decode_sentiment(score, include_neutral=include_neutral)\n",
    "\n",
    "    return {\"label\": label, \"score\": float(score),\n",
    "       \"elapsed_time\": time.time()-start_at}  "
   ]
  },
  {
   "cell_type": "code",
   "execution_count": null,
   "metadata": {
    "ExecuteTime": {
     "start_time": "2020-10-28T19:58:15.148Z"
    },
    "_uuid": "ca38b1e6c9b5acfed7467de2cf02a78333108872"
   },
   "outputs": [],
   "source": [
    "predict(\"I love the music\")"
   ]
  },
  {
   "cell_type": "code",
   "execution_count": null,
   "metadata": {
    "ExecuteTime": {
     "start_time": "2020-10-28T19:58:15.158Z"
    },
    "_uuid": "0e5fe647533be0148850de349fea6ef6f71303d1"
   },
   "outputs": [],
   "source": [
    "predict(\"I hate the rain\")"
   ]
  },
  {
   "cell_type": "code",
   "execution_count": null,
   "metadata": {
    "ExecuteTime": {
     "start_time": "2020-10-28T19:58:15.164Z"
    },
    "_uuid": "37064dffcc8920d34ccd54fac7c8b50e583a8269"
   },
   "outputs": [],
   "source": [
    "predict(\"i don't know what i'm doing\")"
   ]
  },
  {
   "cell_type": "markdown",
   "metadata": {
    "_uuid": "3ee72e47f84b6dbc32e02a783de5ec1661f157e1"
   },
   "source": [
    "### Confusion Matrix"
   ]
  },
  {
   "cell_type": "code",
   "execution_count": null,
   "metadata": {
    "ExecuteTime": {
     "start_time": "2020-10-28T19:58:15.166Z"
    },
    "_uuid": "0e920173eb05f04aecdd735bc5dff0f5be5f8d15"
   },
   "outputs": [],
   "source": [
    "%%time\n",
    "y_pred_1d = []\n",
    "y_test_1d = list(df_test.target)\n",
    "scores = model.predict(x_test, verbose=1, batch_size=8000)\n",
    "y_pred_1d = [decode_sentiment(score, include_neutral=False) for score in scores]"
   ]
  },
  {
   "cell_type": "code",
   "execution_count": null,
   "metadata": {
    "ExecuteTime": {
     "start_time": "2020-10-28T19:58:15.168Z"
    },
    "_uuid": "b3575191bb425ab871f3f41e83812ee84bb7e595"
   },
   "outputs": [],
   "source": [
    "def plot_confusion_matrix(cm, classes,\n",
    "                          title='Confusion matrix',\n",
    "                          cmap=plt.cm.Blues):\n",
    "    \"\"\"\n",
    "    This function prints and plots the confusion matrix.\n",
    "    Normalization can be applied by setting `normalize=True`.\n",
    "    \"\"\"\n",
    "\n",
    "    cm = cm.astype('float') / cm.sum(axis=1)[:, np.newaxis]\n",
    "\n",
    "    plt.imshow(cm, interpolation='nearest', cmap=cmap)\n",
    "    plt.title(title, fontsize=30)\n",
    "    plt.colorbar()\n",
    "    tick_marks = np.arange(len(classes))\n",
    "    plt.xticks(tick_marks, classes, rotation=90, fontsize=22)\n",
    "    plt.yticks(tick_marks, classes, fontsize=22)\n",
    "\n",
    "    fmt = '.2f'\n",
    "    thresh = cm.max() / 2.\n",
    "    for i, j in itertools.product(range(cm.shape[0]), range(cm.shape[1])):\n",
    "        plt.text(j, i, format(cm[i, j], fmt),\n",
    "                 horizontalalignment=\"center\",\n",
    "                 color=\"white\" if cm[i, j] > thresh else \"black\")\n",
    "\n",
    "    plt.ylabel('True label', fontsize=25)\n",
    "    plt.xlabel('Predicted label', fontsize=25)"
   ]
  },
  {
   "cell_type": "code",
   "execution_count": null,
   "metadata": {
    "ExecuteTime": {
     "start_time": "2020-10-28T19:58:15.173Z"
    },
    "_uuid": "a57dc6f6211c144491a70f533225edfa95a2dc66"
   },
   "outputs": [],
   "source": [
    "%%time\n",
    "\n",
    "cnf_matrix = confusion_matrix(y_test_1d, y_pred_1d)\n",
    "plt.figure(figsize=(12,12))\n",
    "plot_confusion_matrix(cnf_matrix, classes=df_train.target.unique(), title=\"Confusion matrix\")\n",
    "plt.show()"
   ]
  },
  {
   "cell_type": "markdown",
   "metadata": {
    "_uuid": "e23b957348dcc084249d3cc7538b972da471c2cd"
   },
   "source": [
    "### Classification Report"
   ]
  },
  {
   "cell_type": "code",
   "execution_count": null,
   "metadata": {
    "ExecuteTime": {
     "start_time": "2020-10-28T19:58:15.176Z"
    },
    "_uuid": "a7fe05b7caa1c984ff1deb0be2f7c6bc043df9f5"
   },
   "outputs": [],
   "source": [
    "print(classification_report(y_test_1d, y_pred_1d))"
   ]
  },
  {
   "cell_type": "markdown",
   "metadata": {
    "_uuid": "4eb300f0c6693a618587c7dcf32f77f5416cbfb9"
   },
   "source": [
    "### Accuracy Score"
   ]
  },
  {
   "cell_type": "code",
   "execution_count": null,
   "metadata": {
    "ExecuteTime": {
     "start_time": "2020-10-28T19:58:15.179Z"
    },
    "_uuid": "5cf76e6e09f8a60ed25947932b94c772eda44d23"
   },
   "outputs": [],
   "source": [
    "accuracy_score(y_test_1d, y_pred_1d)"
   ]
  },
  {
   "cell_type": "markdown",
   "metadata": {
    "_uuid": "4f014c32f3833db282e1a075c526604f34e3158c"
   },
   "source": [
    "### Save model"
   ]
  },
  {
   "cell_type": "code",
   "execution_count": null,
   "metadata": {
    "ExecuteTime": {
     "start_time": "2020-10-28T19:58:15.181Z"
    },
    "_uuid": "3b2b3ad5b592977b404acfa1c9ad303a62837255"
   },
   "outputs": [],
   "source": [
    "model.save(KERAS_MODEL)\n",
    "w2v_model.save(WORD2VEC_MODEL)\n",
    "pickle.dump(tokenizer, open(TOKENIZER_MODEL, \"wb\"), protocol=0)\n",
    "pickle.dump(encoder, open(ENCODER_MODEL, \"wb\"), protocol=0)"
   ]
  },
  {
   "cell_type": "code",
   "execution_count": null,
   "metadata": {
    "_uuid": "cc363c54782894757f5ea8820c6a170f2e16ef93"
   },
   "outputs": [],
   "source": []
  }
 ],
 "metadata": {
  "kernelspec": {
   "display_name": "Python 3",
   "language": "python",
   "name": "python3"
  },
  "language_info": {
   "codemirror_mode": {
    "name": "ipython",
    "version": 3
   },
   "file_extension": ".py",
   "mimetype": "text/x-python",
   "name": "python",
   "nbconvert_exporter": "python",
   "pygments_lexer": "ipython3",
   "version": "3.7.3"
  },
  "toc": {
   "base_numbering": 1,
   "nav_menu": {},
   "number_sections": true,
   "sideBar": true,
   "skip_h1_title": true,
   "title_cell": "Table of Contents",
   "title_sidebar": "Contents",
   "toc_cell": false,
   "toc_position": {},
   "toc_section_display": true,
   "toc_window_display": true
  },
  "varInspector": {
   "cols": {
    "lenName": 16,
    "lenType": 16,
    "lenVar": 40
   },
   "kernels_config": {
    "python": {
     "delete_cmd_postfix": "",
     "delete_cmd_prefix": "del ",
     "library": "var_list.py",
     "varRefreshCmd": "print(var_dic_list())"
    },
    "r": {
     "delete_cmd_postfix": ") ",
     "delete_cmd_prefix": "rm(",
     "library": "var_list.r",
     "varRefreshCmd": "cat(var_dic_list()) "
    }
   },
   "position": {
    "height": "809px",
    "left": "1239px",
    "right": "20px",
    "top": "116px",
    "width": "565px"
   },
   "types_to_exclude": [
    "module",
    "function",
    "builtin_function_or_method",
    "instance",
    "_Feature"
   ],
   "window_display": false
  }
 },
 "nbformat": 4,
 "nbformat_minor": 1
}
